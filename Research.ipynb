{
  "cells": [
    {
      "cell_type": "code",
      "execution_count": 3,
      "metadata": {
        "id": "TYLuZcDMNor6"
      },
      "outputs": [
        {
          "name": "stderr",
          "output_type": "stream",
          "text": [
            "C:\\Users\\ckevi\\AppData\\Local\\Temp\\ipykernel_18256\\2856835027.py:1: DeprecationWarning: \n",
            "Pyarrow will become a required dependency of pandas in the next major release of pandas (pandas 3.0),\n",
            "(to allow more performant data types, such as the Arrow string type, and better interoperability with other libraries)\n",
            "but was not found to be installed on your system.\n",
            "If this would cause problems for you,\n",
            "please provide us feedback at https://github.com/pandas-dev/pandas/issues/54466\n",
            "        \n",
            "  import pandas as pd\n"
          ]
        },
        {
          "data": {
            "text/plain": [
              "<module 'helper' from 'c:\\\\Users\\\\ckevi\\\\OneDrive\\\\Desktop\\\\study materials\\\\Purdue\\\\Research\\\\Fairness\\\\code\\\\helper.py'>"
            ]
          },
          "execution_count": 3,
          "metadata": {},
          "output_type": "execute_result"
        }
      ],
      "source": [
        "import pandas as pd\n",
        "from sklearn.model_selection import train_test_split\n",
        "from sklearn.neighbors import KNeighborsClassifier\n",
        "from sklearn.metrics import accuracy_score\n",
        "from scipy.stats import chi2_contingency\n",
        "import numpy as np\n",
        "from sklearn.linear_model import LogisticRegression\n",
        "import sklearn\n",
        "from sklearn import linear_model\n",
        "import sklearn.preprocessing as preprocessing\n",
        "import sklearn.metrics as metrics\n",
        "import matplotlib.pyplot as plt\n",
        "from sklearn.metrics import confusion_matrix\n",
        "from mlxtend.frequent_patterns import apriori, association_rules\n",
        "import helper\n",
        "\n",
        "import importlib\n",
        "importlib.reload(helper)"
      ]
    },
    {
      "cell_type": "code",
      "execution_count": 4,
      "metadata": {
        "colab": {
          "base_uri": "https://localhost:8080/"
        },
        "id": "iaGucNXTNzZd",
        "outputId": "9f2d7fdd-696b-4a99-e8e4-59cd317d2bd5"
      },
      "outputs": [
        {
          "name": "stderr",
          "output_type": "stream",
          "text": [
            "<>:1: DeprecationWarning: invalid escape sequence '\\s'\n",
            "<>:1: DeprecationWarning: invalid escape sequence '\\s'\n",
            "C:\\Users\\ckevi\\AppData\\Local\\Temp\\ipykernel_18256\\827948084.py:1: DeprecationWarning: invalid escape sequence '\\s'\n",
            "  dirty_df = pd.read_csv('german.data', sep='\\s+', header=None,index_col=0)\n"
          ]
        }
      ],
      "source": [
        "\n",
        "dirty_df = pd.read_csv('german.data', sep='\\s+', header=None,index_col=0)\n",
        "dirty_df.to_csv('my_file.csv',header=None)"
      ]
    },
    {
      "cell_type": "code",
      "execution_count": 5,
      "metadata": {
        "colab": {
          "base_uri": "https://localhost:8080/"
        },
        "id": "RpKr47NaN4NP",
        "outputId": "2df090aa-9888-4f38-d9ee-3409ed305ff0"
      },
      "outputs": [],
      "source": [
        "dirty_df = pd.read_csv('my_file.csv')\n",
        "clean_df = pd.read_csv('Cleaned_German.csv')"
      ]
    },
    {
      "cell_type": "code",
      "execution_count": 6,
      "metadata": {
        "colab": {
          "base_uri": "https://localhost:8080/"
        },
        "id": "V3WXm2CPRBt1",
        "outputId": "09323387-20ad-41d0-efdf-65a44d20fe04"
      },
      "outputs": [],
      "source": [
        "clean_df.columns = [col.capitalize() for col in clean_df.columns]\n",
        "\n",
        "clean_df.columns = [col.replace('_', '-') for col in clean_df.columns]\n",
        "\n",
        "clean_df = clean_df.rename(columns={'Employment': 'Present-employment',\n",
        "                                    'Installment-plans': 'Other-installment',\n",
        "                                    'Savings':'Savings-account',\n",
        "                                    'Residence-since':'Present-residence'\n",
        "                                    })\n"
      ]
    },
    {
      "cell_type": "code",
      "execution_count": 7,
      "metadata": {
        "colab": {
          "base_uri": "https://localhost:8080/"
        },
        "id": "dmwvvEW_R3St",
        "outputId": "898c9789-5955-44e4-dc17-2a14dfc3c60e"
      },
      "outputs": [
        {
          "name": "stderr",
          "output_type": "stream",
          "text": [
            "c:\\Users\\ckevi\\OneDrive\\Desktop\\study materials\\Purdue\\Research\\Fairness\\code\\helper.py:55: FutureWarning: Downcasting behavior in `replace` is deprecated and will be removed in a future version. To retain the old behavior, explicitly call `result.infer_objects(copy=False)`. To opt-in to the future behavior, set `pd.set_option('future.no_silent_downcasting', True)`\n",
            "  df[column] = df[column].replace(mapping)\n"
          ]
        },
        {
          "data": {
            "text/html": [
              "<div>\n",
              "<style scoped>\n",
              "    .dataframe tbody tr th:only-of-type {\n",
              "        vertical-align: middle;\n",
              "    }\n",
              "\n",
              "    .dataframe tbody tr th {\n",
              "        vertical-align: top;\n",
              "    }\n",
              "\n",
              "    .dataframe thead th {\n",
              "        text-align: right;\n",
              "    }\n",
              "</style>\n",
              "<table border=\"1\" class=\"dataframe\">\n",
              "  <thead>\n",
              "    <tr style=\"text-align: right;\">\n",
              "      <th></th>\n",
              "      <th>Month</th>\n",
              "      <th>Credit-amount</th>\n",
              "      <th>Investment-as-income-percentage</th>\n",
              "      <th>Present-residence</th>\n",
              "      <th>Age</th>\n",
              "      <th>Number-of-credits</th>\n",
              "      <th>People-liable-for</th>\n",
              "      <th>Sex</th>\n",
              "      <th>Status</th>\n",
              "      <th>Housing</th>\n",
              "      <th>Skill-level</th>\n",
              "      <th>Telephone</th>\n",
              "      <th>Foreign-worker</th>\n",
              "      <th>Other-installment</th>\n",
              "      <th>Other-debtors</th>\n",
              "      <th>Credit-history</th>\n",
              "      <th>Purpose</th>\n",
              "      <th>Savings-account</th>\n",
              "      <th>Present-employment</th>\n",
              "      <th>Property</th>\n",
              "    </tr>\n",
              "  </thead>\n",
              "  <tbody>\n",
              "    <tr>\n",
              "      <th>0</th>\n",
              "      <td>14</td>\n",
              "      <td>1</td>\n",
              "      <td>4</td>\n",
              "      <td>4</td>\n",
              "      <td>1</td>\n",
              "      <td>1</td>\n",
              "      <td>1</td>\n",
              "      <td>0</td>\n",
              "      <td>4</td>\n",
              "      <td>1</td>\n",
              "      <td>2</td>\n",
              "      <td>1</td>\n",
              "      <td>1</td>\n",
              "      <td>3</td>\n",
              "      <td>1</td>\n",
              "      <td>3</td>\n",
              "      <td>3</td>\n",
              "      <td>3</td>\n",
              "      <td>3</td>\n",
              "      <td>3</td>\n",
              "    </tr>\n",
              "    <tr>\n",
              "      <th>1</th>\n",
              "      <td>43</td>\n",
              "      <td>4</td>\n",
              "      <td>4</td>\n",
              "      <td>4</td>\n",
              "      <td>1</td>\n",
              "      <td>2</td>\n",
              "      <td>1</td>\n",
              "      <td>1</td>\n",
              "      <td>1</td>\n",
              "      <td>3</td>\n",
              "      <td>3</td>\n",
              "      <td>2</td>\n",
              "      <td>1</td>\n",
              "      <td>3</td>\n",
              "      <td>1</td>\n",
              "      <td>5</td>\n",
              "      <td>2</td>\n",
              "      <td>1</td>\n",
              "      <td>5</td>\n",
              "      <td>4</td>\n",
              "    </tr>\n",
              "    <tr>\n",
              "      <th>2</th>\n",
              "      <td>28</td>\n",
              "      <td>2</td>\n",
              "      <td>4</td>\n",
              "      <td>2</td>\n",
              "      <td>1</td>\n",
              "      <td>1</td>\n",
              "      <td>1</td>\n",
              "      <td>0</td>\n",
              "      <td>3</td>\n",
              "      <td>3</td>\n",
              "      <td>3</td>\n",
              "      <td>2</td>\n",
              "      <td>1</td>\n",
              "      <td>3</td>\n",
              "      <td>1</td>\n",
              "      <td>3</td>\n",
              "      <td>4</td>\n",
              "      <td>2</td>\n",
              "      <td>5</td>\n",
              "      <td>4</td>\n",
              "    </tr>\n",
              "    <tr>\n",
              "      <th>3</th>\n",
              "      <td>25</td>\n",
              "      <td>2</td>\n",
              "      <td>4</td>\n",
              "      <td>2</td>\n",
              "      <td>1</td>\n",
              "      <td>2</td>\n",
              "      <td>1</td>\n",
              "      <td>1</td>\n",
              "      <td>2</td>\n",
              "      <td>2</td>\n",
              "      <td>3</td>\n",
              "      <td>1</td>\n",
              "      <td>1</td>\n",
              "      <td>2</td>\n",
              "      <td>1</td>\n",
              "      <td>4</td>\n",
              "      <td>10</td>\n",
              "      <td>2</td>\n",
              "      <td>5</td>\n",
              "      <td>2</td>\n",
              "    </tr>\n",
              "    <tr>\n",
              "      <th>4</th>\n",
              "      <td>32</td>\n",
              "      <td>3</td>\n",
              "      <td>4</td>\n",
              "      <td>1</td>\n",
              "      <td>1</td>\n",
              "      <td>1</td>\n",
              "      <td>2</td>\n",
              "      <td>0</td>\n",
              "      <td>2</td>\n",
              "      <td>2</td>\n",
              "      <td>3</td>\n",
              "      <td>2</td>\n",
              "      <td>1</td>\n",
              "      <td>3</td>\n",
              "      <td>1</td>\n",
              "      <td>3</td>\n",
              "      <td>10</td>\n",
              "      <td>1</td>\n",
              "      <td>2</td>\n",
              "      <td>2</td>\n",
              "    </tr>\n",
              "  </tbody>\n",
              "</table>\n",
              "</div>"
            ],
            "text/plain": [
              "   Month Credit-amount  Investment-as-income-percentage  Present-residence  \\\n",
              "0     14             1                                4                  4   \n",
              "1     43             4                                4                  4   \n",
              "2     28             2                                4                  2   \n",
              "3     25             2                                4                  2   \n",
              "4     32             3                                4                  1   \n",
              "\n",
              "   Age  Number-of-credits  People-liable-for  Sex  Status  Housing  \\\n",
              "0    1                  1                  1    0       4        1   \n",
              "1    1                  2                  1    1       1        3   \n",
              "2    1                  1                  1    0       3        3   \n",
              "3    1                  2                  1    1       2        2   \n",
              "4    1                  1                  2    0       2        2   \n",
              "\n",
              "   Skill-level  Telephone  Foreign-worker  Other-installment  Other-debtors  \\\n",
              "0            2          1               1                  3              1   \n",
              "1            3          2               1                  3              1   \n",
              "2            3          2               1                  3              1   \n",
              "3            3          1               1                  2              1   \n",
              "4            3          2               1                  3              1   \n",
              "\n",
              "   Credit-history  Purpose  Savings-account  Present-employment  Property  \n",
              "0               3        3                3                   3         3  \n",
              "1               5        2                1                   5         4  \n",
              "2               3        4                2                   5         4  \n",
              "3               4       10                2                   5         2  \n",
              "4               3       10                1                   2         2  "
            ]
          },
          "execution_count": 7,
          "metadata": {},
          "output_type": "execute_result"
        }
      ],
      "source": [
        "clean_df = helper.preprocessData(clean_df,True)\n",
        "clean_df.head()"
      ]
    },
    {
      "cell_type": "code",
      "execution_count": 8,
      "metadata": {},
      "outputs": [
        {
          "data": {
            "text/plain": [
              "Age\n",
              "1    810\n",
              "0    190\n",
              "Name: count, dtype: int64"
            ]
          },
          "execution_count": 8,
          "metadata": {},
          "output_type": "execute_result"
        }
      ],
      "source": [
        "clean_df['Age'].value_counts()"
      ]
    },
    {
      "cell_type": "code",
      "execution_count": 9,
      "metadata": {
        "colab": {
          "base_uri": "https://localhost:8080/"
        },
        "id": "Y_wnGpLxN7NP",
        "outputId": "dc99edf3-88aa-44e3-ab52-12e611bf67ae"
      },
      "outputs": [
        {
          "name": "stderr",
          "output_type": "stream",
          "text": [
            "c:\\Users\\ckevi\\OneDrive\\Desktop\\study materials\\Purdue\\Research\\Fairness\\code\\helper.py:55: FutureWarning: Downcasting behavior in `replace` is deprecated and will be removed in a future version. To retain the old behavior, explicitly call `result.infer_objects(copy=False)`. To opt-in to the future behavior, set `pd.set_option('future.no_silent_downcasting', True)`\n",
            "  df[column] = df[column].replace(mapping)\n"
          ]
        }
      ],
      "source": [
        "dirty_df = helper.preprocessData(dirty_df)"
      ]
    },
    {
      "cell_type": "code",
      "execution_count": 10,
      "metadata": {
        "colab": {
          "base_uri": "https://localhost:8080/"
        },
        "id": "3hDgrZoleIhD",
        "outputId": "c58e237d-d6b8-4608-b954-319feb52dd7f"
      },
      "outputs": [],
      "source": [
        "clean_df['target']= dirty_df['target']"
      ]
    },
    {
      "cell_type": "code",
      "execution_count": 9,
      "metadata": {
        "colab": {
          "base_uri": "https://localhost:8080/"
        },
        "id": "5S-ONAJ7HM7k",
        "outputId": "434e815f-0491-4093-9078-540ba2097630"
      },
      "outputs": [
        {
          "name": "stdout",
          "output_type": "stream",
          "text": [
            "1.0 1.0 nan nan 1.0\n",
            "1.0 1.0 nan nan 1.0\n",
            "----------------------------------------\n",
            "1.0 1.0 nan nan 1.0\n",
            "1.0 1.0 nan nan 1.0\n",
            "----------------------------------------\n",
            "0.818181818181818 0.818181818181818 nan nan 0.818181818181818\n",
            "0.7333333333333333 0.7333333333333333 nan nan 0.7333333333333333\n",
            "----------------------------------------\n",
            "0.8 0.8 nan nan 0.8\n",
            "0.875 0.875 nan nan 0.875\n",
            "----------------------------------------\n",
            "0.7833333333333333 0.7833333333333333 nan nan 0.7833333333333333\n",
            "0.7 0.7 nan nan 0.7\n",
            "----------------------------------------\n",
            "0.8518518518518519 0.8518518518518519 nan nan 0.8518518518518519\n",
            "0.7222222222222222 0.7222222222222222 nan nan 0.7222222222222222\n",
            "----------------------------------------\n"
          ]
        }
      ],
      "source": [
        "helper.getParityforClasses(dirty_df)"
      ]
    },
    {
      "cell_type": "code",
      "execution_count": 10,
      "metadata": {},
      "outputs": [
        {
          "data": {
            "text/html": [
              "<div>\n",
              "<style scoped>\n",
              "    .dataframe tbody tr th:only-of-type {\n",
              "        vertical-align: middle;\n",
              "    }\n",
              "\n",
              "    .dataframe tbody tr th {\n",
              "        vertical-align: top;\n",
              "    }\n",
              "\n",
              "    .dataframe thead th {\n",
              "        text-align: right;\n",
              "    }\n",
              "</style>\n",
              "<table border=\"1\" class=\"dataframe\">\n",
              "  <thead>\n",
              "    <tr style=\"text-align: right;\">\n",
              "      <th></th>\n",
              "      <th>Month</th>\n",
              "      <th>Credit-amount</th>\n",
              "      <th>Investment-as-income-percentage</th>\n",
              "      <th>Present-residence</th>\n",
              "      <th>Age</th>\n",
              "      <th>Number-of-credits</th>\n",
              "      <th>People-liable-for</th>\n",
              "      <th>Sex</th>\n",
              "      <th>Status</th>\n",
              "      <th>Housing</th>\n",
              "      <th>...</th>\n",
              "      <th>Telephone</th>\n",
              "      <th>Foreign-worker</th>\n",
              "      <th>Other-installment</th>\n",
              "      <th>Other-debtors</th>\n",
              "      <th>Credit-history</th>\n",
              "      <th>Purpose</th>\n",
              "      <th>Savings-account</th>\n",
              "      <th>Present-employment</th>\n",
              "      <th>Property</th>\n",
              "      <th>target</th>\n",
              "    </tr>\n",
              "  </thead>\n",
              "  <tbody>\n",
              "    <tr>\n",
              "      <th>0</th>\n",
              "      <td>14</td>\n",
              "      <td>1</td>\n",
              "      <td>4</td>\n",
              "      <td>4</td>\n",
              "      <td>1</td>\n",
              "      <td>1</td>\n",
              "      <td>1</td>\n",
              "      <td>0</td>\n",
              "      <td>4</td>\n",
              "      <td>1</td>\n",
              "      <td>...</td>\n",
              "      <td>1</td>\n",
              "      <td>1</td>\n",
              "      <td>3</td>\n",
              "      <td>1</td>\n",
              "      <td>3</td>\n",
              "      <td>3</td>\n",
              "      <td>3</td>\n",
              "      <td>3</td>\n",
              "      <td>3</td>\n",
              "      <td>1</td>\n",
              "    </tr>\n",
              "    <tr>\n",
              "      <th>1</th>\n",
              "      <td>43</td>\n",
              "      <td>4</td>\n",
              "      <td>4</td>\n",
              "      <td>4</td>\n",
              "      <td>1</td>\n",
              "      <td>2</td>\n",
              "      <td>1</td>\n",
              "      <td>1</td>\n",
              "      <td>1</td>\n",
              "      <td>3</td>\n",
              "      <td>...</td>\n",
              "      <td>2</td>\n",
              "      <td>1</td>\n",
              "      <td>3</td>\n",
              "      <td>1</td>\n",
              "      <td>5</td>\n",
              "      <td>2</td>\n",
              "      <td>1</td>\n",
              "      <td>5</td>\n",
              "      <td>4</td>\n",
              "      <td>2</td>\n",
              "    </tr>\n",
              "    <tr>\n",
              "      <th>2</th>\n",
              "      <td>28</td>\n",
              "      <td>2</td>\n",
              "      <td>4</td>\n",
              "      <td>2</td>\n",
              "      <td>1</td>\n",
              "      <td>1</td>\n",
              "      <td>1</td>\n",
              "      <td>0</td>\n",
              "      <td>3</td>\n",
              "      <td>3</td>\n",
              "      <td>...</td>\n",
              "      <td>2</td>\n",
              "      <td>1</td>\n",
              "      <td>3</td>\n",
              "      <td>1</td>\n",
              "      <td>3</td>\n",
              "      <td>4</td>\n",
              "      <td>2</td>\n",
              "      <td>5</td>\n",
              "      <td>4</td>\n",
              "      <td>1</td>\n",
              "    </tr>\n",
              "    <tr>\n",
              "      <th>3</th>\n",
              "      <td>25</td>\n",
              "      <td>2</td>\n",
              "      <td>4</td>\n",
              "      <td>2</td>\n",
              "      <td>1</td>\n",
              "      <td>2</td>\n",
              "      <td>1</td>\n",
              "      <td>1</td>\n",
              "      <td>2</td>\n",
              "      <td>2</td>\n",
              "      <td>...</td>\n",
              "      <td>1</td>\n",
              "      <td>1</td>\n",
              "      <td>2</td>\n",
              "      <td>1</td>\n",
              "      <td>4</td>\n",
              "      <td>10</td>\n",
              "      <td>2</td>\n",
              "      <td>5</td>\n",
              "      <td>2</td>\n",
              "      <td>1</td>\n",
              "    </tr>\n",
              "    <tr>\n",
              "      <th>4</th>\n",
              "      <td>32</td>\n",
              "      <td>3</td>\n",
              "      <td>4</td>\n",
              "      <td>1</td>\n",
              "      <td>1</td>\n",
              "      <td>1</td>\n",
              "      <td>2</td>\n",
              "      <td>0</td>\n",
              "      <td>2</td>\n",
              "      <td>2</td>\n",
              "      <td>...</td>\n",
              "      <td>2</td>\n",
              "      <td>1</td>\n",
              "      <td>3</td>\n",
              "      <td>1</td>\n",
              "      <td>3</td>\n",
              "      <td>10</td>\n",
              "      <td>1</td>\n",
              "      <td>2</td>\n",
              "      <td>2</td>\n",
              "      <td>2</td>\n",
              "    </tr>\n",
              "  </tbody>\n",
              "</table>\n",
              "<p>5 rows × 21 columns</p>\n",
              "</div>"
            ],
            "text/plain": [
              "   Month Credit-amount  Investment-as-income-percentage  Present-residence  \\\n",
              "0     14             1                                4                  4   \n",
              "1     43             4                                4                  4   \n",
              "2     28             2                                4                  2   \n",
              "3     25             2                                4                  2   \n",
              "4     32             3                                4                  1   \n",
              "\n",
              "   Age  Number-of-credits  People-liable-for  Sex  Status  Housing  ...  \\\n",
              "0    1                  1                  1    0       4        1  ...   \n",
              "1    1                  2                  1    1       1        3  ...   \n",
              "2    1                  1                  1    0       3        3  ...   \n",
              "3    1                  2                  1    1       2        2  ...   \n",
              "4    1                  1                  2    0       2        2  ...   \n",
              "\n",
              "   Telephone  Foreign-worker  Other-installment  Other-debtors  \\\n",
              "0          1               1                  3              1   \n",
              "1          2               1                  3              1   \n",
              "2          2               1                  3              1   \n",
              "3          1               1                  2              1   \n",
              "4          2               1                  3              1   \n",
              "\n",
              "   Credit-history  Purpose  Savings-account  Present-employment  Property  \\\n",
              "0               3        3                3                   3         3   \n",
              "1               5        2                1                   5         4   \n",
              "2               3        4                2                   5         4   \n",
              "3               4       10                2                   5         2   \n",
              "4               3       10                1                   2         2   \n",
              "\n",
              "   target  \n",
              "0       1  \n",
              "1       2  \n",
              "2       1  \n",
              "3       1  \n",
              "4       2  \n",
              "\n",
              "[5 rows x 21 columns]"
            ]
          },
          "execution_count": 10,
          "metadata": {},
          "output_type": "execute_result"
        }
      ],
      "source": [
        "clean_df.head()"
      ]
    },
    {
      "cell_type": "code",
      "execution_count": 11,
      "metadata": {
        "colab": {
          "base_uri": "https://localhost:8080/"
        },
        "id": "bNwHdidKfW1i",
        "outputId": "6c83eb69-e604-4194-f0db-7c21b332d5fc"
      },
      "outputs": [
        {
          "name": "stdout",
          "output_type": "stream",
          "text": [
            "0.8461538461538461 0.8461538461538461 0.7142857142857143 0.7142857142857143 0.8461538461538461\n",
            "0.4578313253012048 0.4578313253012048 0.2857142857142857 0.2857142857142857 0.4578313253012048\n",
            "----------------------------------------\n",
            "0.8317307692307693 0.8317307692307693 0.7222222222222222 0.7222222222222222 0.8317307692307693\n",
            "0.3591549295774648 0.3591549295774648 0.2777777777777778 0.2777777777777778 0.3591549295774648\n",
            "----------------------------------------\n",
            "0.7626262626262625 0.7626262626262625 0.6666666666666667 0.6666666666666667 0.7626262626262625\n",
            "0.37254901960784315 0.37254901960784315 0.3333333333333333 0.3333333333333333 0.37254901960784315\n",
            "----------------------------------------\n",
            "0.7682926829268293 0.7682926829268293 0.6904761904761905 0.6904761904761905 0.7682926829268293\n",
            "0.3371212121212121 0.3371212121212121 0.30952380952380953 0.30952380952380953 0.3371212121212121\n",
            "----------------------------------------\n",
            "0.7374045801526717 0.7374045801526717 0.692063492063492 0.692063492063492 0.7374045801526717\n",
            "0.34202898550724636 0.34202898550724636 0.3079365079365079 0.3079365079365079 0.34202898550724636\n",
            "----------------------------------------\n",
            "0.7349081364829396 0.7349081364829396 0.6851851851851853 0.6851851851851853 0.7349081364829396\n",
            "0.3174603174603174 0.3174603174603174 0.3148148148148148 0.3148148148148148 0.3174603174603174\n",
            "----------------------------------------\n"
          ]
        }
      ],
      "source": [
        "helper.getParityforClasses(clean_df)\n"
      ]
    },
    {
      "cell_type": "code",
      "execution_count": 13,
      "metadata": {
        "colab": {
          "base_uri": "https://localhost:8080/"
        },
        "id": "Q2BgTaJTrZjx",
        "outputId": "6da80a99-fe5c-46f8-d702-734ebe707319"
      },
      "outputs": [
        {
          "name": "stdout",
          "output_type": "stream",
          "text": [
            "Associations between 'target' and other columns:\n",
            "             Attribute  Chi-Square       P-Value\n",
            "0     Checking-Account  123.720944  1.218902e-26\n",
            "2       Credit-history   61.691397  1.279187e-12\n",
            "5      Savings-account   36.098928  2.761214e-07\n",
            "4        Credit-amount   27.314286  5.058476e-06\n",
            "1             Duration   78.886937  7.784572e-06\n",
            "11            Property   23.719551  2.858442e-05\n",
            "14             Housing   18.199842  1.116747e-04\n",
            "3              Purpose   33.356447  1.157491e-04\n",
            "6   Present-employment   18.368274  1.045452e-03\n",
            "13   Other-installment   12.839188  1.629318e-03\n",
            "12                 Age    9.375168  2.199446e-03\n",
            "19      Foreign-worker    5.821576  1.583075e-02\n",
            "8           Status/sex    9.605214  2.223801e-02\n",
            "9        Other-debtors    6.645367  3.605595e-02\n",
            "7     Installment-rate    5.476792  1.400333e-01\n",
            "18           Telephone    1.172559  2.788762e-01\n",
            "15    Existing-credits    2.671198  4.451441e-01\n",
            "16                 Job    1.885156  5.965816e-01\n",
            "10   Present-residence    0.749296  8.615521e-01\n",
            "17              liable    0.000000  1.000000e+00\n"
          ]
        },
        {
          "data": {
            "text/html": [
              "<div>\n",
              "<style scoped>\n",
              "    .dataframe tbody tr th:only-of-type {\n",
              "        vertical-align: middle;\n",
              "    }\n",
              "\n",
              "    .dataframe tbody tr th {\n",
              "        vertical-align: top;\n",
              "    }\n",
              "\n",
              "    .dataframe thead th {\n",
              "        text-align: right;\n",
              "    }\n",
              "</style>\n",
              "<table border=\"1\" class=\"dataframe\">\n",
              "  <thead>\n",
              "    <tr style=\"text-align: right;\">\n",
              "      <th></th>\n",
              "      <th>Attribute</th>\n",
              "      <th>Chi-Square</th>\n",
              "      <th>P-Value</th>\n",
              "    </tr>\n",
              "  </thead>\n",
              "  <tbody>\n",
              "    <tr>\n",
              "      <th>0</th>\n",
              "      <td>Checking-Account</td>\n",
              "      <td>123.720944</td>\n",
              "      <td>1.218902e-26</td>\n",
              "    </tr>\n",
              "    <tr>\n",
              "      <th>2</th>\n",
              "      <td>Credit-history</td>\n",
              "      <td>61.691397</td>\n",
              "      <td>1.279187e-12</td>\n",
              "    </tr>\n",
              "    <tr>\n",
              "      <th>5</th>\n",
              "      <td>Savings-account</td>\n",
              "      <td>36.098928</td>\n",
              "      <td>2.761214e-07</td>\n",
              "    </tr>\n",
              "    <tr>\n",
              "      <th>4</th>\n",
              "      <td>Credit-amount</td>\n",
              "      <td>27.314286</td>\n",
              "      <td>5.058476e-06</td>\n",
              "    </tr>\n",
              "    <tr>\n",
              "      <th>1</th>\n",
              "      <td>Duration</td>\n",
              "      <td>78.886937</td>\n",
              "      <td>7.784572e-06</td>\n",
              "    </tr>\n",
              "    <tr>\n",
              "      <th>11</th>\n",
              "      <td>Property</td>\n",
              "      <td>23.719551</td>\n",
              "      <td>2.858442e-05</td>\n",
              "    </tr>\n",
              "    <tr>\n",
              "      <th>14</th>\n",
              "      <td>Housing</td>\n",
              "      <td>18.199842</td>\n",
              "      <td>1.116747e-04</td>\n",
              "    </tr>\n",
              "    <tr>\n",
              "      <th>3</th>\n",
              "      <td>Purpose</td>\n",
              "      <td>33.356447</td>\n",
              "      <td>1.157491e-04</td>\n",
              "    </tr>\n",
              "    <tr>\n",
              "      <th>6</th>\n",
              "      <td>Present-employment</td>\n",
              "      <td>18.368274</td>\n",
              "      <td>1.045452e-03</td>\n",
              "    </tr>\n",
              "    <tr>\n",
              "      <th>13</th>\n",
              "      <td>Other-installment</td>\n",
              "      <td>12.839188</td>\n",
              "      <td>1.629318e-03</td>\n",
              "    </tr>\n",
              "    <tr>\n",
              "      <th>12</th>\n",
              "      <td>Age</td>\n",
              "      <td>9.375168</td>\n",
              "      <td>2.199446e-03</td>\n",
              "    </tr>\n",
              "    <tr>\n",
              "      <th>19</th>\n",
              "      <td>Foreign-worker</td>\n",
              "      <td>5.821576</td>\n",
              "      <td>1.583075e-02</td>\n",
              "    </tr>\n",
              "    <tr>\n",
              "      <th>8</th>\n",
              "      <td>Status/sex</td>\n",
              "      <td>9.605214</td>\n",
              "      <td>2.223801e-02</td>\n",
              "    </tr>\n",
              "    <tr>\n",
              "      <th>9</th>\n",
              "      <td>Other-debtors</td>\n",
              "      <td>6.645367</td>\n",
              "      <td>3.605595e-02</td>\n",
              "    </tr>\n",
              "    <tr>\n",
              "      <th>7</th>\n",
              "      <td>Installment-rate</td>\n",
              "      <td>5.476792</td>\n",
              "      <td>1.400333e-01</td>\n",
              "    </tr>\n",
              "    <tr>\n",
              "      <th>18</th>\n",
              "      <td>Telephone</td>\n",
              "      <td>1.172559</td>\n",
              "      <td>2.788762e-01</td>\n",
              "    </tr>\n",
              "    <tr>\n",
              "      <th>15</th>\n",
              "      <td>Existing-credits</td>\n",
              "      <td>2.671198</td>\n",
              "      <td>4.451441e-01</td>\n",
              "    </tr>\n",
              "    <tr>\n",
              "      <th>16</th>\n",
              "      <td>Job</td>\n",
              "      <td>1.885156</td>\n",
              "      <td>5.965816e-01</td>\n",
              "    </tr>\n",
              "    <tr>\n",
              "      <th>10</th>\n",
              "      <td>Present-residence</td>\n",
              "      <td>0.749296</td>\n",
              "      <td>8.615521e-01</td>\n",
              "    </tr>\n",
              "    <tr>\n",
              "      <th>17</th>\n",
              "      <td>liable</td>\n",
              "      <td>0.000000</td>\n",
              "      <td>1.000000e+00</td>\n",
              "    </tr>\n",
              "  </tbody>\n",
              "</table>\n",
              "</div>"
            ],
            "text/plain": [
              "             Attribute  Chi-Square       P-Value\n",
              "0     Checking-Account  123.720944  1.218902e-26\n",
              "2       Credit-history   61.691397  1.279187e-12\n",
              "5      Savings-account   36.098928  2.761214e-07\n",
              "4        Credit-amount   27.314286  5.058476e-06\n",
              "1             Duration   78.886937  7.784572e-06\n",
              "11            Property   23.719551  2.858442e-05\n",
              "14             Housing   18.199842  1.116747e-04\n",
              "3              Purpose   33.356447  1.157491e-04\n",
              "6   Present-employment   18.368274  1.045452e-03\n",
              "13   Other-installment   12.839188  1.629318e-03\n",
              "12                 Age    9.375168  2.199446e-03\n",
              "19      Foreign-worker    5.821576  1.583075e-02\n",
              "8           Status/sex    9.605214  2.223801e-02\n",
              "9        Other-debtors    6.645367  3.605595e-02\n",
              "7     Installment-rate    5.476792  1.400333e-01\n",
              "18           Telephone    1.172559  2.788762e-01\n",
              "15    Existing-credits    2.671198  4.451441e-01\n",
              "16                 Job    1.885156  5.965816e-01\n",
              "10   Present-residence    0.749296  8.615521e-01\n",
              "17              liable    0.000000  1.000000e+00"
            ]
          },
          "execution_count": 13,
          "metadata": {},
          "output_type": "execute_result"
        }
      ],
      "source": [
        "helper.calculateIndependence(dirty_df)"
      ]
    },
    {
      "cell_type": "code",
      "execution_count": 14,
      "metadata": {
        "colab": {
          "base_uri": "https://localhost:8080/"
        },
        "id": "6-7Ls9CNGRS7",
        "outputId": "ddad1b0c-6a9b-4155-f6ef-f1c31f0142dd"
      },
      "outputs": [
        {
          "name": "stdout",
          "output_type": "stream",
          "text": [
            "Associations between 'target' and other columns:\n",
            "                          Attribute  Chi-Square   P-Value\n",
            "14                    Other-debtors    7.174587  0.027673\n",
            "13                Other-installment    3.989434  0.136052\n",
            "19                         Property    5.477373  0.139998\n",
            "2   Investment-as-income-percentage    5.077836  0.166186\n",
            "18               Present-employment    5.785285  0.215767\n",
            "3                 Present-residence    3.879763  0.274744\n",
            "11                        Telephone    1.172559  0.278876\n",
            "16                          Purpose   10.578763  0.305690\n",
            "4                               Age    0.935982  0.333313\n",
            "8                            Status    3.250896  0.354536\n",
            "17                  Savings-account    4.025128  0.402616\n",
            "0                             Month   27.878617  0.627424\n",
            "15                   Credit-history    2.580274  0.630321\n",
            "9                           Housing    0.915169  0.632810\n",
            "1                     Credit-amount    1.716614  0.633247\n",
            "7                               Sex    0.139139  0.709138\n",
            "6                 People-liable-for    0.036357  0.848779\n",
            "10                      Skill-level    0.749645  0.861469\n",
            "5                 Number-of-credits    0.495537  0.919871\n",
            "12                   Foreign-worker    0.000000  1.000000\n"
          ]
        },
        {
          "data": {
            "text/html": [
              "<div>\n",
              "<style scoped>\n",
              "    .dataframe tbody tr th:only-of-type {\n",
              "        vertical-align: middle;\n",
              "    }\n",
              "\n",
              "    .dataframe tbody tr th {\n",
              "        vertical-align: top;\n",
              "    }\n",
              "\n",
              "    .dataframe thead th {\n",
              "        text-align: right;\n",
              "    }\n",
              "</style>\n",
              "<table border=\"1\" class=\"dataframe\">\n",
              "  <thead>\n",
              "    <tr style=\"text-align: right;\">\n",
              "      <th></th>\n",
              "      <th>Attribute</th>\n",
              "      <th>Chi-Square</th>\n",
              "      <th>P-Value</th>\n",
              "    </tr>\n",
              "  </thead>\n",
              "  <tbody>\n",
              "    <tr>\n",
              "      <th>14</th>\n",
              "      <td>Other-debtors</td>\n",
              "      <td>7.174587</td>\n",
              "      <td>0.027673</td>\n",
              "    </tr>\n",
              "    <tr>\n",
              "      <th>13</th>\n",
              "      <td>Other-installment</td>\n",
              "      <td>3.989434</td>\n",
              "      <td>0.136052</td>\n",
              "    </tr>\n",
              "    <tr>\n",
              "      <th>19</th>\n",
              "      <td>Property</td>\n",
              "      <td>5.477373</td>\n",
              "      <td>0.139998</td>\n",
              "    </tr>\n",
              "    <tr>\n",
              "      <th>2</th>\n",
              "      <td>Investment-as-income-percentage</td>\n",
              "      <td>5.077836</td>\n",
              "      <td>0.166186</td>\n",
              "    </tr>\n",
              "    <tr>\n",
              "      <th>18</th>\n",
              "      <td>Present-employment</td>\n",
              "      <td>5.785285</td>\n",
              "      <td>0.215767</td>\n",
              "    </tr>\n",
              "    <tr>\n",
              "      <th>3</th>\n",
              "      <td>Present-residence</td>\n",
              "      <td>3.879763</td>\n",
              "      <td>0.274744</td>\n",
              "    </tr>\n",
              "    <tr>\n",
              "      <th>11</th>\n",
              "      <td>Telephone</td>\n",
              "      <td>1.172559</td>\n",
              "      <td>0.278876</td>\n",
              "    </tr>\n",
              "    <tr>\n",
              "      <th>16</th>\n",
              "      <td>Purpose</td>\n",
              "      <td>10.578763</td>\n",
              "      <td>0.305690</td>\n",
              "    </tr>\n",
              "    <tr>\n",
              "      <th>4</th>\n",
              "      <td>Age</td>\n",
              "      <td>0.935982</td>\n",
              "      <td>0.333313</td>\n",
              "    </tr>\n",
              "    <tr>\n",
              "      <th>8</th>\n",
              "      <td>Status</td>\n",
              "      <td>3.250896</td>\n",
              "      <td>0.354536</td>\n",
              "    </tr>\n",
              "    <tr>\n",
              "      <th>17</th>\n",
              "      <td>Savings-account</td>\n",
              "      <td>4.025128</td>\n",
              "      <td>0.402616</td>\n",
              "    </tr>\n",
              "    <tr>\n",
              "      <th>0</th>\n",
              "      <td>Month</td>\n",
              "      <td>27.878617</td>\n",
              "      <td>0.627424</td>\n",
              "    </tr>\n",
              "    <tr>\n",
              "      <th>15</th>\n",
              "      <td>Credit-history</td>\n",
              "      <td>2.580274</td>\n",
              "      <td>0.630321</td>\n",
              "    </tr>\n",
              "    <tr>\n",
              "      <th>9</th>\n",
              "      <td>Housing</td>\n",
              "      <td>0.915169</td>\n",
              "      <td>0.632810</td>\n",
              "    </tr>\n",
              "    <tr>\n",
              "      <th>1</th>\n",
              "      <td>Credit-amount</td>\n",
              "      <td>1.716614</td>\n",
              "      <td>0.633247</td>\n",
              "    </tr>\n",
              "    <tr>\n",
              "      <th>7</th>\n",
              "      <td>Sex</td>\n",
              "      <td>0.139139</td>\n",
              "      <td>0.709138</td>\n",
              "    </tr>\n",
              "    <tr>\n",
              "      <th>6</th>\n",
              "      <td>People-liable-for</td>\n",
              "      <td>0.036357</td>\n",
              "      <td>0.848779</td>\n",
              "    </tr>\n",
              "    <tr>\n",
              "      <th>10</th>\n",
              "      <td>Skill-level</td>\n",
              "      <td>0.749645</td>\n",
              "      <td>0.861469</td>\n",
              "    </tr>\n",
              "    <tr>\n",
              "      <th>5</th>\n",
              "      <td>Number-of-credits</td>\n",
              "      <td>0.495537</td>\n",
              "      <td>0.919871</td>\n",
              "    </tr>\n",
              "    <tr>\n",
              "      <th>12</th>\n",
              "      <td>Foreign-worker</td>\n",
              "      <td>0.000000</td>\n",
              "      <td>1.000000</td>\n",
              "    </tr>\n",
              "  </tbody>\n",
              "</table>\n",
              "</div>"
            ],
            "text/plain": [
              "                          Attribute  Chi-Square   P-Value\n",
              "14                    Other-debtors    7.174587  0.027673\n",
              "13                Other-installment    3.989434  0.136052\n",
              "19                         Property    5.477373  0.139998\n",
              "2   Investment-as-income-percentage    5.077836  0.166186\n",
              "18               Present-employment    5.785285  0.215767\n",
              "3                 Present-residence    3.879763  0.274744\n",
              "11                        Telephone    1.172559  0.278876\n",
              "16                          Purpose   10.578763  0.305690\n",
              "4                               Age    0.935982  0.333313\n",
              "8                            Status    3.250896  0.354536\n",
              "17                  Savings-account    4.025128  0.402616\n",
              "0                             Month   27.878617  0.627424\n",
              "15                   Credit-history    2.580274  0.630321\n",
              "9                           Housing    0.915169  0.632810\n",
              "1                     Credit-amount    1.716614  0.633247\n",
              "7                               Sex    0.139139  0.709138\n",
              "6                 People-liable-for    0.036357  0.848779\n",
              "10                      Skill-level    0.749645  0.861469\n",
              "5                 Number-of-credits    0.495537  0.919871\n",
              "12                   Foreign-worker    0.000000  1.000000"
            ]
          },
          "execution_count": 14,
          "metadata": {},
          "output_type": "execute_result"
        }
      ],
      "source": [
        "helper.calculateIndependence(clean_df)\n"
      ]
    },
    {
      "cell_type": "code",
      "execution_count": 15,
      "metadata": {
        "colab": {
          "base_uri": "https://localhost:8080/"
        },
        "id": "AUZlPNKRGObQ",
        "outputId": "7380d0cf-796a-4d2f-8534-9d94e5efd1e7"
      },
      "outputs": [
        {
          "name": "stdout",
          "output_type": "stream",
          "text": [
            "\n",
            "Rules with Confidence:\n",
            "Rule: {'Other-installment=3', 'Checking-Account=4'} -> {'target=1'}, Support: 303, Confidence: 0.9181818181818182\n",
            "Rule: {'Age=2', 'Checking-Account=4', 'Other-debtors=1'} -> {'target=1'}, Support: 302, Confidence: 0.893491124260355\n",
            "Rule: {'Age=2', 'Checking-Account=4'} -> {'target=1'}, Support: 318, Confidence: 0.8932584269662921\n",
            "Rule: {'Foreign-worker=1', 'Age=2', 'Checking-Account=4'} -> {'target=1'}, Support: 305, Confidence: 0.8892128279883382\n",
            "Rule: {'Other-debtors=1', 'Checking-Account=4'} -> {'target=1'}, Support: 331, Confidence: 0.8873994638069705\n",
            "Rule: {'Foreign-worker=1', 'Other-debtors=1', 'Checking-Account=4'} -> {'target=1'}, Support: 320, Confidence: 0.8839779005524862\n",
            "Rule: {'Checking-Account=4'} -> {'target=1'}, Support: 348, Confidence: 0.883248730964467\n",
            "Rule: {'Foreign-worker=1', 'Checking-Account=4'} -> {'target=1'}, Support: 335, Confidence: 0.8792650918635171\n",
            "Rule: {'Age=2', 'Other-installment=3', 'Housing=2'} -> {'target=1'}, Support: 405, Confidence: 0.791015625\n",
            "Rule: {'Age=2', 'Other-debtors=1', 'Other-installment=3', 'Housing=2'} -> {'target=1'}, Support: 368, Confidence: 0.7896995708154506\n",
            "Rule: {'Foreign-worker=1', 'Age=2', 'Other-installment=3', 'Housing=2'} -> {'target=1'}, Support: 383, Confidence: 0.7848360655737705\n",
            "Rule: {'Foreign-worker=1', 'Other-installment=3', 'Housing=2', 'Age=2', 'Other-debtors=1'} -> {'target=1'}, Support: 350, Confidence: 0.7847533632286996\n",
            "Rule: {'liable=1', 'Age=2', 'Other-installment=3', 'Housing=2'} -> {'target=1'}, Support: 338, Confidence: 0.7806004618937644\n",
            "Rule: {'Age=2', 'Job=3', 'Housing=2'} -> {'target=1'}, Support: 309, Confidence: 0.7803030303030303\n",
            "Rule: {'Age=2', 'Other-installment=3', 'Status/sex=3'} -> {'target=1'}, Support: 311, Confidence: 0.7794486215538847\n",
            "Rule: {'liable=1', 'Other-installment=3', 'Housing=2', 'Age=2', 'Other-debtors=1'} -> {'target=1'}, Support: 309, Confidence: 0.7783375314861462\n",
            "Rule: {'Foreign-worker=1', 'liable=1', 'Other-installment=3', 'Housing=2', 'Age=2'} -> {'target=1'}, Support: 323, Confidence: 0.7764423076923077\n",
            "Rule: {'Status/sex=3', 'Housing=2'} -> {'target=1'}, Support: 314, Confidence: 0.7696078431372549\n",
            "Rule: {'Other-installment=3', 'Housing=2'} -> {'target=1'}, Support: 443, Confidence: 0.7690972222222222\n",
            "Rule: {'Other-debtors=1', 'Other-installment=3', 'Status/sex=3'} -> {'target=1'}, Support: 302, Confidence: 0.7684478371501272\n",
            "Rule: {'Age=2', 'Other-debtors=1', 'Other-installment=3', 'Job=3'} -> {'target=1'}, Support: 301, Confidence: 0.7678571428571429\n",
            "Rule: {'Age=2', 'Other-installment=3', 'Job=3'} -> {'target=1'}, Support: 332, Confidence: 0.766743648960739\n",
            "Rule: {'Other-installment=3', 'Status/sex=3'} -> {'target=1'}, Support: 332, Confidence: 0.766743648960739\n",
            "Rule: {'Other-debtors=1', 'Other-installment=3', 'Housing=2'} -> {'target=1'}, Support: 400, Confidence: 0.7633587786259542\n",
            "Rule: {'Foreign-worker=1', 'Other-installment=3', 'Housing=2'} -> {'target=1'}, Support: 419, Confidence: 0.7618181818181818\n",
            "Rule: {'Foreign-worker=1', 'Age=2', 'Other-installment=3', 'Job=3'} -> {'target=1'}, Support: 317, Confidence: 0.7601918465227818\n",
            "Rule: {'Foreign-worker=1', 'Other-debtors=1', 'Other-installment=3', 'Housing=2'} -> {'target=1'}, Support: 382, Confidence: 0.7579365079365079\n",
            "Rule: {'Other-debtors=1', 'Job=3', 'Housing=2'} -> {'target=1'}, Support: 312, Confidence: 0.7572815533980582\n",
            "Rule: {'Age=2', 'Housing=2'} -> {'target=1'}, Support: 483, Confidence: 0.7570532915360502\n",
            "Rule: {'Job=3', 'Housing=2'} -> {'target=1'}, Support: 342, Confidence: 0.7566371681415929\n",
            "Rule: {'liable=1', 'Other-installment=3', 'Housing=2'} -> {'target=1'}, Support: 376, Confidence: 0.7565392354124748\n",
            "Rule: {'Age=2', 'Other-debtors=1', 'Housing=2'} -> {'target=1'}, Support: 438, Confidence: 0.7551724137931034\n",
            "Rule: {'Foreign-worker=1', 'Other-installment=3', 'Status/sex=3'} -> {'target=1'}, Support: 311, Confidence: 0.7548543689320388\n",
            "Rule: {'liable=1', 'Age=2', 'Housing=2'} -> {'target=1'}, Support: 401, Confidence: 0.7537593984962406\n",
            "Rule: {'Foreign-worker=1', 'Other-debtors=1', 'Job=3', 'Housing=2'} -> {'target=1'}, Support: 302, Confidence: 0.7531172069825436\n",
            "Rule: {'liable=1', 'Age=2', 'Other-debtors=1', 'Housing=2'} -> {'target=1'}, Support: 366, Confidence: 0.7530864197530864\n",
            "Rule: {'liable=1', 'Job=3', 'Housing=2'} -> {'target=1'}, Support: 303, Confidence: 0.7518610421836228\n",
            "Rule: {'Foreign-worker=1', 'Age=2', 'Housing=2'} -> {'target=1'}, Support: 460, Confidence: 0.7516339869281046\n",
            "Rule: {'Foreign-worker=1', 'Job=3', 'Housing=2'} -> {'target=1'}, Support: 329, Confidence: 0.7511415525114156\n",
            "Rule: {'Foreign-worker=1', 'liable=1', 'Housing=2', 'Age=2', 'Other-debtors=1'} -> {'target=1'}, Support: 353, Confidence: 0.7510638297872341\n",
            "Rule: {'Foreign-worker=1', 'Other-installment=3', 'liable=1', 'Housing=2'} -> {'target=1'}, Support: 359, Confidence: 0.7510460251046025\n",
            "Rule: {'Foreign-worker=1', 'Age=2', 'Other-debtors=1', 'Housing=2'} -> {'target=1'}, Support: 419, Confidence: 0.7508960573476703\n",
            "Rule: {'Age=2', 'Other-debtors=1', 'Status/sex=3'} -> {'target=1'}, Support: 346, Confidence: 0.7505422993492408\n",
            "Rule: {'Foreign-worker=1', 'Age=2', 'liable=1', 'Housing=2'} -> {'target=1'}, Support: 385, Confidence: 0.7504873294346979\n",
            "Rule: {'liable=1', 'Other-debtors=1', 'Other-installment=3', 'Housing=2'} -> {'target=1'}, Support: 341, Confidence: 0.7494505494505495\n",
            "Rule: {'Age=2', 'Other-installment=3', 'Other-debtors=1'} -> {'target=1'}, Support: 468, Confidence: 0.7476038338658147\n",
            "Rule: {'Age=2', 'Other-installment=3'} -> {'target=1'}, Support: 512, Confidence: 0.7474452554744525\n",
            "Rule: {'liable=1', 'Age=2', 'Other-debtors=1', 'Other-installment=3'} -> {'target=1'}, Support: 393, Confidence: 0.747148288973384\n",
            "Rule: {'Foreign-worker=1', 'liable=1', 'Other-installment=3', 'Housing=2', 'Other-debtors=1'} -> {'target=1'}, Support: 329, Confidence: 0.746031746031746\n",
            "Rule: {'liable=1', 'Age=2', 'Other-debtors=1', 'Job=3'} -> {'target=1'}, Support: 302, Confidence: 0.745679012345679\n",
            "Rule: {'liable=1', 'Age=2', 'Other-installment=3'} -> {'target=1'}, Support: 427, Confidence: 0.7452006980802792\n",
            "Rule: {'Age=2', 'Status/sex=3'} -> {'target=1'}, Support: 377, Confidence: 0.7450592885375494\n",
            "Rule: {'Foreign-worker=1', 'liable=1', 'Other-installment=3', 'Age=2', 'Other-debtors=1'} -> {'target=1'}, Support: 380, Confidence: 0.7436399217221135\n",
            "Rule: {'Foreign-worker=1', 'Age=2', 'Other-debtors=1', 'Status/sex=3'} -> {'target=1'}, Support: 330, Confidence: 0.7415730337078652\n",
            "Rule: {'Foreign-worker=1', 'Age=2', 'Other-debtors=1', 'Other-installment=3'} -> {'target=1'}, Support: 446, Confidence: 0.7408637873754153\n",
            "Rule: {'liable=1', 'Status/sex=3'} -> {'target=1'}, Support: 305, Confidence: 0.7402912621359223\n",
            "Rule: {'Foreign-worker=1', 'Age=2', 'Other-installment=3', 'liable=1'} -> {'target=1'}, Support: 410, Confidence: 0.740072202166065\n",
            "Rule: {'Housing=2'} -> {'target=1'}, Support: 527, Confidence: 0.7391304347826086\n",
            "Rule: {'Foreign-worker=1', 'Age=2', 'Other-installment=3'} -> {'target=1'}, Support: 484, Confidence: 0.7389312977099237\n",
            "Rule: {'liable=1', 'Other-debtors=1', 'Other-installment=3', 'Job=3'} -> {'target=1'}, Support: 315, Confidence: 0.7377049180327869\n",
            "Rule: {'Other-debtors=1', 'Status/sex=3'} -> {'target=1'}, Support: 365, Confidence: 0.7373737373737373\n",
            "Rule: {'Telephone=1', 'Housing=2'} -> {'target=1'}, Support: 319, Confidence: 0.7367205542725174\n",
            "Rule: {'Age=2', 'Job=3', 'Other-debtors=1'} -> {'target=1'}, Support: 348, Confidence: 0.7357293868921776\n",
            "Rule: {'liable=1', 'Age=2', 'Job=3'} -> {'target=1'}, Support: 328, Confidence: 0.7354260089686099\n",
            "Rule: {'Other-debtors=1', 'Housing=2'} -> {'target=1'}, Support: 475, Confidence: 0.7341576506955177\n",
            "Rule: {'Foreign-worker=1', 'Age=2', 'Status/sex=3'} -> {'target=1'}, Support: 356, Confidence: 0.734020618556701\n",
            "Rule: {'Foreign-worker=1', 'liable=1', 'Other-installment=3', 'Other-debtors=1', 'Job=3'} -> {'target=1'}, Support: 306, Confidence: 0.7338129496402878\n",
            "Rule: {'Status/sex=3'} -> {'target=1'}, Support: 402, Confidence: 0.7335766423357665\n",
            "Rule: {'Other-debtors=1', 'Other-installment=3', 'Job=3'} -> {'target=1'}, Support: 352, Confidence: 0.7333333333333333\n",
            "Rule: {'liable=1', 'Housing=2'} -> {'target=1'}, Support: 445, Confidence: 0.7331136738056013\n",
            "Rule: {'Foreign-worker=1', 'Housing=2'} -> {'target=1'}, Support: 502, Confidence: 0.7328467153284671\n",
            "Rule: {'liable=1', 'Job=3', 'Other-installment=3'} -> {'target=1'}, Support: 344, Confidence: 0.7319148936170212\n",
            "Rule: {'Age=2', 'Job=3'} -> {'target=1'}, Support: 382, Confidence: 0.7318007662835249\n",
            "Rule: {'Other-installment=3', 'Job=3'} -> {'target=1'}, Support: 387, Confidence: 0.7315689981096408\n",
            "Rule: {'Foreign-worker=1', 'Age=2', 'Other-debtors=1', 'Job=3'} -> {'target=1'}, Support: 337, Confidence: 0.7310195227765727\n",
            "Rule: {'Foreign-worker=1', 'Age=2', 'Job=3', 'liable=1'} -> {'target=1'}, Support: 315, Confidence: 0.7308584686774942\n",
            "Rule: {'Foreign-worker=1', 'Other-debtors=1', 'Housing=2'} -> {'target=1'}, Support: 456, Confidence: 0.7296\n",
            "Rule: {'Foreign-worker=1', 'Other-debtors=1', 'Other-installment=3', 'Job=3'} -> {'target=1'}, Support: 342, Confidence: 0.7292110874200426\n",
            "Rule: {'liable=1', 'Other-debtors=1', 'Housing=2'} -> {'target=1'}, Support: 403, Confidence: 0.72875226039783\n",
            "Rule: {'Foreign-worker=1', 'liable=1', 'Housing=2'} -> {'target=1'}, Support: 427, Confidence: 0.7286689419795221\n",
            "Rule: {'Foreign-worker=1', 'Other-debtors=1', 'Status/sex=3'} -> {'target=1'}, Support: 349, Confidence: 0.7286012526096033\n",
            "Rule: {'Foreign-worker=1', 'Other-installment=3', 'liable=1', 'Job=3'} -> {'target=1'}, Support: 332, Confidence: 0.7264770240700219\n",
            "Rule: {'Foreign-worker=1', 'Other-debtors=1', 'liable=1', 'Housing=2'} -> {'target=1'}, Support: 390, Confidence: 0.7262569832402235\n",
            "Rule: {'Foreign-worker=1', 'Age=2', 'Job=3'} -> {'target=1'}, Support: 366, Confidence: 0.7261904761904762\n",
            "Rule: {'Foreign-worker=1', 'Job=3', 'Other-installment=3'} -> {'target=1'}, Support: 372, Confidence: 0.7251461988304093\n",
            "Rule: {'Other-debtors=1', 'Other-installment=3'} -> {'target=1'}, Support: 538, Confidence: 0.7250673854447439\n",
            "Rule: {'Other-installment=3'} -> {'target=1'}, Support: 590, Confidence: 0.7248157248157249\n",
            "Rule: {'Age=2', 'Other-installment=3', 'Existing-credits=1'} -> {'target=1'}, Support: 304, Confidence: 0.7238095238095238\n",
            "Rule: {'liable=1', 'Other-debtors=1', 'Other-installment=3'} -> {'target=1'}, Support: 461, Confidence: 0.7225705329153606\n",
            "Rule: {'liable=1', 'Age=2', 'Other-debtors=1'} -> {'target=1'}, Support: 463, Confidence: 0.7223088923556942\n",
            "Rule: {'Foreign-worker=1', 'Status/sex=3'} -> {'target=1'}, Support: 379, Confidence: 0.7219047619047619\n",
            "Rule: {'liable=1', 'Other-installment=3'} -> {'target=1'}, Support: 503, Confidence: 0.7206303724928367\n",
            "Rule: {'liable=1', 'Age=2'} -> {'target=1'}, Support: 505, Confidence: 0.7193732193732194\n",
            "Rule: {'Age=2'} -> {'target=1'}, Support: 612, Confidence: 0.7191539365452408\n",
            "Rule: {'Foreign-worker=1', 'Other-debtors=1', 'Other-installment=3', 'liable=1'} -> {'target=1'}, Support: 448, Confidence: 0.7191011235955056\n",
            "Rule: {'Foreign-worker=1', 'Age=2', 'Other-debtors=1', 'liable=1'} -> {'target=1'}, Support: 448, Confidence: 0.7191011235955056\n",
            "Rule: {'Age=2', 'Other-debtors=1'} -> {'target=1'}, Support: 557, Confidence: 0.7187096774193549\n",
            "Rule: {'Foreign-worker=1', 'Other-debtors=1', 'Other-installment=3'} -> {'target=1'}, Support: 516, Confidence: 0.7186629526462396\n",
            "Rule: {'liable=1', 'Other-debtors=1', 'Job=3'} -> {'target=1'}, Support: 358, Confidence: 0.717434869739479\n",
            "Rule: {'Foreign-worker=1', 'Other-installment=3'} -> {'target=1'}, Support: 560, Confidence: 0.7161125319693095\n",
            "Rule: {'Foreign-worker=1', 'Age=2', 'liable=1'} -> {'target=1'}, Support: 486, Confidence: 0.7157584683357879\n",
            "Rule: {'Foreign-worker=1', 'Other-installment=3', 'liable=1'} -> {'target=1'}, Support: 484, Confidence: 0.7149187592319055\n",
            "Rule: {'Telephone=1', 'Other-installment=3'} -> {'target=1'}, Support: 350, Confidence: 0.7142857142857143\n",
            "Rule: {'Foreign-worker=1', 'Other-debtors=1', 'Job=3', 'liable=1'} -> {'target=1'}, Support: 348, Confidence: 0.7131147540983607\n",
            "Rule: {'Foreign-worker=1', 'Age=2', 'Other-debtors=1'} -> {'target=1'}, Support: 533, Confidence: 0.7125668449197861\n",
            "Rule: {'Foreign-worker=1', 'Age=2'} -> {'target=1'}, Support: 582, Confidence: 0.7123623011015912\n",
            "Rule: {'Other-debtors=1', 'Telephone=1', 'Other-installment=3'} -> {'target=1'}, Support: 310, Confidence: 0.7110091743119266\n",
            "Rule: {'Age=2', 'Telephone=1'} -> {'target=1'}, Support: 343, Confidence: 0.7101449275362319\n",
            "Rule: {'Existing-credits=1', 'Housing=2'} -> {'target=1'}, Support: 311, Confidence: 0.7100456621004566\n",
            "Rule: {'Other-debtors=1', 'Job=3'} -> {'target=1'}, Support: 404, Confidence: 0.7087719298245614\n",
            "Rule: {'liable=1', 'Age=2', 'Existing-credits=1'} -> {'target=1'}, Support: 308, Confidence: 0.7080459770114943\n",
            "Rule: {'liable=1', 'Job=3'} -> {'target=1'}, Support: 390, Confidence: 0.7078039927404719\n",
            "Rule: {'Age=2', 'Telephone=1', 'Other-debtors=1'} -> {'target=1'}, Support: 307, Confidence: 0.7073732718894009\n",
            "Rule: {'Job=3'} -> {'target=1'}, Support: 444, Confidence: 0.7047619047619048\n",
            "Rule: {'Foreign-worker=1', 'Other-debtors=1', 'Job=3'} -> {'target=1'}, Support: 393, Confidence: 0.7043010752688172\n",
            "Rule: {'Age=2', 'Existing-credits=1'} -> {'target=1'}, Support: 362, Confidence: 0.7042801556420234\n",
            "Rule: {'Foreign-worker=1', 'Job=3', 'liable=1'} -> {'target=1'}, Support: 376, Confidence: 0.702803738317757\n",
            "Rule: {'liable=1', 'Other-debtors=1'} -> {'target=1'}, Support: 539, Confidence: 0.7027379400260756\n",
            "Rule: {'Other-installment=3', 'Existing-credits=1'} -> {'target=1'}, Support: 366, Confidence: 0.7011494252873564\n",
            "Rule: {'liable=1', 'Other-debtors=1', 'Telephone=1'} -> {'target=1'}, Support: 314, Confidence: 0.7008928571428571\n",
            "Rule: {'Other-debtors=1'} -> {'target=1'}, Support: 635, Confidence: 0.7001102535832414\n",
            "Rule: {'Foreign-worker=1', 'Other-debtors=1', 'liable=1'} -> {'target=1'}, Support: 524, Confidence: 0.6995994659546061\n",
            "Rule: {'liable=1'} -> {'target=1'}, Support: 591, Confidence: 0.6994082840236686\n",
            "Rule: {'Foreign-worker=1', 'Telephone=1', 'Other-installment=3'} -> {'target=1'}, Support: 323, Confidence: 0.6991341991341992\n",
            "Rule: {'Foreign-worker=1', 'Job=3'} -> {'target=1'}, Support: 427, Confidence: 0.6988543371522095\n",
            "Rule: {'liable=1', 'Other-installment=3', 'Existing-credits=1'} -> {'target=1'}, Support: 321, Confidence: 0.6978260869565217\n",
            "Rule: {'Foreign-worker=1', 'Age=2', 'Existing-credits=1'} -> {'target=1'}, Support: 344, Confidence: 0.6977687626774848\n",
            "Rule: {'Age=2', 'Existing-credits=1', 'Other-debtors=1'} -> {'target=1'}, Support: 324, Confidence: 0.6967741935483871\n",
            "Rule: {'liable=1', 'Telephone=1'} -> {'target=1'}, Support: 349, Confidence: 0.6966067864271457\n",
            "Rule: {'Foreign-worker=1', 'Age=2', 'Telephone=1'} -> {'target=1'}, Support: 316, Confidence: 0.6960352422907489\n",
            "Rule: {'Other-debtors=1', 'Other-installment=3', 'Existing-credits=1'} -> {'target=1'}, Support: 329, Confidence: 0.6955602536997886\n",
            "Rule: {'Foreign-worker=1', 'liable=1'} -> {'target=1'}, Support: 569, Confidence: 0.6947496947496947\n",
            "Rule: {'Foreign-worker=1', 'Other-debtors=1'} -> {'target=1'}, Support: 611, Confidence: 0.6943181818181818\n",
            "Rule: {'Foreign-worker=1', 'Other-debtors=1', 'Telephone=1', 'liable=1'} -> {'target=1'}, Support: 302, Confidence: 0.6942528735632184\n",
            "Rule: {'Foreign-worker=1'} -> {'target=1'}, Support: 667, Confidence: 0.6926272066458983\n",
            "Rule: {'Foreign-worker=1', 'Other-installment=3', 'Existing-credits=1'} -> {'target=1'}, Support: 347, Confidence: 0.6926147704590818\n",
            "Rule: {'Foreign-worker=1', 'liable=1', 'Other-installment=3', 'Existing-credits=1'} -> {'target=1'}, Support: 307, Confidence: 0.6914414414414415\n",
            "Rule: {'Foreign-worker=1', 'Age=2', 'Other-debtors=1', 'Existing-credits=1'} -> {'target=1'}, Support: 309, Confidence: 0.6912751677852349\n",
            "Rule: {'Existing-credits=1', 'Credit-history=3'} -> {'target=1'}, Support: 330, Confidence: 0.6903765690376569\n",
            "Rule: {'Other-installment=3', 'Credit-history=3'} -> {'target=1'}, Support: 312, Confidence: 0.6902654867256637\n",
            "Rule: {'Foreign-worker=1', 'Other-debtors=1', 'Other-installment=3', 'Existing-credits=1'} -> {'target=1'}, Support: 315, Confidence: 0.6892778993435449\n",
            "Rule: {'Foreign-worker=1', 'Telephone=1', 'liable=1'} -> {'target=1'}, Support: 330, Confidence: 0.6875\n",
            "Rule: {'Telephone=1'} -> {'target=1'}, Support: 409, Confidence: 0.6862416107382551\n",
            "Rule: {'liable=1', 'Existing-credits=1'} -> {'target=1'}, Support: 377, Confidence: 0.6854545454545454\n",
            "Rule: {'liable=1', 'Other-debtors=1', 'Existing-credits=1'} -> {'target=1'}, Support: 344, Confidence: 0.6852589641434262\n",
            "Rule: {'Existing-credits=1'} -> {'target=1'}, Support: 433, Confidence: 0.684044233807267\n",
            "Rule: {'Other-debtors=1', 'Telephone=1'} -> {'target=1'}, Support: 363, Confidence: 0.6836158192090396\n",
            "Rule: {'Foreign-worker=1', 'liable=1', 'Existing-credits=1', 'Other-debtors=1'} -> {'target=1'}, Support: 333, Confidence: 0.6823770491803278\n",
            "Rule: {'Foreign-worker=1', 'Existing-credits=1', 'Credit-history=3'} -> {'target=1'}, Support: 313, Confidence: 0.681917211328976\n",
            "Rule: {'Credit-history=3'} -> {'target=1'}, Support: 361, Confidence: 0.6811320754716981\n",
            "Rule: {'Foreign-worker=1', 'Existing-credits=1', 'liable=1'} -> {'target=1'}, Support: 361, Confidence: 0.67984934086629\n",
            "Rule: {'Other-debtors=1', 'Existing-credits=1'} -> {'target=1'}, Support: 389, Confidence: 0.6788830715532286\n",
            "Rule: {'Other-debtors=1', 'Credit-history=3'} -> {'target=1'}, Support: 320, Confidence: 0.6779661016949152\n",
            "Rule: {'liable=1', 'Credit-history=3'} -> {'target=1'}, Support: 313, Confidence: 0.6774891774891775\n",
            "Rule: {'Foreign-worker=1', 'Existing-credits=1'} -> {'target=1'}, Support: 412, Confidence: 0.6765188834154351\n",
            "Rule: {'Foreign-worker=1', 'Other-debtors=1', 'Existing-credits=1'} -> {'target=1'}, Support: 374, Confidence: 0.6738738738738739\n",
            "Rule: {'Foreign-worker=1', 'Credit-history=3'} -> {'target=1'}, Support: 343, Confidence: 0.6725490196078432\n",
            "Rule: {'Foreign-worker=1', 'Other-debtors=1', 'Credit-history=3'} -> {'target=1'}, Support: 308, Confidence: 0.6724890829694323\n",
            "Rule: {'Foreign-worker=1', 'Telephone=1'} -> {'target=1'}, Support: 379, Confidence: 0.6719858156028369\n",
            "Rule: {'Foreign-worker=1', 'Other-debtors=1', 'Telephone=1'} -> {'target=1'}, Support: 342, Confidence: 0.6719056974459725\n",
            "Rule: {'Other-installment=3', 'Savings-account=1'} -> {'target=1'}, Support: 327, Confidence: 0.6673469387755102\n",
            "Rule: {'Installment-rate=4'} -> {'target=1'}, Support: 317, Confidence: 0.6659663865546218\n",
            "Rule: {'Foreign-worker=1', 'Installment-rate=4'} -> {'target=1'}, Support: 308, Confidence: 0.6609442060085837\n",
            "Rule: {'Age=2', 'Savings-account=1'} -> {'target=1'}, Support: 335, Confidence: 0.6594488188976378\n",
            "Rule: {'Foreign-worker=1', 'Other-installment=3', 'Savings-account=1'} -> {'target=1'}, Support: 311, Confidence: 0.6588983050847458\n",
            "Rule: {'Foreign-worker=1', 'Age=2', 'Savings-account=1'} -> {'target=1'}, Support: 319, Confidence: 0.6536885245901639\n",
            "Rule: {'Savings-account=1'} -> {'target=1'}, Support: 386, Confidence: 0.6401326699834162\n",
            "Rule: {'liable=1', 'Savings-account=1'} -> {'target=1'}, Support: 328, Confidence: 0.6393762183235867\n",
            "Rule: {'Foreign-worker=1', 'liable=1', 'Savings-account=1'} -> {'target=1'}, Support: 317, Confidence: 0.6365461847389559\n",
            "Rule: {'Other-debtors=1', 'Savings-account=1'} -> {'target=1'}, Support: 337, Confidence: 0.6334586466165414\n",
            "Rule: {'Foreign-worker=1', 'Savings-account=1'} -> {'target=1'}, Support: 368, Confidence: 0.6333907056798623\n",
            "Rule: {'Foreign-worker=1', 'Other-debtors=1', 'Savings-account=1'} -> {'target=1'}, Support: 323, Confidence: 0.6271844660194175\n"
          ]
        }
      ],
      "source": [
        "\n",
        "transactions = []\n",
        "for index, row in dirty_df.iterrows():\n",
        "    transaction = [f\"{col}={val}\" for col, val in row.items()]\n",
        "    transactions.append(transaction)\n",
        "\n",
        "min_support_percentage = 0.3\n",
        "targets = ['target=1', 'target=2']\n",
        "target_frequent_itemsets, support_count = helper.run_eclat(transactions, min_support_percentage,targets)\n",
        "\n",
        "# Calculate confidence for each itemset\n",
        "rules_with_confidence = helper.calculate_confidence(target_frequent_itemsets, support_count,targets)\n",
        "\n",
        "\n",
        "print(\"\\nRules with Confidence:\")\n",
        "for antecedent, consequent, support, confidence in rules_with_confidence:\n",
        "    print(\"Rule: {} -> {}, Support: {}, Confidence: {}\".format(set(antecedent), set(consequent), support, confidence))\n"
      ]
    },
    {
      "cell_type": "code",
      "execution_count": 16,
      "metadata": {
        "colab": {
          "base_uri": "https://localhost:8080/"
        },
        "id": "vKtHgft9HgiC",
        "outputId": "375678a6-6560-455f-e114-9c72d51fcf10"
      },
      "outputs": [
        {
          "name": "stdout",
          "output_type": "stream",
          "text": [
            "\n",
            "Rules with Confidence:\n",
            "Rule: {'Foreign-worker=1', 'Other-debtors=1', 'Credit-history=3'} -> {'target=1'}, Support: 336, Confidence: 0.7336244541484717\n",
            "Rule: {'Foreign-worker=1', 'Other-debtors=1', 'Number-of-credits=1', 'Credit-history=3'} -> {'target=1'}, Support: 302, Confidence: 0.7312348668280871\n",
            "Rule: {'Other-debtors=1', 'People-liable-for=1', 'Credit-history=3'} -> {'target=1'}, Support: 303, Confidence: 0.7301204819277108\n",
            "Rule: {'Other-debtors=1', 'Credit-history=3'} -> {'target=1'}, Support: 344, Confidence: 0.7288135593220338\n",
            "Rule: {'Foreign-worker=1', 'Other-installment=3', 'Credit-history=3'} -> {'target=1'}, Support: 314, Confidence: 0.7268518518518519\n",
            "Rule: {'Foreign-worker=1', 'Other-debtors=1', 'People-liable-for=1', 'Savings-account=1'} -> {'target=1'}, Support: 321, Confidence: 0.7262443438914027\n",
            "Rule: {'Other-debtors=1', 'Number-of-credits=1', 'Credit-history=3'} -> {'target=1'}, Support: 310, Confidence: 0.7259953161592506\n",
            "Rule: {'Foreign-worker=1', 'Credit-history=3'} -> {'target=1'}, Support: 370, Confidence: 0.7254901960784313\n",
            "Rule: {'Other-debtors=1', 'People-liable-for=1', 'Savings-account=1'} -> {'target=1'}, Support: 327, Confidence: 0.7234513274336283\n",
            "Rule: {'Foreign-worker=1', 'Number-of-credits=1', 'Credit-history=3'} -> {'target=1'}, Support: 332, Confidence: 0.7233115468409586\n",
            "Rule: {'Foreign-worker=1', 'People-liable-for=1', 'Credit-history=3'} -> {'target=1'}, Support: 322, Confidence: 0.7219730941704036\n",
            "Rule: {'Other-installment=3', 'Credit-history=3'} -> {'target=1'}, Support: 326, Confidence: 0.7212389380530974\n",
            "Rule: {'Credit-history=3'} -> {'target=1'}, Support: 382, Confidence: 0.720754716981132\n",
            "Rule: {'Foreign-worker=1', 'Other-debtors=1', 'Savings-account=1'} -> {'target=1'}, Support: 370, Confidence: 0.7184466019417476\n",
            "Rule: {'Other-debtors=1', 'Savings-account=1'} -> {'target=1'}, Support: 382, Confidence: 0.7180451127819549\n",
            "Rule: {'Number-of-credits=1', 'Credit-history=3'} -> {'target=1'}, Support: 343, Confidence: 0.7175732217573222\n",
            "Rule: {'Foreign-worker=1', 'Other-debtors=1', 'Sex=1', 'Housing=2'} -> {'target=1'}, Support: 322, Confidence: 0.7171492204899778\n",
            "Rule: {'Foreign-worker=1', 'People-liable-for=1', 'Savings-account=1'} -> {'target=1'}, Support: 357, Confidence: 0.7168674698795181\n",
            "Rule: {'People-liable-for=1', 'Credit-history=3'} -> {'target=1'}, Support: 331, Confidence: 0.7164502164502164\n",
            "Rule: {'Other-debtors=1', 'Other-installment=3', 'Savings-account=1'} -> {'target=1'}, Support: 312, Confidence: 0.7155963302752294\n",
            "Rule: {'People-liable-for=1', 'Savings-account=1'} -> {'target=1'}, Support: 367, Confidence: 0.7153996101364523\n",
            "Rule: {'Foreign-worker=1', 'Other-debtors=1', 'Other-installment=3', 'Savings-account=1'} -> {'target=1'}, Support: 301, Confidence: 0.7149643705463183\n",
            "Rule: {'Other-debtors=1', 'Sex=1', 'Housing=2'} -> {'target=1'}, Support: 333, Confidence: 0.7145922746781116\n",
            "Rule: {'Savings-account=1'} -> {'target=1'}, Support: 430, Confidence: 0.7131011608623549\n",
            "Rule: {'Foreign-worker=1', 'Savings-account=1'} -> {'target=1'}, Support: 414, Confidence: 0.7125645438898451\n",
            "Rule: {'Foreign-worker=1', 'Other-debtors=1', 'Other-installment=3', 'Number-of-credits=1'} -> {'target=1'}, Support: 325, Confidence: 0.7111597374179431\n",
            "Rule: {'Foreign-worker=1', 'Sex=1', 'Age=1', 'Housing=2'} -> {'target=1'}, Support: 312, Confidence: 0.7107061503416856\n",
            "Rule: {'Foreign-worker=1', 'Sex=1', 'Housing=2'} -> {'target=1'}, Support: 351, Confidence: 0.7105263157894737\n",
            "Rule: {'Savings-account=1', 'Housing=2'} -> {'target=1'}, Support: 305, Confidence: 0.7093023255813954\n",
            "Rule: {'Foreign-worker=1', 'Other-debtors=1', 'People-liable-for=1', 'Number-of-credits=1'} -> {'target=1'}, Support: 346, Confidence: 0.7090163934426229\n",
            "Rule: {'Foreign-worker=1', 'Other-debtors=1', 'People-liable-for=1'} -> {'target=1'}, Support: 531, Confidence: 0.7089452603471295\n",
            "Rule: {'Sex=1', 'Age=1', 'Housing=2'} -> {'target=1'}, Support: 326, Confidence: 0.7086956521739131\n",
            "Rule: {'Age=1', 'Savings-account=1'} -> {'target=1'}, Support: 340, Confidence: 0.7083333333333334\n",
            "Rule: {'Other-installment=3', 'Savings-account=1'} -> {'target=1'}, Support: 347, Confidence: 0.7081632653061225\n",
            "Rule: {'Foreign-worker=1', 'Other-debtors=1', 'Number-of-credits=1'} -> {'target=1'}, Support: 393, Confidence: 0.7081081081081081\n",
            "Rule: {'Foreign-worker=1', 'Other-debtors=1', 'Telephone=1', 'People-liable-for=1'} -> {'target=1'}, Support: 308, Confidence: 0.7080459770114943\n",
            "Rule: {'Sex=1', 'Housing=2'} -> {'target=1'}, Support: 366, Confidence: 0.7079303675048356\n",
            "Rule: {'Foreign-worker=1', 'Other-debtors=1', 'Other-installment=3', 'People-liable-for=1'} -> {'target=1'}, Support: 441, Confidence: 0.7078651685393258\n",
            "Rule: {'Foreign-worker=1', 'Other-installment=3', 'Savings-account=1'} -> {'target=1'}, Support: 334, Confidence: 0.7076271186440678\n",
            "Rule: {'Other-debtors=1', 'Age=1', 'Savings-account=1'} -> {'target=1'}, Support: 300, Confidence: 0.7075471698113207\n",
            "Rule: {'Other-debtors=1', 'People-liable-for=1'} -> {'target=1'}, Support: 542, Confidence: 0.7066492829204694\n",
            "Rule: {'Foreign-worker=1', 'Other-debtors=1', 'People-liable-for=1', 'Sex=1'} -> {'target=1'}, Support: 342, Confidence: 0.7066115702479339\n",
            "Rule: {'Foreign-worker=1', 'Other-installment=3', 'Number-of-credits=1'} -> {'target=1'}, Support: 354, Confidence: 0.7065868263473054\n",
            "Rule: {'Foreign-worker=1', 'Age=1', 'Savings-account=1'} -> {'target=1'}, Support: 325, Confidence: 0.7065217391304348\n",
            "Rule: {'Other-debtors=1', 'Other-installment=3', 'Number-of-credits=1'} -> {'target=1'}, Support: 334, Confidence: 0.7061310782241015\n",
            "Rule: {'Other-debtors=1', 'Other-installment=3', 'People-liable-for=1'} -> {'target=1'}, Support: 450, Confidence: 0.7053291536050157\n",
            "Rule: {'Other-debtors=1', 'People-liable-for=1', 'Number-of-credits=1'} -> {'target=1'}, Support: 354, Confidence: 0.7051792828685259\n",
            "Rule: {'Other-debtors=1', 'Number-of-credits=1'} -> {'target=1'}, Support: 404, Confidence: 0.7050610820244329\n",
            "Rule: {'Foreign-worker=1', 'Other-installment=3', 'People-liable-for=1', 'Number-of-credits=1'} -> {'target=1'}, Support: 313, Confidence: 0.704954954954955\n",
            "Rule: {'Foreign-worker=1', 'Other-debtors=1', 'Other-installment=3', 'Housing=2'} -> {'target=1'}, Support: 355, Confidence: 0.7043650793650794\n",
            "Rule: {'Other-debtors=1', 'Sex=1', 'People-liable-for=1'} -> {'target=1'}, Support: 350, Confidence: 0.704225352112676\n",
            "Rule: {'Foreign-worker=1', 'Other-debtors=1', 'Housing=2'} -> {'target=1'}, Support: 440, Confidence: 0.704\n",
            "Rule: {'Foreign-worker=1', 'Other-debtors=1', 'People-liable-for=1', 'Housing=2'} -> {'target=1'}, Support: 378, Confidence: 0.7039106145251397\n",
            "Rule: {'Foreign-worker=1', 'Other-debtors=1'} -> {'target=1'}, Support: 619, Confidence: 0.7034090909090909\n",
            "Rule: {'Foreign-worker=1', 'Other-debtors=1', 'Other-installment=3'} -> {'target=1'}, Support: 505, Confidence: 0.7033426183844012\n",
            "Rule: {'Foreign-worker=1', 'People-liable-for=1'} -> {'target=1'}, Support: 576, Confidence: 0.7032967032967034\n",
            "Rule: {'Foreign-worker=1', 'Number-of-credits=1'} -> {'target=1'}, Support: 428, Confidence: 0.7027914614121511\n",
            "Rule: {'Other-debtors=1', 'Sex=1', 'Other-installment=3', 'Age=1'} -> {'target=1'}, Support: 312, Confidence: 0.7027027027027027\n",
            "Rule: {'Other-debtors=1'} -> {'target=1'}, Support: 637, Confidence: 0.7023153252480706\n",
            "Rule: {'Other-debtors=1', 'Other-installment=3', 'Housing=2'} -> {'target=1'}, Support: 368, Confidence: 0.7022900763358778\n",
            "Rule: {'Other-debtors=1', 'Other-installment=3'} -> {'target=1'}, Support: 521, Confidence: 0.7021563342318059\n",
            "Rule: {'People-liable-for=1'} -> {'target=1'}, Support: 593, Confidence: 0.7017751479289941\n",
            "Rule: {'Other-debtors=1', 'Housing=2'} -> {'target=1'}, Support: 454, Confidence: 0.7017001545595054\n",
            "Rule: {'Other-debtors=1', 'People-liable-for=1', 'Housing=2'} -> {'target=1'}, Support: 388, Confidence: 0.701627486437613\n",
            "Rule: {'Other-installment=3', 'Number-of-credits=1'} -> {'target=1'}, Support: 366, Confidence: 0.7011494252873564\n",
            "Rule: {'Foreign-worker=1', 'Other-debtors=1', 'Other-installment=3', 'Sex=1'} -> {'target=1'}, Support: 340, Confidence: 0.7010309278350515\n",
            "Rule: {'Foreign-worker=1', 'Other-debtors=1', 'Sex=1'} -> {'target=1'}, Support: 422, Confidence: 0.7009966777408638\n",
            "Rule: {'Other-debtors=1', 'Other-installment=3', 'Sex=1'} -> {'target=1'}, Support: 354, Confidence: 0.700990099009901\n",
            "Rule: {'Other-debtors=1', 'Telephone=1', 'People-liable-for=1'} -> {'target=1'}, Support: 314, Confidence: 0.7008928571428571\n",
            "Rule: {'Foreign-worker=1', 'Other-installment=3', 'Housing=2', 'Other-debtors=1', 'People-liable-for=1'} -> {'target=1'}, Support: 309, Confidence: 0.7006802721088435\n",
            "Rule: {'Foreign-worker=1', 'People-liable-for=1', 'Number-of-credits=1'} -> {'target=1'}, Support: 372, Confidence: 0.7005649717514124\n",
            "Rule: {'Other-debtors=1', 'Sex=1'} -> {'target=1'}, Support: 437, Confidence: 0.7003205128205128\n",
            "Rule: {'Foreign-worker=1', 'Other-installment=3', 'People-liable-for=1'} -> {'target=1'}, Support: 474, Confidence: 0.7001477104874446\n",
            "Rule: {'Foreign-worker=1'} -> {'target=1'}, Support: 674, Confidence: 0.6998961578400831\n",
            "Rule: {'Number-of-credits=1'} -> {'target=1'}, Support: 443, Confidence: 0.6998420221169036\n",
            "Rule: {'Sex=1', 'Skill-level=3'} -> {'target=1'}, Support: 303, Confidence: 0.6997690531177829\n",
            "Rule: {'Foreign-worker=1', 'Housing=2'} -> {'target=1'}, Support: 479, Confidence: 0.6992700729927007\n",
            "Rule: {'Other-debtors=1', 'Other-installment=3', 'People-liable-for=1', 'Housing=2'} -> {'target=1'}, Support: 318, Confidence: 0.6989010989010989\n",
            "Rule: {'Other-debtors=1', 'Other-installment=3', 'Age=1', 'Housing=2'} -> {'target=1'}, Support: 311, Confidence: 0.698876404494382\n",
            "Rule: {'Foreign-worker=1', 'Other-debtors=1', 'Sex=1', 'Age=1'} -> {'target=1'}, Support: 369, Confidence: 0.6988636363636364\n",
            "Rule: {'Foreign-worker=1', 'Other-installment=3'} -> {'target=1'}, Support: 546, Confidence: 0.6982097186700768\n",
            "Rule: {'Foreign-worker=1', 'Other-installment=3', 'Housing=2'} -> {'target=1'}, Support: 384, Confidence: 0.6981818181818182\n",
            "Rule: {'Other-debtors=1', 'Sex=1', 'Age=1'} -> {'target=1'}, Support: 384, Confidence: 0.6981818181818182\n",
            "Rule: {'Foreign-worker=1', 'Sex=1', 'People-liable-for=1'} -> {'target=1'}, Support: 370, Confidence: 0.6981132075471698\n",
            "Rule: {'Foreign-worker=1', 'People-liable-for=1', 'Housing=2'} -> {'target=1'}, Support: 409, Confidence: 0.6979522184300341\n",
            "Rule: {'Foreign-worker=1', 'Telephone=1', 'People-liable-for=1'} -> {'target=1'}, Support: 335, Confidence: 0.6979166666666666\n",
            "Rule: {'Other-installment=3', 'People-liable-for=1', 'Number-of-credits=1'} -> {'target=1'}, Support: 321, Confidence: 0.6978260869565217\n",
            "Rule: {'Other-installment=3'} -> {'target=1'}, Support: 568, Confidence: 0.6977886977886978\n",
            "Rule: {'Other-installment=3', 'People-liable-for=1'} -> {'target=1'}, Support: 487, Confidence: 0.6977077363896849\n",
            "Rule: {'Housing=2'} -> {'target=1'}, Support: 497, Confidence: 0.697054698457223\n",
            "Rule: {'People-liable-for=1', 'Number-of-credits=1'} -> {'target=1'}, Support: 383, Confidence: 0.6963636363636364\n",
            "Rule: {'Number-of-credits=1', 'Housing=2'} -> {'target=1'}, Support: 305, Confidence: 0.6963470319634704\n",
            "Rule: {'Foreign-worker=1', 'People-liable-for=1', 'Sex=1', 'Age=1'} -> {'target=1'}, Support: 314, Confidence: 0.6962305986696231\n",
            "Rule: {'Foreign-worker=1', 'Other-debtors=1', 'Age=1', 'Housing=2'} -> {'target=1'}, Support: 369, Confidence: 0.6962264150943396\n",
            "Rule: {'Other-installment=3', 'Housing=2'} -> {'target=1'}, Support: 401, Confidence: 0.6961805555555556\n",
            "Rule: {'Sex=1', 'Age=1'} -> {'target=1'}, Support: 421, Confidence: 0.6958677685950413\n",
            "Rule: {'Sex=1', 'People-liable-for=1'} -> {'target=1'}, Support: 382, Confidence: 0.6958105646630237\n",
            "Rule: {'Foreign-worker=1', 'Other-debtors=1', 'People-liable-for=1', 'Age=1'} -> {'target=1'}, Support: 407, Confidence: 0.6957264957264957\n",
            "Rule: {'Sex=1'} -> {'target=1'}, Support: 480, Confidence: 0.6956521739130435\n",
            "Rule: {'Sex=1', 'Other-installment=3', 'Age=1'} -> {'target=1'}, Support: 336, Confidence: 0.6956521739130435\n",
            "Rule: {'Foreign-worker=1', 'Sex=1'} -> {'target=1'}, Support: 459, Confidence: 0.6954545454545454\n",
            "Rule: {'People-liable-for=1', 'Housing=2'} -> {'target=1'}, Support: 422, Confidence: 0.6952224052718287\n",
            "Rule: {'Foreign-worker=1', 'Other-installment=3', 'Age=1', 'Other-debtors=1', 'People-liable-for=1'} -> {'target=1'}, Support: 335, Confidence: 0.6950207468879668\n",
            "Rule: {'Foreign-worker=1', 'Sex=1', 'Age=1'} -> {'target=1'}, Support: 401, Confidence: 0.6949740034662045\n",
            "Rule: {'Foreign-worker=1', 'Age=1', 'Housing=2', 'Other-debtors=1', 'People-liable-for=1'} -> {'target=1'}, Support: 307, Confidence: 0.6945701357466063\n",
            "Rule: {'Age=1', 'Sex=1', 'People-liable-for=1'} -> {'target=1'}, Support: 325, Confidence: 0.6944444444444444\n",
            "Rule: {'Foreign-worker=1', 'Sex=1', 'Other-installment=3', 'Age=1'} -> {'target=1'}, Support: 318, Confidence: 0.6943231441048034\n",
            "Rule: {'Foreign-worker=1', 'Other-installment=3', 'Age=1', 'Housing=2'} -> {'target=1'}, Support: 322, Confidence: 0.6939655172413793\n",
            "Rule: {'Other-debtors=1', 'Age=1', 'Housing=2'} -> {'target=1'}, Support: 383, Confidence: 0.6938405797101449\n",
            "Rule: {'Foreign-worker=1', 'Other-debtors=1', 'Telephone=1'} -> {'target=1'}, Support: 353, Confidence: 0.693516699410609\n",
            "Rule: {'People-liable-for=1', 'Other-debtors=1', 'Age=1'} -> {'target=1'}, Support: 418, Confidence: 0.693200663349917\n",
            "Rule: {'Other-installment=3', 'Sex=1'} -> {'target=1'}, Support: 384, Confidence: 0.6931407942238267\n",
            "Rule: {'Foreign-worker=1', 'Other-debtors=1', 'Age=1'} -> {'target=1'}, Support: 492, Confidence: 0.6929577464788732\n",
            "Rule: {'Foreign-worker=1', 'Other-debtors=1', 'Other-installment=3', 'Age=1'} -> {'target=1'}, Support: 397, Confidence: 0.6928446771378709\n",
            "Rule: {'Foreign-worker=1', 'People-liable-for=1', 'Age=1'} -> {'target=1'}, Support: 442, Confidence: 0.6927899686520376\n",
            "Rule: {'Other-installment=3', 'Age=1', 'Housing=2'} -> {'target=1'}, Support: 338, Confidence: 0.6926229508196722\n",
            "Rule: {'Foreign-worker=1', 'Other-debtors=1', 'People-liable-for=1', 'Skill-level=3'} -> {'target=1'}, Support: 338, Confidence: 0.6926229508196722\n",
            "Rule: {'Telephone=1', 'People-liable-for=1'} -> {'target=1'}, Support: 347, Confidence: 0.6926147704590818\n",
            "Rule: {'Foreign-worker=1', 'Other-installment=3', 'Sex=1'} -> {'target=1'}, Support: 365, Confidence: 0.6925996204933587\n",
            "Rule: {'Age=1'} -> {'target=1'}, Support: 561, Confidence: 0.6925925925925925\n",
            "Rule: {'Foreign-worker=1', 'Other-installment=3', 'People-liable-for=1', 'Housing=2'} -> {'target=1'}, Support: 331, Confidence: 0.6924686192468619\n",
            "Rule: {'People-liable-for=1', 'Other-debtors=1', 'Other-installment=3', 'Age=1'} -> {'target=1'}, Support: 344, Confidence: 0.6921529175050302\n",
            "Rule: {'People-liable-for=1', 'Other-debtors=1', 'Age=1', 'Housing=2'} -> {'target=1'}, Support: 317, Confidence: 0.6921397379912664\n",
            "Rule: {'Foreign-worker=1', 'Age=1'} -> {'target=1'}, Support: 537, Confidence: 0.6920103092783505\n",
            "Rule: {'Other-debtors=1', 'Age=1'} -> {'target=1'}, Support: 510, Confidence: 0.6919945725915875\n",
            "Rule: {'Foreign-worker=1', 'Age=1', 'Housing=2'} -> {'target=1'}, Support: 402, Confidence: 0.6919104991394148\n",
            "Rule: {'Other-debtors=1', 'Other-installment=3', 'Age=1'} -> {'target=1'}, Support: 413, Confidence: 0.6917922948073701\n",
            "Rule: {'Other-debtors=1', 'People-liable-for=1', 'Skill-level=3'} -> {'target=1'}, Support: 345, Confidence: 0.6913827655310621\n",
            "Rule: {'People-liable-for=1', 'Age=1'} -> {'target=1'}, Support: 457, Confidence: 0.6913767019667171\n",
            "Rule: {'Skill-level=3'} -> {'target=1'}, Support: 435, Confidence: 0.6904761904761905\n",
            "Rule: {'Age=1', 'Housing=2'} -> {'target=1'}, Support: 419, Confidence: 0.6902800658978583\n",
            "Rule: {'Housing=2', 'Skill-level=3'} -> {'target=1'}, Support: 312, Confidence: 0.6902654867256637\n",
            "Rule: {'Other-installment=3', 'People-liable-for=1', 'Housing=2'} -> {'target=1'}, Support: 343, Confidence: 0.6901408450704225\n",
            "Rule: {'Foreign-worker=1', 'Other-debtors=1', 'Skill-level=3'} -> {'target=1'}, Support: 385, Confidence: 0.6899641577060932\n",
            "Rule: {'Foreign-worker=1', 'Age=1', 'Number-of-credits=1'} -> {'target=1'}, Support: 322, Confidence: 0.6895074946466809\n",
            "Rule: {'Foreign-worker=1', 'Housing=2', 'Skill-level=3'} -> {'target=1'}, Support: 302, Confidence: 0.6894977168949772\n",
            "Rule: {'Other-debtors=1', 'Skill-level=3'} -> {'target=1'}, Support: 393, Confidence: 0.6894736842105263\n",
            "Rule: {'Other-debtors=1', 'Age=1', 'Number-of-credits=1'} -> {'target=1'}, Support: 304, Confidence: 0.6893424036281179\n",
            "Rule: {'Other-debtors=1', 'Telephone=1'} -> {'target=1'}, Support: 366, Confidence: 0.6892655367231638\n",
            "Rule: {'Other-installment=3', 'Age=1'} -> {'target=1'}, Support: 450, Confidence: 0.6891271056661562\n",
            "Rule: {'Foreign-worker=1', 'People-liable-for=1', 'Age=1', 'Housing=2'} -> {'target=1'}, Support: 332, Confidence: 0.6887966804979253\n",
            "Rule: {'Foreign-worker=1', 'Other-debtors=1', 'Other-installment=3', 'Skill-level=3'} -> {'target=1'}, Support: 323, Confidence: 0.6886993603411514\n",
            "Rule: {'Foreign-worker=1', 'Other-installment=3', 'Age=1'} -> {'target=1'}, Support: 429, Confidence: 0.6886035313001605\n",
            "Rule: {'Sex=1', 'Other-installment=3', 'People-liable-for=1'} -> {'target=1'}, Support: 309, Confidence: 0.688195991091314\n",
            "Rule: {'Foreign-worker=1', 'Telephone=1'} -> {'target=1'}, Support: 388, Confidence: 0.6879432624113475\n",
            "Rule: {'People-liable-for=1', 'Skill-level=3'} -> {'target=1'}, Support: 379, Confidence: 0.6878402903811253\n",
            "Rule: {'Foreign-worker=1', 'People-liable-for=1', 'Other-installment=3', 'Age=1'} -> {'target=1'}, Support: 359, Confidence: 0.6877394636015326\n",
            "Rule: {'Other-debtors=1', 'Other-installment=3', 'Skill-level=3'} -> {'target=1'}, Support: 330, Confidence: 0.6875\n",
            "Rule: {'Foreign-worker=1', 'Skill-level=3'} -> {'target=1'}, Support: 420, Confidence: 0.6873977086743044\n",
            "Rule: {'People-liable-for=1', 'Age=1', 'Housing=2'} -> {'target=1'}, Support: 344, Confidence: 0.6866267465069861\n",
            "Rule: {'Age=1', 'Number-of-credits=1'} -> {'target=1'}, Support: 335, Confidence: 0.6864754098360656\n",
            "Rule: {'Telephone=1'} -> {'target=1'}, Support: 409, Confidence: 0.6862416107382551\n",
            "Rule: {'Other-installment=3', 'Skill-level=3'} -> {'target=1'}, Support: 363, Confidence: 0.6862003780718336\n",
            "Rule: {'Foreign-worker=1', 'Telephone=1', 'Other-installment=3'} -> {'target=1'}, Support: 317, Confidence: 0.6861471861471862\n",
            "Rule: {'Foreign-worker=1', 'People-liable-for=1', 'Skill-level=3'} -> {'target=1'}, Support: 367, Confidence: 0.685981308411215\n",
            "Rule: {'People-liable-for=1', 'Other-installment=3', 'Age=1'} -> {'target=1'}, Support: 371, Confidence: 0.6857670979667283\n",
            "Rule: {'Foreign-worker=1', 'Other-installment=3', 'Skill-level=3'} -> {'target=1'}, Support: 351, Confidence: 0.6842105263157895\n",
            "Rule: {'Telephone=1', 'Other-installment=3'} -> {'target=1'}, Support: 335, Confidence: 0.6836734693877551\n",
            "Rule: {'Other-installment=3', 'People-liable-for=1', 'Skill-level=3'} -> {'target=1'}, Support: 321, Confidence: 0.6829787234042554\n",
            "Rule: {'Age=1', 'Skill-level=3'} -> {'target=1'}, Support: 336, Confidence: 0.6829268292682927\n",
            "Rule: {'Foreign-worker=1', 'Other-installment=3', 'People-liable-for=1', 'Skill-level=3'} -> {'target=1'}, Support: 312, Confidence: 0.6827133479212254\n",
            "Rule: {'Other-debtors=1', 'Age=1', 'Skill-level=3'} -> {'target=1'}, Support: 303, Confidence: 0.6808988764044944\n",
            "Rule: {'Foreign-worker=1', 'Age=1', 'Skill-level=3'} -> {'target=1'}, Support: 322, Confidence: 0.679324894514768\n",
            "Rule: {'Telephone=1', 'Age=1'} -> {'target=1'}, Support: 304, Confidence: 0.6740576496674058\n",
            "Rule: {'Foreign-worker=1', 'Investment-as-income-percentage=4'} -> {'target=1'}, Support: 312, Confidence: 0.6695278969957081\n",
            "Rule: {'Investment-as-income-percentage=4'} -> {'target=1'}, Support: 317, Confidence: 0.6659663865546218\n"
          ]
        }
      ],
      "source": [
        "transactions = []\n",
        "for index, row in clean_df.iterrows():\n",
        "    transaction = [f\"{col}={val}\" for col, val in row.items()]\n",
        "    transactions.append(transaction)\n",
        "\n",
        "min_support_percentage = 0.3\n",
        "targets = ['target=1', 'target=2']\n",
        "target_frequent_itemsets, support_count = helper.run_eclat(transactions, min_support_percentage,targets)\n",
        "\n",
        "# Calculate confidence for each itemset\n",
        "rules_with_confidence = helper.calculate_confidence(target_frequent_itemsets, support_count,targets)\n",
        "\n",
        "# print(\"Frequent Itemsets containing the target:\")\n",
        "# for itemset, support in target_frequent_itemsets:\n",
        "#     print(\"Itemset:\", itemset, \"Support:\", support)\n",
        "\n",
        "print(\"\\nRules with Confidence:\")\n",
        "for antecedent, consequent, support, confidence in rules_with_confidence:\n",
        "    print(\"Rule: {} -> {}, Support: {}, Confidence: {}\".format(set(antecedent), set(consequent), support, confidence))"
      ]
    },
    {
      "cell_type": "code",
      "execution_count": 17,
      "metadata": {
        "colab": {
          "base_uri": "https://localhost:8080/"
        },
        "id": "_jq97cTiWA8B",
        "outputId": "b121dd69-7c8d-486a-a381-6eae0cc38c46"
      },
      "outputs": [],
      "source": [
        "\n",
        "\n",
        "clean_df['Age'] = np.where(clean_df['Age'] == 0, 1, 2)"
      ]
    },
    {
      "cell_type": "markdown",
      "metadata": {
        "id": "WUPX4FnABoWM"
      },
      "source": [
        "# Using Age as category"
      ]
    },
    {
      "cell_type": "code",
      "execution_count": 18,
      "metadata": {
        "colab": {
          "base_uri": "https://localhost:8080/"
        },
        "id": "yTVMFcOyCqY8",
        "outputId": "e9174ab5-fe11-4a09-f157-626f1b1dfa95"
      },
      "outputs": [
        {
          "name": "stdout",
          "output_type": "stream",
          "text": [
            "0.625\n",
            "0.7440476190476191\n",
            "----------------------------------------\n",
            "0.703125\n",
            "0.7529761904761905\n",
            "----------------------------------------\n",
            "0.7083333333333333\n",
            "0.7579365079365079\n",
            "----------------------------------------\n",
            "0.703125\n",
            "0.7470238095238095\n",
            "----------------------------------------\n",
            "0.7125000000000001\n",
            "0.7428571428571428\n",
            "----------------------------------------\n",
            "0.703125\n",
            "0.744047619047619\n",
            "----------------------------------------\n"
          ]
        }
      ],
      "source": [
        "helper.calculateParityusingKNN(dirty_df)"
      ]
    },
    {
      "cell_type": "markdown",
      "metadata": {
        "id": "iojakH7L1xg9"
      },
      "source": [
        "Logistic Regression"
      ]
    },
    {
      "cell_type": "code",
      "execution_count": 19,
      "metadata": {
        "colab": {
          "base_uri": "https://localhost:8080/"
        },
        "id": "Cvgt9PZBDPmi",
        "outputId": "75881343-2f8d-4f34-8f64-e691d93e79a9"
      },
      "outputs": [
        {
          "name": "stdout",
          "output_type": "stream",
          "text": [
            "0.5549451843949365\n",
            "0.7098799194683332\n",
            "----------------------------------------\n"
          ]
        }
      ],
      "source": [
        "helper.calculateParityusingLR(dirty_df)"
      ]
    },
    {
      "cell_type": "code",
      "execution_count": 20,
      "metadata": {
        "colab": {
          "base_uri": "https://localhost:8080/"
        },
        "id": "KWpJfBJBGH4d",
        "outputId": "e531a003-417c-4d74-824b-edd62907a6c2"
      },
      "outputs": [
        {
          "name": "stdout",
          "output_type": "stream",
          "text": [
            "0.715572537118799\n",
            "0.6874252096079484\n",
            "----------------------------------------\n"
          ]
        }
      ],
      "source": [
        "\n",
        "helper.calculateParityusingLR(clean_df)"
      ]
    },
    {
      "cell_type": "code",
      "execution_count": 21,
      "metadata": {
        "colab": {
          "base_uri": "https://localhost:8080/"
        },
        "id": "lSSyHkUCgIyl",
        "outputId": "740517ef-6adb-4763-ac8d-239fca206243"
      },
      "outputs": [
        {
          "name": "stdout",
          "output_type": "stream",
          "text": [
            "0.6923076923076923\n",
            "0.7241379310344828\n",
            "----------------------------------------\n",
            "0.7115384615384616\n",
            "0.7241379310344828\n",
            "----------------------------------------\n",
            "0.7051282051282051\n",
            "0.7183908045977011\n",
            "----------------------------------------\n",
            "0.7307692307692307\n",
            "0.7169540229885057\n",
            "----------------------------------------\n",
            "0.7153846153846156\n",
            "0.7091954022988505\n",
            "----------------------------------------\n",
            "0.7307692307692307\n",
            "0.7030651340996169\n",
            "----------------------------------------\n"
          ]
        }
      ],
      "source": [
        "helper.calculateParityusingKNN(clean_df)"
      ]
    },
    {
      "cell_type": "markdown",
      "metadata": {
        "id": "zCmbzHBy4ZXV"
      },
      "source": [
        "Support:\n",
        "\n",
        "Support is a measure of how frequently an itemset appears in the dataset.\n",
        "In the Eclat algorithm, the support of an itemset is the number of transactions that contain that itemset.\n",
        "The min_support parameter is a threshold value. Itemsets with support greater than or equal to min_support are considered frequent.\n",
        "\n",
        "\n",
        "Confidence:\n",
        "\n",
        "Confidence is a measure of the reliability of a rule in association rule mining.\n",
        "In the context of the Eclat algorithm, confidence is calculated when generating association rules based on frequent itemsets.\n",
        "For a rule X -> Y, where X and Y are itemsets, confidence is the ratio of the support of the combined itemset (X U Y) to the support of the antecedent (X).\n",
        "The confidence of a rule is calculated as follows: confidence = support(X U Y) / support(X)"
      ]
    },
    {
      "cell_type": "code",
      "execution_count": 14,
      "metadata": {
        "colab": {
          "base_uri": "https://localhost:8080/"
        },
        "id": "Lgj5kY1qMBLm",
        "outputId": "49a63df9-491c-4655-fad9-a00e37ae0fac"
      },
      "outputs": [],
      "source": [
        "clean_sampled_dfs = helper.createSamples(clean_df)\n",
        "\n",
        "dirty_sampled_dfs = helper.createSamples(dirty_df)"
      ]
    },
    {
      "cell_type": "code",
      "execution_count": 26,
      "metadata": {
        "colab": {
          "base_uri": "https://localhost:8080/"
        },
        "id": "pH2cpFvbMBOt",
        "outputId": "a0755588-3f3e-40b1-eaa6-a7b1d127e0f4"
      },
      "outputs": [],
      "source": [
        "import pandas as pd\n",
        "id=1\n",
        "confidence_values=[]\n",
        "support_values=[]\n",
        "for sample_df in clean_sampled_dfs:\n",
        "  transactions = []\n",
        "  for index, row in sample_df.iterrows():\n",
        "      transaction = [f\"{col}={val}\" for col, val in row.items()]\n",
        "      transactions.append(transaction)\n",
        "\n",
        "  min_support_percentage = 0.3\n",
        "  targets = ['target=1', 'target=2']\n",
        "  target_frequent_itemsets, support_count = helper.run_eclat(transactions, min_support_percentage,targets)\n",
        "\n",
        "  # Calculate confidence for each itemset\n",
        "  rules_with_confidence = helper.calculate_confidence(target_frequent_itemsets, support_count,targets)\n",
        "\n",
        "\n",
        "  # print(f\"\\nRules with Confidence for id {id}:\")\n",
        "  for antecedent, consequent, support, confidence in rules_with_confidence:\n",
        "    confidence_values.append(confidence)\n",
        "    support_values.append(support)\n",
        "    break\n",
        "      # print(\"Rule: {} -> {}, Support: {}, Confidence: {}\".format(set(antecedent), set(consequent), support, confidence))\n",
        "  # id+=1\n",
        "  # print(\"----------------------------------------------------------\")\n",
        "\n",
        "\n"
      ]
    },
    {
      "cell_type": "code",
      "execution_count": 27,
      "metadata": {
        "colab": {
          "base_uri": "https://localhost:8080/"
        },
        "id": "kNOEH3EnMBSH",
        "outputId": "b7360d37-4937-4f68-d33d-df917b842da5"
      },
      "outputs": [
        {
          "name": "stdout",
          "output_type": "stream",
          "text": [
            "0.0944905340500406\n",
            "0.024113290711295643\n",
            "0.09189270619973278\n",
            "0.027298240794408124\n",
            "0.08162707372371913\n",
            "0.02554843491441583\n",
            "0.08301634194224361\n",
            "0.09149831778161932\n",
            "0.023581139875784363\n",
            "0.01785392305297573\n",
            "0.1113371715094833\n",
            "0.03290277289379684\n",
            "0.022331520613567246\n",
            "0.0625825034636105\n",
            "0.12789623409367656\n",
            "0.0016612303705426656\n",
            "0.03914615169162505\n",
            "0.06540297262057959\n",
            "0.066339347893146\n",
            "0.06285710819857793\n",
            "0.061730555187056946\n",
            "0.059677195940188055\n",
            "0.09384521361842169\n",
            "0.05818363101728563\n",
            "0.0013558179190227282\n",
            "0.05800486793506243\n",
            "0.029640923894888926\n",
            "0.061455226956969033\n",
            "0.030779003623597312\n",
            "0.05840195809679449\n",
            "0.021274543487638797\n",
            "0.07410027450130585\n",
            "0.015972702530602567\n",
            "0.08317946418455235\n",
            "0.03244925063253001\n",
            "0.10549661979161096\n",
            "0.06996512062653959\n",
            "0.1363703412321997\n",
            "0.02266604111370374\n",
            "0.06575518163487337\n",
            "0.06419348681085868\n",
            "0.03505160195813639\n",
            "0.008688008096588873\n",
            "0.12509677737506308\n",
            "0.01878139786898847\n",
            "0.049751779637525084\n",
            "0.009113871755388026\n",
            "0.0958364335328935\n",
            "0.13374676716816714\n",
            "0.03367403669231883\n"
          ]
        }
      ],
      "source": [
        "\n",
        "id=1\n",
        "parity = []\n",
        "age_below_thes=[]\n",
        "age_above_thres=[]\n",
        "prop_above_thres=[]\n",
        "prop_below_thes=[]\n",
        "for sample_df in clean_sampled_dfs:\n",
        "    X = sample_df.drop('target', axis=1)\n",
        "    y = sample_df['target']\n",
        "\n",
        "    X_train, X_test, y_train, y_test = train_test_split(X, y, test_size=0.2, random_state=42)\n",
        "    logreg = LogisticRegression(max_iter=1000)\n",
        "    logreg.fit(X_train, y_train)\n",
        "    y_pred = logreg.predict(X_test)\n",
        "    y_pred_prob = logreg.predict_proba(X_test)\n",
        "\n",
        "    first_values = [row[0] for row in y_pred_prob]\n",
        "    second_values = [row[1] for row in y_pred_prob]\n",
        "    X_test['prob_1'] = first_values\n",
        "    X_test['prob_2'] = second_values\n",
        "    age_below_thes.append(X_test.loc[X_test['Age'] == 1 , 'prob_1'].mean())\n",
        "    # print(age_below_thes)\n",
        "\n",
        "    age_above_thres.append(X_test.loc[X_test['Age'] == 2, 'prob_1'].mean())\n",
        "    parity_diff = abs(X_test.loc[X_test['Age'] == 2, 'prob_1'].mean() - X_test.loc[X_test['Age'] == 1, 'prob_1'].mean())\n",
        "    print(parity_diff)\n",
        "    parity.append(parity_diff)\n",
        "    id+=1\n",
        "\n",
        "    total_age = sample_df['Age'].value_counts()[1] + sample_df['Age'].value_counts()[2]\n",
        "    prop_above_thres.append( sample_df['Age'].value_counts()[2]/total_age)\n",
        "    prop_below_thes.append(sample_df['Age'].value_counts()[1]/total_age)\n",
        "    filtered_rows = sample_df[(sample_df['Age'] == 1) & (sample_df['target'] == 1)]\n",
        "    total_rows = len(filtered_rows)\n",
        "    filtered_rows = sample_df[(sample_df['Age'] == 2) & (sample_df['target'] == 1)]\n",
        "    total_rows = len(filtered_rows)"
      ]
    },
    {
      "cell_type": "code",
      "execution_count": 28,
      "metadata": {
        "colab": {
          "base_uri": "https://localhost:8080/"
        },
        "id": "hDK3HV8tMBc7",
        "outputId": "80d7dc35-4aec-4e22-983c-ca9e6dffe3bf"
      },
      "outputs": [],
      "source": [
        "import pandas as pd\n",
        "id=1\n",
        "age_percentage = []\n",
        "for sample_df in clean_sampled_dfs:\n",
        "  transactions = []\n",
        "  for index, row in sample_df.iterrows():\n",
        "      transaction = [f\"{col}={val}\" for col, val in row.items()]\n",
        "      transactions.append(transaction)\n",
        "\n",
        "  min_support_percentage = 0.3\n",
        "  targets = ['target=1', 'target=2']\n",
        "  target_frequent_itemsets, support_count = helper.run_eclat(transactions, min_support_percentage,targets)\n",
        "\n",
        "  # Calculate confidence for each itemset\n",
        "  rules_with_confidence = helper.calculate_confidence(target_frequent_itemsets, support_count,targets)\n",
        "\n",
        "\n",
        "  # print(f\"\\nRules with Confidence for id {id}:\")\n",
        "  idx=0\n",
        "  # age_percentage = []\n",
        "  count = 0\n",
        "  for antecedent, consequent, support, confidence in rules_with_confidence:\n",
        "\n",
        "      if 'Age=2' in set(antecedent):\n",
        "        count+=1\n",
        "      if idx>20: break\n",
        "      idx+=1\n",
        "  id+=1\n",
        "  # print(count)\n",
        "  age_percentage.append(count/20)\n",
        "  count=0\n",
        "  # print(\"----------------------------------------------------------\")"
      ]
    },
    {
      "cell_type": "code",
      "execution_count": 29,
      "metadata": {
        "colab": {
          "base_uri": "https://localhost:8080/"
        },
        "id": "slCPnNLinYLo",
        "outputId": "6620d8cf-a7f7-4b69-e3e8-df14a023074f"
      },
      "outputs": [],
      "source": [
        "import pandas as pd\n",
        "from scipy.stats import chi2_contingency\n",
        "\n",
        "chi_squared_results = []\n",
        "for sample_df in clean_sampled_dfs:\n",
        "  contingency_table = pd.crosstab(sample_df['target'],sample_df['Age'])\n",
        "  chi2, p, _, _ = chi2_contingency(contingency_table)\n",
        "  chi_squared_results.append(chi2)\n",
        "\n"
      ]
    },
    {
      "cell_type": "code",
      "execution_count": 30,
      "metadata": {
        "colab": {
          "base_uri": "https://localhost:8080/"
        },
        "id": "Ai83LD-FnYPE",
        "outputId": "0175ca21-a514-43d6-f6b2-7dbe4ad35658"
      },
      "outputs": [
        {
          "data": {
            "text/plain": [
              "[1.6848569327445426,\n",
              " 0.004499791884625338,\n",
              " 1.3626767321348603,\n",
              " 1.444552852126184,\n",
              " 0.0,\n",
              " 0.05226387765183588,\n",
              " 3.6129625275370656,\n",
              " 0.9197565471947747,\n",
              " 0.6768026603730871,\n",
              " 0.024410586057487017,\n",
              " 1.798692995447905,\n",
              " 0.022545637887976273,\n",
              " 0.26353469437572596,\n",
              " 0.3745448257826486,\n",
              " 0.5084522903938962,\n",
              " 0.42333376096436126,\n",
              " 0.0,\n",
              " 0.07116266235495161,\n",
              " 0.5717859376395962,\n",
              " 0.0,\n",
              " 0.0747358507113254,\n",
              " 0.0,\n",
              " 0.0,\n",
              " 1.1802735308170085,\n",
              " 0.06226270586715719,\n",
              " 0.0,\n",
              " 0.01265638778438471,\n",
              " 0.002807288833028994,\n",
              " 0.005524106147014883,\n",
              " 0.4337274125336412,\n",
              " 0.02737771288245827,\n",
              " 4.573394370788959,\n",
              " 0.14752360226435024,\n",
              " 1.9812878370941114,\n",
              " 0.24816176470588236,\n",
              " 1.779946545378483,\n",
              " 0.4138561803566812,\n",
              " 1.583407362167564,\n",
              " 0.0,\n",
              " 1.3147348420537435,\n",
              " 0.30470773449799404,\n",
              " 0.6158550049090706,\n",
              " 0.03314322286117827,\n",
              " 0.7487477852224168,\n",
              " 0.5236521379880186,\n",
              " 0.0,\n",
              " 0.0,\n",
              " 0.12074849778865915,\n",
              " 1.4505338103670093,\n",
              " 0.07199667015400536]"
            ]
          },
          "execution_count": 30,
          "metadata": {},
          "output_type": "execute_result"
        }
      ],
      "source": [
        "chi_squared_results"
      ]
    },
    {
      "cell_type": "code",
      "execution_count": 31,
      "metadata": {
        "colab": {
          "base_uri": "https://localhost:8080/"
        },
        "id": "LxIeibWo5mFu",
        "outputId": "04ebd3ca-eb30-4363-e85a-38c8184aea4e"
      },
      "outputs": [
        {
          "data": {
            "text/plain": [
              "(50, 50, 50, 50, 50, 50, 50, 50, 50)"
            ]
          },
          "execution_count": 31,
          "metadata": {},
          "output_type": "execute_result"
        }
      ],
      "source": [
        "len(chi_squared_results),len(age_above_thres),len(age_percentage),len(age_below_thes),len(prop_above_thres),len(prop_below_thes),len(parity),len(confidence_values),len(support_values)"
      ]
    },
    {
      "cell_type": "code",
      "execution_count": null,
      "metadata": {
        "colab": {
          "base_uri": "https://localhost:8080/"
        },
        "id": "52IHZhPo4w60",
        "outputId": "20d9350b-367f-4ac7-ef82-7ff246b27cde"
      },
      "outputs": [
        {
          "name": "stderr",
          "output_type": "stream",
          "text": [
            "/usr/local/lib/python3.10/dist-packages/ipykernel/ipkernel.py:283: DeprecationWarning: `should_run_async` will not call `transform_cell` automatically in the future. Please pass the result to `transformed_cell` argument and any exception that happen during thetransform in `preprocessing_exc_tuple` in IPython 7.17 and above.\n",
            "  and should_run_async(code)\n"
          ]
        }
      ],
      "source": [
        "data = list(zip(chi_squared_results,prop_below_thes,age_percentage,confidence_values,support_values,parity))"
      ]
    },
    {
      "cell_type": "code",
      "execution_count": null,
      "metadata": {
        "colab": {
          "base_uri": "https://localhost:8080/"
        },
        "id": "yoar7F-dnYSV",
        "outputId": "63c7c407-0281-4b9f-f8c2-b2c154ed0c4e"
      },
      "outputs": [
        {
          "name": "stderr",
          "output_type": "stream",
          "text": [
            "/usr/local/lib/python3.10/dist-packages/ipykernel/ipkernel.py:283: DeprecationWarning: `should_run_async` will not call `transform_cell` automatically in the future. Please pass the result to `transformed_cell` argument and any exception that happen during thetransform in `preprocessing_exc_tuple` in IPython 7.17 and above.\n",
            "  and should_run_async(code)\n"
          ]
        }
      ],
      "source": [
        "df = pd.DataFrame(data,columns=['Chi-Square','Prop_Below_Thresh','Age_Percent','Confidence Value','Support Value','Parity'])"
      ]
    },
    {
      "cell_type": "code",
      "execution_count": null,
      "metadata": {
        "colab": {
          "base_uri": "https://localhost:8080/",
          "height": 261
        },
        "id": "c_6h-XAE5mTn",
        "outputId": "731411f7-62d1-4c2e-c917-f6722c70a66a"
      },
      "outputs": [
        {
          "name": "stderr",
          "output_type": "stream",
          "text": [
            "/usr/local/lib/python3.10/dist-packages/ipykernel/ipkernel.py:283: DeprecationWarning: `should_run_async` will not call `transform_cell` automatically in the future. Please pass the result to `transformed_cell` argument and any exception that happen during thetransform in `preprocessing_exc_tuple` in IPython 7.17 and above.\n",
            "  and should_run_async(code)\n"
          ]
        },
        {
          "data": {
            "text/html": [
              "\n",
              "  <div id=\"df-53f5b72d-9b3c-4e77-acd0-14e00a52753f\" class=\"colab-df-container\">\n",
              "    <div>\n",
              "<style scoped>\n",
              "    .dataframe tbody tr th:only-of-type {\n",
              "        vertical-align: middle;\n",
              "    }\n",
              "\n",
              "    .dataframe tbody tr th {\n",
              "        vertical-align: top;\n",
              "    }\n",
              "\n",
              "    .dataframe thead th {\n",
              "        text-align: right;\n",
              "    }\n",
              "</style>\n",
              "<table border=\"1\" class=\"dataframe\">\n",
              "  <thead>\n",
              "    <tr style=\"text-align: right;\">\n",
              "      <th></th>\n",
              "      <th>Chi-Square</th>\n",
              "      <th>Prop_Below_Thresh</th>\n",
              "      <th>Age_Percent</th>\n",
              "      <th>Confidence Value</th>\n",
              "      <th>Support Value</th>\n",
              "      <th>Parity</th>\n",
              "    </tr>\n",
              "  </thead>\n",
              "  <tbody>\n",
              "    <tr>\n",
              "      <th>0</th>\n",
              "      <td>1.684857</td>\n",
              "      <td>0.156667</td>\n",
              "      <td>0.00</td>\n",
              "      <td>0.768000</td>\n",
              "      <td>96</td>\n",
              "      <td>0.028614</td>\n",
              "    </tr>\n",
              "    <tr>\n",
              "      <th>1</th>\n",
              "      <td>0.004500</td>\n",
              "      <td>0.170000</td>\n",
              "      <td>0.35</td>\n",
              "      <td>0.744000</td>\n",
              "      <td>93</td>\n",
              "      <td>0.045967</td>\n",
              "    </tr>\n",
              "    <tr>\n",
              "      <th>2</th>\n",
              "      <td>1.362677</td>\n",
              "      <td>0.183333</td>\n",
              "      <td>0.75</td>\n",
              "      <td>0.773050</td>\n",
              "      <td>109</td>\n",
              "      <td>0.062266</td>\n",
              "    </tr>\n",
              "    <tr>\n",
              "      <th>3</th>\n",
              "      <td>1.444553</td>\n",
              "      <td>0.160000</td>\n",
              "      <td>0.10</td>\n",
              "      <td>0.710938</td>\n",
              "      <td>91</td>\n",
              "      <td>0.062686</td>\n",
              "    </tr>\n",
              "    <tr>\n",
              "      <th>4</th>\n",
              "      <td>0.000000</td>\n",
              "      <td>0.166667</td>\n",
              "      <td>0.00</td>\n",
              "      <td>0.803279</td>\n",
              "      <td>98</td>\n",
              "      <td>0.078918</td>\n",
              "    </tr>\n",
              "  </tbody>\n",
              "</table>\n",
              "</div>\n",
              "    <div class=\"colab-df-buttons\">\n",
              "\n",
              "  <div class=\"colab-df-container\">\n",
              "    <button class=\"colab-df-convert\" onclick=\"convertToInteractive('df-53f5b72d-9b3c-4e77-acd0-14e00a52753f')\"\n",
              "            title=\"Convert this dataframe to an interactive table.\"\n",
              "            style=\"display:none;\">\n",
              "\n",
              "  <svg xmlns=\"http://www.w3.org/2000/svg\" height=\"24px\" viewBox=\"0 -960 960 960\">\n",
              "    <path d=\"M120-120v-720h720v720H120Zm60-500h600v-160H180v160Zm220 220h160v-160H400v160Zm0 220h160v-160H400v160ZM180-400h160v-160H180v160Zm440 0h160v-160H620v160ZM180-180h160v-160H180v160Zm440 0h160v-160H620v160Z\"/>\n",
              "  </svg>\n",
              "    </button>\n",
              "\n",
              "  <style>\n",
              "    .colab-df-container {\n",
              "      display:flex;\n",
              "      gap: 12px;\n",
              "    }\n",
              "\n",
              "    .colab-df-convert {\n",
              "      background-color: #E8F0FE;\n",
              "      border: none;\n",
              "      border-radius: 50%;\n",
              "      cursor: pointer;\n",
              "      display: none;\n",
              "      fill: #1967D2;\n",
              "      height: 32px;\n",
              "      padding: 0 0 0 0;\n",
              "      width: 32px;\n",
              "    }\n",
              "\n",
              "    .colab-df-convert:hover {\n",
              "      background-color: #E2EBFA;\n",
              "      box-shadow: 0px 1px 2px rgba(60, 64, 67, 0.3), 0px 1px 3px 1px rgba(60, 64, 67, 0.15);\n",
              "      fill: #174EA6;\n",
              "    }\n",
              "\n",
              "    .colab-df-buttons div {\n",
              "      margin-bottom: 4px;\n",
              "    }\n",
              "\n",
              "    [theme=dark] .colab-df-convert {\n",
              "      background-color: #3B4455;\n",
              "      fill: #D2E3FC;\n",
              "    }\n",
              "\n",
              "    [theme=dark] .colab-df-convert:hover {\n",
              "      background-color: #434B5C;\n",
              "      box-shadow: 0px 1px 3px 1px rgba(0, 0, 0, 0.15);\n",
              "      filter: drop-shadow(0px 1px 2px rgba(0, 0, 0, 0.3));\n",
              "      fill: #FFFFFF;\n",
              "    }\n",
              "  </style>\n",
              "\n",
              "    <script>\n",
              "      const buttonEl =\n",
              "        document.querySelector('#df-53f5b72d-9b3c-4e77-acd0-14e00a52753f button.colab-df-convert');\n",
              "      buttonEl.style.display =\n",
              "        google.colab.kernel.accessAllowed ? 'block' : 'none';\n",
              "\n",
              "      async function convertToInteractive(key) {\n",
              "        const element = document.querySelector('#df-53f5b72d-9b3c-4e77-acd0-14e00a52753f');\n",
              "        const dataTable =\n",
              "          await google.colab.kernel.invokeFunction('convertToInteractive',\n",
              "                                                    [key], {});\n",
              "        if (!dataTable) return;\n",
              "\n",
              "        const docLinkHtml = 'Like what you see? Visit the ' +\n",
              "          '<a target=\"_blank\" href=https://colab.research.google.com/notebooks/data_table.ipynb>data table notebook</a>'\n",
              "          + ' to learn more about interactive tables.';\n",
              "        element.innerHTML = '';\n",
              "        dataTable['output_type'] = 'display_data';\n",
              "        await google.colab.output.renderOutput(dataTable, element);\n",
              "        const docLink = document.createElement('div');\n",
              "        docLink.innerHTML = docLinkHtml;\n",
              "        element.appendChild(docLink);\n",
              "      }\n",
              "    </script>\n",
              "  </div>\n",
              "\n",
              "\n",
              "<div id=\"df-7fbc54f6-62b3-4528-ad2e-1e4cdb3ecb39\">\n",
              "  <button class=\"colab-df-quickchart\" onclick=\"quickchart('df-7fbc54f6-62b3-4528-ad2e-1e4cdb3ecb39')\"\n",
              "            title=\"Suggest charts\"\n",
              "            style=\"display:none;\">\n",
              "\n",
              "<svg xmlns=\"http://www.w3.org/2000/svg\" height=\"24px\"viewBox=\"0 0 24 24\"\n",
              "     width=\"24px\">\n",
              "    <g>\n",
              "        <path d=\"M19 3H5c-1.1 0-2 .9-2 2v14c0 1.1.9 2 2 2h14c1.1 0 2-.9 2-2V5c0-1.1-.9-2-2-2zM9 17H7v-7h2v7zm4 0h-2V7h2v10zm4 0h-2v-4h2v4z\"/>\n",
              "    </g>\n",
              "</svg>\n",
              "  </button>\n",
              "\n",
              "<style>\n",
              "  .colab-df-quickchart {\n",
              "      --bg-color: #E8F0FE;\n",
              "      --fill-color: #1967D2;\n",
              "      --hover-bg-color: #E2EBFA;\n",
              "      --hover-fill-color: #174EA6;\n",
              "      --disabled-fill-color: #AAA;\n",
              "      --disabled-bg-color: #DDD;\n",
              "  }\n",
              "\n",
              "  [theme=dark] .colab-df-quickchart {\n",
              "      --bg-color: #3B4455;\n",
              "      --fill-color: #D2E3FC;\n",
              "      --hover-bg-color: #434B5C;\n",
              "      --hover-fill-color: #FFFFFF;\n",
              "      --disabled-bg-color: #3B4455;\n",
              "      --disabled-fill-color: #666;\n",
              "  }\n",
              "\n",
              "  .colab-df-quickchart {\n",
              "    background-color: var(--bg-color);\n",
              "    border: none;\n",
              "    border-radius: 50%;\n",
              "    cursor: pointer;\n",
              "    display: none;\n",
              "    fill: var(--fill-color);\n",
              "    height: 32px;\n",
              "    padding: 0;\n",
              "    width: 32px;\n",
              "  }\n",
              "\n",
              "  .colab-df-quickchart:hover {\n",
              "    background-color: var(--hover-bg-color);\n",
              "    box-shadow: 0 1px 2px rgba(60, 64, 67, 0.3), 0 1px 3px 1px rgba(60, 64, 67, 0.15);\n",
              "    fill: var(--button-hover-fill-color);\n",
              "  }\n",
              "\n",
              "  .colab-df-quickchart-complete:disabled,\n",
              "  .colab-df-quickchart-complete:disabled:hover {\n",
              "    background-color: var(--disabled-bg-color);\n",
              "    fill: var(--disabled-fill-color);\n",
              "    box-shadow: none;\n",
              "  }\n",
              "\n",
              "  .colab-df-spinner {\n",
              "    border: 2px solid var(--fill-color);\n",
              "    border-color: transparent;\n",
              "    border-bottom-color: var(--fill-color);\n",
              "    animation:\n",
              "      spin 1s steps(1) infinite;\n",
              "  }\n",
              "\n",
              "  @keyframes spin {\n",
              "    0% {\n",
              "      border-color: transparent;\n",
              "      border-bottom-color: var(--fill-color);\n",
              "      border-left-color: var(--fill-color);\n",
              "    }\n",
              "    20% {\n",
              "      border-color: transparent;\n",
              "      border-left-color: var(--fill-color);\n",
              "      border-top-color: var(--fill-color);\n",
              "    }\n",
              "    30% {\n",
              "      border-color: transparent;\n",
              "      border-left-color: var(--fill-color);\n",
              "      border-top-color: var(--fill-color);\n",
              "      border-right-color: var(--fill-color);\n",
              "    }\n",
              "    40% {\n",
              "      border-color: transparent;\n",
              "      border-right-color: var(--fill-color);\n",
              "      border-top-color: var(--fill-color);\n",
              "    }\n",
              "    60% {\n",
              "      border-color: transparent;\n",
              "      border-right-color: var(--fill-color);\n",
              "    }\n",
              "    80% {\n",
              "      border-color: transparent;\n",
              "      border-right-color: var(--fill-color);\n",
              "      border-bottom-color: var(--fill-color);\n",
              "    }\n",
              "    90% {\n",
              "      border-color: transparent;\n",
              "      border-bottom-color: var(--fill-color);\n",
              "    }\n",
              "  }\n",
              "</style>\n",
              "\n",
              "  <script>\n",
              "    async function quickchart(key) {\n",
              "      const quickchartButtonEl =\n",
              "        document.querySelector('#' + key + ' button');\n",
              "      quickchartButtonEl.disabled = true;  // To prevent multiple clicks.\n",
              "      quickchartButtonEl.classList.add('colab-df-spinner');\n",
              "      try {\n",
              "        const charts = await google.colab.kernel.invokeFunction(\n",
              "            'suggestCharts', [key], {});\n",
              "      } catch (error) {\n",
              "        console.error('Error during call to suggestCharts:', error);\n",
              "      }\n",
              "      quickchartButtonEl.classList.remove('colab-df-spinner');\n",
              "      quickchartButtonEl.classList.add('colab-df-quickchart-complete');\n",
              "    }\n",
              "    (() => {\n",
              "      let quickchartButtonEl =\n",
              "        document.querySelector('#df-7fbc54f6-62b3-4528-ad2e-1e4cdb3ecb39 button');\n",
              "      quickchartButtonEl.style.display =\n",
              "        google.colab.kernel.accessAllowed ? 'block' : 'none';\n",
              "    })();\n",
              "  </script>\n",
              "</div>\n",
              "\n",
              "    </div>\n",
              "  </div>\n"
            ],
            "text/plain": [
              "   Chi-Square  Prop_Below_Thresh  Age_Percent  Confidence Value  \\\n",
              "0    1.684857           0.156667         0.00          0.768000   \n",
              "1    0.004500           0.170000         0.35          0.744000   \n",
              "2    1.362677           0.183333         0.75          0.773050   \n",
              "3    1.444553           0.160000         0.10          0.710938   \n",
              "4    0.000000           0.166667         0.00          0.803279   \n",
              "\n",
              "   Support Value    Parity  \n",
              "0             96  0.028614  \n",
              "1             93  0.045967  \n",
              "2            109  0.062266  \n",
              "3             91  0.062686  \n",
              "4             98  0.078918  "
            ]
          },
          "execution_count": 125,
          "metadata": {},
          "output_type": "execute_result"
        }
      ],
      "source": [
        "df.head()"
      ]
    },
    {
      "cell_type": "code",
      "execution_count": null,
      "metadata": {
        "colab": {
          "base_uri": "https://localhost:8080/"
        },
        "id": "YhHYnQQjo0_c",
        "outputId": "bdf61be7-c2a1-4821-f667-bae69cb9a660"
      },
      "outputs": [
        {
          "name": "stdout",
          "output_type": "stream",
          "text": [
            "[0.00092271 0.00445349 0.00725344 0.00671822 0.0051276 ]\n",
            "Mean Absolute Error: 0.026007660475800894\n"
          ]
        },
        {
          "name": "stderr",
          "output_type": "stream",
          "text": [
            "/usr/local/lib/python3.10/dist-packages/ipykernel/ipkernel.py:283: DeprecationWarning: `should_run_async` will not call `transform_cell` automatically in the future. Please pass the result to `transformed_cell` argument and any exception that happen during thetransform in `preprocessing_exc_tuple` in IPython 7.17 and above.\n",
            "  and should_run_async(code)\n"
          ]
        }
      ],
      "source": [
        "import pandas as pd\n",
        "from sklearn.model_selection import train_test_split\n",
        "from sklearn.linear_model import LinearRegression\n",
        "from sklearn.metrics import mean_squared_error,f1_score,mean_absolute_error\n",
        "from sklearn.preprocessing import StandardScaler\n",
        "# Assuming your data is in a DataFrame named 'df'\n",
        "\n",
        "# Extract features (independent variables) and target (dependent variable)\n",
        "features = df.drop('Parity',axis=1)\n",
        "target = df['Parity']\n",
        "scaler = StandardScaler()\n",
        "features_normalized = scaler.fit_transform(features)\n",
        "# Split the data into training and testing sets\n",
        "X_train, X_test, y_train, y_test = train_test_split(features_normalized, target, test_size=0.2, random_state=42)\n",
        "\n",
        "# Create and train the linear regression model\n",
        "\n",
        "\n",
        "model = LinearRegression()\n",
        "model.fit(X_train, y_train)\n",
        "\n",
        "# Make predictions on the test set\n",
        "predictions = model.predict(X_test)\n",
        "\n",
        "# Evaluate the model\n",
        "mae = mean_absolute_error(y_test, predictions)\n",
        "print(model.coef_)\n",
        "# Display results\n",
        "print(f\"Mean Absolute Error: {mae}\")\n",
        "\n"
      ]
    },
    {
      "cell_type": "code",
      "execution_count": null,
      "metadata": {
        "colab": {
          "base_uri": "https://localhost:8080/"
        },
        "id": "dg205L1237eo",
        "outputId": "5a80c27d-2bac-45a7-ab9e-1767440f7535"
      },
      "outputs": [
        {
          "name": "stdout",
          "output_type": "stream",
          "text": [
            "13    0.103219\n",
            "39    0.095209\n",
            "30    0.048262\n",
            "45    0.046874\n",
            "17    0.005297\n",
            "48    0.038748\n",
            "26    0.002706\n",
            "25    0.029087\n",
            "32    0.047199\n",
            "19    0.085545\n",
            "Name: Parity, dtype: float64\n",
            "[0.06754982 0.04200008 0.07035828 0.04024514 0.04699133 0.05237538\n",
            " 0.04325002 0.04485899 0.04050235 0.06140606]\n"
          ]
        },
        {
          "name": "stderr",
          "output_type": "stream",
          "text": [
            "/usr/local/lib/python3.10/dist-packages/ipykernel/ipkernel.py:283: DeprecationWarning: `should_run_async` will not call `transform_cell` automatically in the future. Please pass the result to `transformed_cell` argument and any exception that happen during thetransform in `preprocessing_exc_tuple` in IPython 7.17 and above.\n",
            "  and should_run_async(code)\n"
          ]
        },
        {
          "data": {
            "text/plain": [
              "(None, None)"
            ]
          },
          "execution_count": 44,
          "metadata": {},
          "output_type": "execute_result"
        }
      ],
      "source": [
        "print(y_test),print(predictions)"
      ]
    },
    {
      "cell_type": "code",
      "execution_count": null,
      "metadata": {
        "colab": {
          "base_uri": "https://localhost:8080/",
          "height": 485
        },
        "id": "zvyVbeYh7jWE",
        "outputId": "c3f92ad3-13db-41c9-e9f6-e66504da832c"
      },
      "outputs": [
        {
          "name": "stderr",
          "output_type": "stream",
          "text": [
            "/usr/local/lib/python3.10/dist-packages/ipykernel/ipkernel.py:283: DeprecationWarning: `should_run_async` will not call `transform_cell` automatically in the future. Please pass the result to `transformed_cell` argument and any exception that happen during thetransform in `preprocessing_exc_tuple` in IPython 7.17 and above.\n",
            "  and should_run_async(code)\n"
          ]
        },
        {
          "data": {
            "image/png": "[encoded data removed]",
            "text/plain": [
              "<Figure size 640x480 with 1 Axes>"
            ]
          },
          "metadata": {},
          "output_type": "display_data"
        }
      ],
      "source": [
        "import pandas as pd\n",
        "import matplotlib.pyplot as plt\n",
        "\n",
        "# Assuming df is your DataFrame and 'colname' is the name of your column\n",
        "\n",
        "plt.boxplot(df['Parity'])\n",
        "\n",
        "# Required, to actually display the plot\n",
        "plt.show()"
      ]
    },
    {
      "cell_type": "markdown",
      "metadata": {
        "id": "3AlZacYwN6r0"
      },
      "source": [
        "Dirty Data"
      ]
    },
    {
      "cell_type": "code",
      "execution_count": 11,
      "metadata": {
        "colab": {
          "base_uri": "https://localhost:8080/"
        },
        "id": "bsnNTZd_N9D0",
        "outputId": "01b31056-269b-4c6c-dfdb-f8f3fc247c28"
      },
      "outputs": [],
      "source": [
        "dirty_sampled_dfs_train = []\n",
        "dirty_sampled_dfs_test = []\n",
        "num_samples = 100\n",
        "seed_value = 42\n",
        "for i in range(num_samples):\n",
        "    sampled_df = dirty_df.sample(n=20, random_state=seed_value + i)\n",
        "    if(i>num_samples-(num_samples)*0.2):\n",
        "        dirty_sampled_dfs_test.append(sampled_df)\n",
        "    else:\n",
        "        dirty_sampled_dfs_train.append(sampled_df)\n"
      ]
    },
    {
      "cell_type": "code",
      "execution_count": 15,
      "metadata": {
        "colab": {
          "base_uri": "https://localhost:8080/"
        },
        "id": "riTRHq6N59Jh",
        "outputId": "299ec59d-530a-4652-f8b8-4c3b29ce864f"
      },
      "outputs": [
        {
          "data": {
            "text/html": [
              "<div>\n",
              "<style scoped>\n",
              "    .dataframe tbody tr th:only-of-type {\n",
              "        vertical-align: middle;\n",
              "    }\n",
              "\n",
              "    .dataframe tbody tr th {\n",
              "        vertical-align: top;\n",
              "    }\n",
              "\n",
              "    .dataframe thead th {\n",
              "        text-align: right;\n",
              "    }\n",
              "</style>\n",
              "<table border=\"1\" class=\"dataframe\">\n",
              "  <thead>\n",
              "    <tr style=\"text-align: right;\">\n",
              "      <th></th>\n",
              "      <th>Checking-Account</th>\n",
              "      <th>Duration</th>\n",
              "      <th>Credit-history</th>\n",
              "      <th>Purpose</th>\n",
              "      <th>Credit-amount</th>\n",
              "      <th>Savings-account</th>\n",
              "      <th>Present-employment</th>\n",
              "      <th>Installment-rate</th>\n",
              "      <th>Status/sex</th>\n",
              "      <th>Other-debtors</th>\n",
              "      <th>...</th>\n",
              "      <th>Property</th>\n",
              "      <th>Age</th>\n",
              "      <th>Other-installment</th>\n",
              "      <th>Housing</th>\n",
              "      <th>Existing-credits</th>\n",
              "      <th>Job</th>\n",
              "      <th>liable</th>\n",
              "      <th>Telephone</th>\n",
              "      <th>Foreign-worker</th>\n",
              "      <th>target</th>\n",
              "    </tr>\n",
              "  </thead>\n",
              "  <tbody>\n",
              "    <tr>\n",
              "      <th>0</th>\n",
              "      <td>1</td>\n",
              "      <td>6</td>\n",
              "      <td>5</td>\n",
              "      <td>4</td>\n",
              "      <td>1</td>\n",
              "      <td>5</td>\n",
              "      <td>5</td>\n",
              "      <td>4</td>\n",
              "      <td>3</td>\n",
              "      <td>1</td>\n",
              "      <td>...</td>\n",
              "      <td>1</td>\n",
              "      <td>2</td>\n",
              "      <td>3</td>\n",
              "      <td>2</td>\n",
              "      <td>2</td>\n",
              "      <td>3</td>\n",
              "      <td>1</td>\n",
              "      <td>2</td>\n",
              "      <td>1</td>\n",
              "      <td>1</td>\n",
              "    </tr>\n",
              "    <tr>\n",
              "      <th>1</th>\n",
              "      <td>2</td>\n",
              "      <td>48</td>\n",
              "      <td>3</td>\n",
              "      <td>4</td>\n",
              "      <td>4</td>\n",
              "      <td>1</td>\n",
              "      <td>3</td>\n",
              "      <td>2</td>\n",
              "      <td>2</td>\n",
              "      <td>1</td>\n",
              "      <td>...</td>\n",
              "      <td>1</td>\n",
              "      <td>1</td>\n",
              "      <td>3</td>\n",
              "      <td>2</td>\n",
              "      <td>1</td>\n",
              "      <td>3</td>\n",
              "      <td>1</td>\n",
              "      <td>1</td>\n",
              "      <td>1</td>\n",
              "      <td>2</td>\n",
              "    </tr>\n",
              "    <tr>\n",
              "      <th>2</th>\n",
              "      <td>4</td>\n",
              "      <td>12</td>\n",
              "      <td>5</td>\n",
              "      <td>7</td>\n",
              "      <td>2</td>\n",
              "      <td>1</td>\n",
              "      <td>4</td>\n",
              "      <td>2</td>\n",
              "      <td>3</td>\n",
              "      <td>1</td>\n",
              "      <td>...</td>\n",
              "      <td>1</td>\n",
              "      <td>2</td>\n",
              "      <td>3</td>\n",
              "      <td>2</td>\n",
              "      <td>1</td>\n",
              "      <td>2</td>\n",
              "      <td>2</td>\n",
              "      <td>1</td>\n",
              "      <td>1</td>\n",
              "      <td>1</td>\n",
              "    </tr>\n",
              "    <tr>\n",
              "      <th>3</th>\n",
              "      <td>1</td>\n",
              "      <td>42</td>\n",
              "      <td>3</td>\n",
              "      <td>3</td>\n",
              "      <td>4</td>\n",
              "      <td>1</td>\n",
              "      <td>4</td>\n",
              "      <td>2</td>\n",
              "      <td>3</td>\n",
              "      <td>3</td>\n",
              "      <td>...</td>\n",
              "      <td>2</td>\n",
              "      <td>2</td>\n",
              "      <td>3</td>\n",
              "      <td>3</td>\n",
              "      <td>1</td>\n",
              "      <td>3</td>\n",
              "      <td>2</td>\n",
              "      <td>1</td>\n",
              "      <td>1</td>\n",
              "      <td>1</td>\n",
              "    </tr>\n",
              "    <tr>\n",
              "      <th>4</th>\n",
              "      <td>1</td>\n",
              "      <td>24</td>\n",
              "      <td>4</td>\n",
              "      <td>1</td>\n",
              "      <td>4</td>\n",
              "      <td>1</td>\n",
              "      <td>3</td>\n",
              "      <td>3</td>\n",
              "      <td>3</td>\n",
              "      <td>1</td>\n",
              "      <td>...</td>\n",
              "      <td>4</td>\n",
              "      <td>2</td>\n",
              "      <td>3</td>\n",
              "      <td>3</td>\n",
              "      <td>2</td>\n",
              "      <td>3</td>\n",
              "      <td>2</td>\n",
              "      <td>1</td>\n",
              "      <td>1</td>\n",
              "      <td>2</td>\n",
              "    </tr>\n",
              "  </tbody>\n",
              "</table>\n",
              "<p>5 rows × 21 columns</p>\n",
              "</div>"
            ],
            "text/plain": [
              "   Checking-Account  Duration  Credit-history  Purpose Credit-amount  \\\n",
              "0                 1         6               5        4             1   \n",
              "1                 2        48               3        4             4   \n",
              "2                 4        12               5        7             2   \n",
              "3                 1        42               3        3             4   \n",
              "4                 1        24               4        1             4   \n",
              "\n",
              "   Savings-account  Present-employment  Installment-rate  Status/sex  \\\n",
              "0                5                   5                 4           3   \n",
              "1                1                   3                 2           2   \n",
              "2                1                   4                 2           3   \n",
              "3                1                   4                 2           3   \n",
              "4                1                   3                 3           3   \n",
              "\n",
              "   Other-debtors  ...  Property  Age  Other-installment  Housing  \\\n",
              "0              1  ...         1    2                  3        2   \n",
              "1              1  ...         1    1                  3        2   \n",
              "2              1  ...         1    2                  3        2   \n",
              "3              3  ...         2    2                  3        3   \n",
              "4              1  ...         4    2                  3        3   \n",
              "\n",
              "   Existing-credits  Job  liable  Telephone  Foreign-worker  target  \n",
              "0                 2    3       1          2               1       1  \n",
              "1                 1    3       1          1               1       2  \n",
              "2                 1    2       2          1               1       1  \n",
              "3                 1    3       2          1               1       1  \n",
              "4                 2    3       2          1               1       2  \n",
              "\n",
              "[5 rows x 21 columns]"
            ]
          },
          "execution_count": 15,
          "metadata": {},
          "output_type": "execute_result"
        }
      ],
      "source": [
        "dirty_df.head()"
      ]
    },
    {
      "cell_type": "code",
      "execution_count": null,
      "metadata": {
        "colab": {
          "base_uri": "https://localhost:8080/"
        },
        "id": "8KQqUC5037mh",
        "outputId": "287ef109-1afb-484e-e9d1-f12bf4d2cb43"
      },
      "outputs": [
        {
          "name": "stderr",
          "output_type": "stream",
          "text": [
            "/usr/local/lib/python3.10/dist-packages/ipykernel/ipkernel.py:283: DeprecationWarning: `should_run_async` will not call `transform_cell` automatically in the future. Please pass the result to `transformed_cell` argument and any exception that happen during thetransform in `preprocessing_exc_tuple` in IPython 7.17 and above.\n",
            "  and should_run_async(code)\n"
          ]
        }
      ],
      "source": [
        "import pandas as pd\n",
        "from scipy.stats import chi2_contingency\n",
        "def cal_chisquare(sampled_dfs):\n",
        "  chi_squared_results = []\n",
        "  for sample_df in sampled_dfs:\n",
        "    contingency_table = pd.crosstab(sample_df['target'],sample_df['Age'])\n",
        "    chi2, p, _, _ = chi2_contingency(contingency_table)\n",
        "    chi_squared_results.append(chi2)\n",
        "  return chi_squared_results"
      ]
    },
    {
      "cell_type": "code",
      "execution_count": null,
      "metadata": {
        "colab": {
          "base_uri": "https://localhost:8080/"
        },
        "id": "HAoTxaUXcxJJ",
        "outputId": "8dbde6a6-9219-45e0-f95e-f598a4b00185"
      },
      "outputs": [
        {
          "name": "stderr",
          "output_type": "stream",
          "text": [
            "/usr/local/lib/python3.10/dist-packages/ipykernel/ipkernel.py:283: DeprecationWarning: `should_run_async` will not call `transform_cell` automatically in the future. Please pass the result to `transformed_cell` argument and any exception that happen during thetransform in `preprocessing_exc_tuple` in IPython 7.17 and above.\n",
            "  and should_run_async(code)\n"
          ]
        },
        {
          "data": {
            "text/plain": [
              "(50, 50, 50, 50, 50, 50, 50, 50, 50)"
            ]
          },
          "execution_count": 62,
          "metadata": {},
          "output_type": "execute_result"
        }
      ],
      "source": [
        "len(chi_squared_results),len(age_above_thres),len(age_percentage),len(age_below_thes),len(prop_above_thres),len(prop_below_thes),len(parity),len(confidence_values),len(support_values)"
      ]
    },
    {
      "cell_type": "code",
      "execution_count": null,
      "metadata": {
        "colab": {
          "base_uri": "https://localhost:8080/"
        },
        "id": "CnADXlH0cxNs",
        "outputId": "044fc058-48f9-4efa-c1f9-9122810cf6b5"
      },
      "outputs": [
        {
          "name": "stderr",
          "output_type": "stream",
          "text": [
            "/usr/local/lib/python3.10/dist-packages/ipykernel/ipkernel.py:283: DeprecationWarning: `should_run_async` will not call `transform_cell` automatically in the future. Please pass the result to `transformed_cell` argument and any exception that happen during thetransform in `preprocessing_exc_tuple` in IPython 7.17 and above.\n",
            "  and should_run_async(code)\n"
          ]
        }
      ],
      "source": [
        "data = list(zip(chi_squared_results,prop_below_thes,age_percentage,confidence_values,support_values,parity))"
      ]
    },
    {
      "cell_type": "code",
      "execution_count": null,
      "metadata": {
        "colab": {
          "base_uri": "https://localhost:8080/",
          "height": 261
        },
        "id": "zsFoYjMMcxSB",
        "outputId": "d7dd25ab-7142-4f71-d14e-08bca7a9759b"
      },
      "outputs": [
        {
          "name": "stderr",
          "output_type": "stream",
          "text": [
            "/usr/local/lib/python3.10/dist-packages/ipykernel/ipkernel.py:283: DeprecationWarning: `should_run_async` will not call `transform_cell` automatically in the future. Please pass the result to `transformed_cell` argument and any exception that happen during thetransform in `preprocessing_exc_tuple` in IPython 7.17 and above.\n",
            "  and should_run_async(code)\n"
          ]
        },
        {
          "data": {
            "text/html": [
              "\n",
              "  <div id=\"df-e713108f-7c50-4ede-a602-e7e6a0ca2b15\" class=\"colab-df-container\">\n",
              "    <div>\n",
              "<style scoped>\n",
              "    .dataframe tbody tr th:only-of-type {\n",
              "        vertical-align: middle;\n",
              "    }\n",
              "\n",
              "    .dataframe tbody tr th {\n",
              "        vertical-align: top;\n",
              "    }\n",
              "\n",
              "    .dataframe thead th {\n",
              "        text-align: right;\n",
              "    }\n",
              "</style>\n",
              "<table border=\"1\" class=\"dataframe\">\n",
              "  <thead>\n",
              "    <tr style=\"text-align: right;\">\n",
              "      <th></th>\n",
              "      <th>Chi-Square</th>\n",
              "      <th>Prop_Below_Thresh</th>\n",
              "      <th>Age_Percent</th>\n",
              "      <th>Confidence Value</th>\n",
              "      <th>Support Value</th>\n",
              "      <th>Parity</th>\n",
              "    </tr>\n",
              "  </thead>\n",
              "  <tbody>\n",
              "    <tr>\n",
              "      <th>0</th>\n",
              "      <td>1.528840</td>\n",
              "      <td>0.173333</td>\n",
              "      <td>0.45</td>\n",
              "      <td>0.768000</td>\n",
              "      <td>96</td>\n",
              "      <td>0.055718</td>\n",
              "    </tr>\n",
              "    <tr>\n",
              "      <th>1</th>\n",
              "      <td>5.488580</td>\n",
              "      <td>0.153333</td>\n",
              "      <td>0.75</td>\n",
              "      <td>0.744000</td>\n",
              "      <td>93</td>\n",
              "      <td>0.153340</td>\n",
              "    </tr>\n",
              "    <tr>\n",
              "      <th>2</th>\n",
              "      <td>6.220391</td>\n",
              "      <td>0.173333</td>\n",
              "      <td>0.60</td>\n",
              "      <td>0.773050</td>\n",
              "      <td>109</td>\n",
              "      <td>0.122295</td>\n",
              "    </tr>\n",
              "    <tr>\n",
              "      <th>3</th>\n",
              "      <td>0.000149</td>\n",
              "      <td>0.133333</td>\n",
              "      <td>0.50</td>\n",
              "      <td>0.710938</td>\n",
              "      <td>91</td>\n",
              "      <td>0.094591</td>\n",
              "    </tr>\n",
              "    <tr>\n",
              "      <th>4</th>\n",
              "      <td>4.141948</td>\n",
              "      <td>0.120000</td>\n",
              "      <td>0.55</td>\n",
              "      <td>0.803279</td>\n",
              "      <td>98</td>\n",
              "      <td>0.181383</td>\n",
              "    </tr>\n",
              "  </tbody>\n",
              "</table>\n",
              "</div>\n",
              "    <div class=\"colab-df-buttons\">\n",
              "\n",
              "  <div class=\"colab-df-container\">\n",
              "    <button class=\"colab-df-convert\" onclick=\"convertToInteractive('df-e713108f-7c50-4ede-a602-e7e6a0ca2b15')\"\n",
              "            title=\"Convert this dataframe to an interactive table.\"\n",
              "            style=\"display:none;\">\n",
              "\n",
              "  <svg xmlns=\"http://www.w3.org/2000/svg\" height=\"24px\" viewBox=\"0 -960 960 960\">\n",
              "    <path d=\"M120-120v-720h720v720H120Zm60-500h600v-160H180v160Zm220 220h160v-160H400v160Zm0 220h160v-160H400v160ZM180-400h160v-160H180v160Zm440 0h160v-160H620v160ZM180-180h160v-160H180v160Zm440 0h160v-160H620v160Z\"/>\n",
              "  </svg>\n",
              "    </button>\n",
              "\n",
              "  <style>\n",
              "    .colab-df-container {\n",
              "      display:flex;\n",
              "      gap: 12px;\n",
              "    }\n",
              "\n",
              "    .colab-df-convert {\n",
              "      background-color: #E8F0FE;\n",
              "      border: none;\n",
              "      border-radius: 50%;\n",
              "      cursor: pointer;\n",
              "      display: none;\n",
              "      fill: #1967D2;\n",
              "      height: 32px;\n",
              "      padding: 0 0 0 0;\n",
              "      width: 32px;\n",
              "    }\n",
              "\n",
              "    .colab-df-convert:hover {\n",
              "      background-color: #E2EBFA;\n",
              "      box-shadow: 0px 1px 2px rgba(60, 64, 67, 0.3), 0px 1px 3px 1px rgba(60, 64, 67, 0.15);\n",
              "      fill: #174EA6;\n",
              "    }\n",
              "\n",
              "    .colab-df-buttons div {\n",
              "      margin-bottom: 4px;\n",
              "    }\n",
              "\n",
              "    [theme=dark] .colab-df-convert {\n",
              "      background-color: #3B4455;\n",
              "      fill: #D2E3FC;\n",
              "    }\n",
              "\n",
              "    [theme=dark] .colab-df-convert:hover {\n",
              "      background-color: #434B5C;\n",
              "      box-shadow: 0px 1px 3px 1px rgba(0, 0, 0, 0.15);\n",
              "      filter: drop-shadow(0px 1px 2px rgba(0, 0, 0, 0.3));\n",
              "      fill: #FFFFFF;\n",
              "    }\n",
              "  </style>\n",
              "\n",
              "    <script>\n",
              "      const buttonEl =\n",
              "        document.querySelector('#df-e713108f-7c50-4ede-a602-e7e6a0ca2b15 button.colab-df-convert');\n",
              "      buttonEl.style.display =\n",
              "        google.colab.kernel.accessAllowed ? 'block' : 'none';\n",
              "\n",
              "      async function convertToInteractive(key) {\n",
              "        const element = document.querySelector('#df-e713108f-7c50-4ede-a602-e7e6a0ca2b15');\n",
              "        const dataTable =\n",
              "          await google.colab.kernel.invokeFunction('convertToInteractive',\n",
              "                                                    [key], {});\n",
              "        if (!dataTable) return;\n",
              "\n",
              "        const docLinkHtml = 'Like what you see? Visit the ' +\n",
              "          '<a target=\"_blank\" href=https://colab.research.google.com/notebooks/data_table.ipynb>data table notebook</a>'\n",
              "          + ' to learn more about interactive tables.';\n",
              "        element.innerHTML = '';\n",
              "        dataTable['output_type'] = 'display_data';\n",
              "        await google.colab.output.renderOutput(dataTable, element);\n",
              "        const docLink = document.createElement('div');\n",
              "        docLink.innerHTML = docLinkHtml;\n",
              "        element.appendChild(docLink);\n",
              "      }\n",
              "    </script>\n",
              "  </div>\n",
              "\n",
              "\n",
              "<div id=\"df-f27d5e63-6eaf-431d-b267-e47a7b23b51c\">\n",
              "  <button class=\"colab-df-quickchart\" onclick=\"quickchart('df-f27d5e63-6eaf-431d-b267-e47a7b23b51c')\"\n",
              "            title=\"Suggest charts\"\n",
              "            style=\"display:none;\">\n",
              "\n",
              "<svg xmlns=\"http://www.w3.org/2000/svg\" height=\"24px\"viewBox=\"0 0 24 24\"\n",
              "     width=\"24px\">\n",
              "    <g>\n",
              "        <path d=\"M19 3H5c-1.1 0-2 .9-2 2v14c0 1.1.9 2 2 2h14c1.1 0 2-.9 2-2V5c0-1.1-.9-2-2-2zM9 17H7v-7h2v7zm4 0h-2V7h2v10zm4 0h-2v-4h2v4z\"/>\n",
              "    </g>\n",
              "</svg>\n",
              "  </button>\n",
              "\n",
              "<style>\n",
              "  .colab-df-quickchart {\n",
              "      --bg-color: #E8F0FE;\n",
              "      --fill-color: #1967D2;\n",
              "      --hover-bg-color: #E2EBFA;\n",
              "      --hover-fill-color: #174EA6;\n",
              "      --disabled-fill-color: #AAA;\n",
              "      --disabled-bg-color: #DDD;\n",
              "  }\n",
              "\n",
              "  [theme=dark] .colab-df-quickchart {\n",
              "      --bg-color: #3B4455;\n",
              "      --fill-color: #D2E3FC;\n",
              "      --hover-bg-color: #434B5C;\n",
              "      --hover-fill-color: #FFFFFF;\n",
              "      --disabled-bg-color: #3B4455;\n",
              "      --disabled-fill-color: #666;\n",
              "  }\n",
              "\n",
              "  .colab-df-quickchart {\n",
              "    background-color: var(--bg-color);\n",
              "    border: none;\n",
              "    border-radius: 50%;\n",
              "    cursor: pointer;\n",
              "    display: none;\n",
              "    fill: var(--fill-color);\n",
              "    height: 32px;\n",
              "    padding: 0;\n",
              "    width: 32px;\n",
              "  }\n",
              "\n",
              "  .colab-df-quickchart:hover {\n",
              "    background-color: var(--hover-bg-color);\n",
              "    box-shadow: 0 1px 2px rgba(60, 64, 67, 0.3), 0 1px 3px 1px rgba(60, 64, 67, 0.15);\n",
              "    fill: var(--button-hover-fill-color);\n",
              "  }\n",
              "\n",
              "  .colab-df-quickchart-complete:disabled,\n",
              "  .colab-df-quickchart-complete:disabled:hover {\n",
              "    background-color: var(--disabled-bg-color);\n",
              "    fill: var(--disabled-fill-color);\n",
              "    box-shadow: none;\n",
              "  }\n",
              "\n",
              "  .colab-df-spinner {\n",
              "    border: 2px solid var(--fill-color);\n",
              "    border-color: transparent;\n",
              "    border-bottom-color: var(--fill-color);\n",
              "    animation:\n",
              "      spin 1s steps(1) infinite;\n",
              "  }\n",
              "\n",
              "  @keyframes spin {\n",
              "    0% {\n",
              "      border-color: transparent;\n",
              "      border-bottom-color: var(--fill-color);\n",
              "      border-left-color: var(--fill-color);\n",
              "    }\n",
              "    20% {\n",
              "      border-color: transparent;\n",
              "      border-left-color: var(--fill-color);\n",
              "      border-top-color: var(--fill-color);\n",
              "    }\n",
              "    30% {\n",
              "      border-color: transparent;\n",
              "      border-left-color: var(--fill-color);\n",
              "      border-top-color: var(--fill-color);\n",
              "      border-right-color: var(--fill-color);\n",
              "    }\n",
              "    40% {\n",
              "      border-color: transparent;\n",
              "      border-right-color: var(--fill-color);\n",
              "      border-top-color: var(--fill-color);\n",
              "    }\n",
              "    60% {\n",
              "      border-color: transparent;\n",
              "      border-right-color: var(--fill-color);\n",
              "    }\n",
              "    80% {\n",
              "      border-color: transparent;\n",
              "      border-right-color: var(--fill-color);\n",
              "      border-bottom-color: var(--fill-color);\n",
              "    }\n",
              "    90% {\n",
              "      border-color: transparent;\n",
              "      border-bottom-color: var(--fill-color);\n",
              "    }\n",
              "  }\n",
              "</style>\n",
              "\n",
              "  <script>\n",
              "    async function quickchart(key) {\n",
              "      const quickchartButtonEl =\n",
              "        document.querySelector('#' + key + ' button');\n",
              "      quickchartButtonEl.disabled = true;  // To prevent multiple clicks.\n",
              "      quickchartButtonEl.classList.add('colab-df-spinner');\n",
              "      try {\n",
              "        const charts = await google.colab.kernel.invokeFunction(\n",
              "            'suggestCharts', [key], {});\n",
              "      } catch (error) {\n",
              "        console.error('Error during call to suggestCharts:', error);\n",
              "      }\n",
              "      quickchartButtonEl.classList.remove('colab-df-spinner');\n",
              "      quickchartButtonEl.classList.add('colab-df-quickchart-complete');\n",
              "    }\n",
              "    (() => {\n",
              "      let quickchartButtonEl =\n",
              "        document.querySelector('#df-f27d5e63-6eaf-431d-b267-e47a7b23b51c button');\n",
              "      quickchartButtonEl.style.display =\n",
              "        google.colab.kernel.accessAllowed ? 'block' : 'none';\n",
              "    })();\n",
              "  </script>\n",
              "</div>\n",
              "\n",
              "    </div>\n",
              "  </div>\n"
            ],
            "text/plain": [
              "   Chi-Square  Prop_Below_Thresh  Age_Percent  Confidence Value  \\\n",
              "0    1.528840           0.173333         0.45          0.768000   \n",
              "1    5.488580           0.153333         0.75          0.744000   \n",
              "2    6.220391           0.173333         0.60          0.773050   \n",
              "3    0.000149           0.133333         0.50          0.710938   \n",
              "4    4.141948           0.120000         0.55          0.803279   \n",
              "\n",
              "   Support Value    Parity  \n",
              "0             96  0.055718  \n",
              "1             93  0.153340  \n",
              "2            109  0.122295  \n",
              "3             91  0.094591  \n",
              "4             98  0.181383  "
            ]
          },
          "execution_count": 66,
          "metadata": {},
          "output_type": "execute_result"
        }
      ],
      "source": [
        "df.head()"
      ]
    },
    {
      "cell_type": "code",
      "execution_count": null,
      "metadata": {
        "id": "FDTA22_ccxV3"
      },
      "outputs": [],
      "source": []
    },
    {
      "cell_type": "code",
      "execution_count": null,
      "metadata": {
        "colab": {
          "base_uri": "https://localhost:8080/"
        },
        "id": "xilr-HbLPOLW",
        "outputId": "a3099228-490b-4bb7-8ef0-55565e11d151"
      },
      "outputs": [
        {
          "name": "stdout",
          "output_type": "stream",
          "text": [
            "[ 0.07493341  0.00061203 -0.00991892  0.00311136  0.00986575]\n",
            "Mean Absolute Error: 0.04677406253370192\n"
          ]
        },
        {
          "name": "stderr",
          "output_type": "stream",
          "text": [
            "/usr/local/lib/python3.10/dist-packages/ipykernel/ipkernel.py:283: DeprecationWarning: `should_run_async` will not call `transform_cell` automatically in the future. Please pass the result to `transformed_cell` argument and any exception that happen during thetransform in `preprocessing_exc_tuple` in IPython 7.17 and above.\n",
            "  and should_run_async(code)\n"
          ]
        }
      ],
      "source": [
        "\n",
        "import pandas as pd\n",
        "from sklearn.model_selection import train_test_split\n",
        "from sklearn.linear_model import LinearRegression\n",
        "from sklearn.metrics import mean_squared_error,f1_score,mean_absolute_error\n",
        "from sklearn.preprocessing import StandardScaler\n",
        "# Assuming your data is in a DataFrame named 'df'\n",
        "\n",
        "# Extract features (independent variables) and target (dependent variable)\n",
        "features = df.drop('Parity',axis=1)\n",
        "target = df['Parity']\n",
        "scaler = StandardScaler()\n",
        "features_normalized = scaler.fit_transform(features)\n",
        "# Split the data into training and testing sets\n",
        "X_train, X_test, y_train, y_test = train_test_split(features_normalized, target, test_size=0.2, random_state=42)\n",
        "\n",
        "# Create and train the linear regression model\n",
        "\n",
        "\n",
        "model = LinearRegression()\n",
        "model.fit(X_train, y_train)\n",
        "\n",
        "# Make predictions on the test set\n",
        "predictions = model.predict(X_test)\n",
        "\n",
        "# Evaluate the model\n",
        "mae = mean_absolute_error(y_test, predictions)\n",
        "print(model.coef_)\n",
        "# Display results\n",
        "print(f\"Mean Absolute Error: {mae}\")\n",
        "\n"
      ]
    },
    {
      "cell_type": "code",
      "execution_count": null,
      "metadata": {
        "colab": {
          "base_uri": "https://localhost:8080/",
          "height": 485
        },
        "id": "YLFLCCdacxZQ",
        "outputId": "3fb733aa-3b45-47d6-d8de-d0558c263d52"
      },
      "outputs": [
        {
          "name": "stderr",
          "output_type": "stream",
          "text": [
            "/usr/local/lib/python3.10/dist-packages/ipykernel/ipkernel.py:283: DeprecationWarning: `should_run_async` will not call `transform_cell` automatically in the future. Please pass the result to `transformed_cell` argument and any exception that happen during thetransform in `preprocessing_exc_tuple` in IPython 7.17 and above.\n",
            "  and should_run_async(code)\n"
          ]
        },
        {
          "data": {
            "image/png": "[encoded data removed]",
            "text/plain": [
              "<Figure size 640x480 with 1 Axes>"
            ]
          },
          "metadata": {},
          "output_type": "display_data"
        }
      ],
      "source": [
        "import pandas as pd\n",
        "import matplotlib.pyplot as plt\n",
        "\n",
        "# Assuming df is your DataFrame and 'colname' is the name of your column\n",
        "\n",
        "plt.boxplot(df['Parity'])\n",
        "\n",
        "# Required, to actually display the plot\n",
        "plt.show()"
      ]
    },
    {
      "cell_type": "code",
      "execution_count": 46,
      "metadata": {},
      "outputs": [
        {
          "data": {
            "text/plain": [
              "(81, (20, 21), (20, 21), 19)"
            ]
          },
          "execution_count": 46,
          "metadata": {},
          "output_type": "execute_result"
        }
      ],
      "source": [
        "len(dirty_sampled_dfs_train),dirty_sampled_dfs_train[0].shape,dirty_sampled_dfs_test[0].shape,len(dirty_sampled_dfs_test)"
      ]
    },
    {
      "cell_type": "code",
      "execution_count": 12,
      "metadata": {},
      "outputs": [
        {
          "name": "stdout",
          "output_type": "stream",
          "text": [
            "0.8838275260520497\n",
            "0.8807116163013124\n",
            "----------------------------------------\n",
            "0.9554343836186919\n",
            "0.6481571844631978\n",
            "----------------------------------------\n",
            "0.9649257272767238\n",
            "0.98805113609148\n",
            "----------------------------------------\n",
            "nan\n",
            "0.4648374128937192\n",
            "----------------------------------------\n",
            "0.022919755174681478\n",
            "0.6700846963485411\n",
            "----------------------------------------\n",
            "0.808308163288716\n",
            "0.8421538439538709\n",
            "----------------------------------------\n",
            "0.8636949779705057\n",
            "0.5737377083926337\n",
            "----------------------------------------\n",
            "nan\n",
            "0.6186044269286877\n",
            "----------------------------------------\n",
            "0.9578081066302027\n",
            "0.5379408521875554\n",
            "----------------------------------------\n",
            "0.8686367042025549\n",
            "0.7791917236776501\n",
            "----------------------------------------\n",
            "nan\n",
            "0.4872703475889437\n",
            "----------------------------------------\n",
            "0.6094290038125282\n",
            "0.5742106269185807\n",
            "----------------------------------------\n",
            "nan\n",
            "0.9845957159950871\n",
            "----------------------------------------\n",
            "nan\n",
            "0.9988181636546564\n",
            "----------------------------------------\n",
            "nan\n",
            "0.9646814289720249\n",
            "----------------------------------------\n",
            "0.9701579043375058\n",
            "0.6744836762425487\n",
            "----------------------------------------\n",
            "0.14132202908085512\n",
            "0.6863166025281907\n",
            "----------------------------------------\n",
            "nan\n",
            "0.4247205740169946\n",
            "----------------------------------------\n",
            "0.7118355989081435\n",
            "0.574331122628291\n",
            "----------------------------------------\n",
            "0.29754252504791734\n",
            "0.8239779225749337\n",
            "----------------------------------------\n",
            "nan\n",
            "0.8488872749671905\n",
            "----------------------------------------\n",
            "nan\n",
            "0.6895361956519004\n",
            "----------------------------------------\n",
            "nan\n",
            "0.9987073922721774\n",
            "----------------------------------------\n",
            "nan\n",
            "0.5416128036576592\n",
            "----------------------------------------\n",
            "0.7938563113471062\n",
            "0.7716024378152029\n",
            "----------------------------------------\n",
            "0.4901830089144449\n",
            "0.7728116596160615\n",
            "----------------------------------------\n",
            "0.9596915127539509\n",
            "0.9762203604624702\n",
            "----------------------------------------\n",
            "0.9500198578284706\n",
            "0.9402226580003665\n",
            "----------------------------------------\n",
            "nan\n",
            "0.8585305999623394\n",
            "----------------------------------------\n",
            "nan\n",
            "0.3855596804868935\n",
            "----------------------------------------\n",
            "0.979183008329717\n",
            "0.30743831650636955\n",
            "----------------------------------------\n",
            "nan\n",
            "0.6158703722139895\n",
            "----------------------------------------\n",
            "0.8532173986513922\n",
            "0.9033625659510298\n",
            "----------------------------------------\n",
            "0.999437802531935\n",
            "0.9956836989248462\n",
            "----------------------------------------\n",
            "nan\n",
            "0.8146844457936411\n",
            "----------------------------------------\n",
            "nan\n",
            "0.9500269877151197\n",
            "----------------------------------------\n",
            "nan\n",
            "0.9649162941435115\n",
            "----------------------------------------\n",
            "0.1907105984839753\n",
            "0.7096917979797553\n",
            "----------------------------------------\n",
            "0.1575691302677259\n",
            "0.9080620330817615\n",
            "----------------------------------------\n",
            "0.8330364576923762\n",
            "0.7365885991867733\n",
            "----------------------------------------\n",
            "0.8791970450568493\n",
            "0.6354974991907413\n",
            "----------------------------------------\n",
            "0.11317968084686725\n",
            "0.4585462156005849\n",
            "----------------------------------------\n",
            "nan\n",
            "0.5658809076706741\n",
            "----------------------------------------\n",
            "nan\n",
            "0.7911181417098732\n",
            "----------------------------------------\n",
            "nan\n",
            "0.8619377902198789\n",
            "----------------------------------------\n",
            "nan\n",
            "0.9624501988991159\n",
            "----------------------------------------\n",
            "0.7636835117320965\n",
            "0.515633670182304\n",
            "----------------------------------------\n",
            "0.923281552962556\n",
            "0.4933748588732402\n",
            "----------------------------------------\n",
            "0.721276092969509\n",
            "0.3049257572661563\n",
            "----------------------------------------\n",
            "0.9265428980662777\n",
            "0.07282671554209019\n",
            "----------------------------------------\n",
            "nan\n",
            "0.9975865513393335\n",
            "----------------------------------------\n",
            "nan\n",
            "0.8513234362274603\n",
            "----------------------------------------\n",
            "nan\n",
            "0.4725942048920393\n",
            "----------------------------------------\n",
            "nan\n",
            "0.6459200219905422\n",
            "----------------------------------------\n",
            "nan\n",
            "0.990356698997293\n",
            "----------------------------------------\n",
            "0.49943959739394406\n",
            "0.7282560882275285\n",
            "----------------------------------------\n",
            "0.9153148790773435\n",
            "0.7875862813114698\n",
            "----------------------------------------\n",
            "nan\n",
            "0.28370338901719994\n",
            "----------------------------------------\n",
            "0.31924967873629007\n",
            "0.3640324287677544\n",
            "----------------------------------------\n",
            "nan\n",
            "0.7616429253750399\n",
            "----------------------------------------\n",
            "nan\n",
            "0.7869899416517889\n",
            "----------------------------------------\n",
            "nan\n",
            "0.9631026235838861\n",
            "----------------------------------------\n",
            "nan\n",
            "0.6676281160109128\n",
            "----------------------------------------\n",
            "0.6538996386576569\n",
            "0.7447511172432235\n",
            "----------------------------------------\n",
            "nan\n",
            "0.8309595014710394\n",
            "----------------------------------------\n",
            "0.6693766911012524\n",
            "0.7828043079443437\n",
            "----------------------------------------\n",
            "0.29121610777846024\n",
            "0.8348615549220592\n",
            "----------------------------------------\n",
            "0.9077279256008899\n",
            "0.4241397885335625\n",
            "----------------------------------------\n",
            "0.8825902181240749\n",
            "0.6557339582984612\n",
            "----------------------------------------\n",
            "0.004680966641891882\n",
            "0.7899868875030881\n",
            "----------------------------------------\n",
            "nan\n",
            "0.46350053596581514\n",
            "----------------------------------------\n",
            "nan\n",
            "0.9838382621939937\n",
            "----------------------------------------\n",
            "nan\n",
            "0.7070660095200506\n",
            "----------------------------------------\n",
            "0.9835595248006519\n",
            "0.8205909535465125\n",
            "----------------------------------------\n",
            "nan\n",
            "0.5538811221580806\n",
            "----------------------------------------\n",
            "nan\n",
            "0.7727115959266662\n",
            "----------------------------------------\n",
            "0.8791054876838444\n",
            "0.27233544542525084\n",
            "----------------------------------------\n",
            "nan\n",
            "0.508152158360428\n",
            "----------------------------------------\n",
            "nan\n",
            "0.7163576511796319\n",
            "----------------------------------------\n",
            "nan\n",
            "0.8825597228229266\n",
            "----------------------------------------\n",
            "nan\n",
            "0.9675583574628018\n",
            "----------------------------------------\n",
            "0.9068639956362783\n",
            "0.5608020044668178\n",
            "----------------------------------------\n",
            "nan\n",
            "0.9926924423255055\n",
            "----------------------------------------\n",
            "nan\n",
            "0.732076226414675\n",
            "----------------------------------------\n",
            "nan\n",
            "0.646446540910758\n",
            "----------------------------------------\n",
            "nan\n",
            "0.794214431023609\n",
            "----------------------------------------\n",
            "nan\n",
            "0.6004678092866509\n",
            "----------------------------------------\n",
            "nan\n",
            "0.6359949015029822\n",
            "----------------------------------------\n",
            "nan\n",
            "0.9603634082552104\n",
            "----------------------------------------\n",
            "9.518255386087304e-07\n",
            "0.7956028819482904\n",
            "----------------------------------------\n",
            "0.7358416127001353\n",
            "0.6637912645345291\n",
            "----------------------------------------\n",
            "0.9940457236825488\n",
            "0.9898041137772093\n",
            "----------------------------------------\n",
            "0.875289088710006\n",
            "0.9927158641772797\n",
            "----------------------------------------\n",
            "nan\n",
            "0.8340384070241198\n",
            "----------------------------------------\n",
            "0.28666232607809805\n",
            "0.8145944148855455\n",
            "----------------------------------------\n",
            "0.635349461577947\n",
            "0.659835292750224\n",
            "----------------------------------------\n",
            "nan\n",
            "0.6980772340606033\n",
            "----------------------------------------\n",
            "nan\n",
            "0.9034127807417691\n",
            "----------------------------------------\n",
            "nan\n",
            "0.6725071074403931\n",
            "----------------------------------------\n",
            "0.9255400338094961\n",
            "0.975113064682876\n",
            "----------------------------------------\n"
          ]
        }
      ],
      "source": [
        "metafeatures_df_train = helper.createMetaFeaturesDataframe(dirty_sampled_dfs_train)\n",
        "metafeatures_df_test = helper.createMetaFeaturesDataframe(dirty_sampled_dfs_test)"
      ]
    },
    {
      "cell_type": "code",
      "execution_count": 13,
      "metadata": {},
      "outputs": [
        {
          "name": "stdout",
          "output_type": "stream",
          "text": [
            "Mean Squared Error: 0.036199240558481144\n",
            "Coefficients: [ 0.00000000e+00 -3.68628739e-17  3.46944695e-17 -3.46944695e-17\n",
            "  4.85722573e-17 -1.51093423e-02 -7.80237264e-03  2.77555756e-17\n",
            " -1.22909193e-02 -1.46166620e-02  4.23550590e-01  2.95391265e-02\n",
            "  1.97793121e-02]\n"
          ]
        }
      ],
      "source": [
        "import pandas as pd\n",
        "from sklearn.model_selection import train_test_split\n",
        "from sklearn.linear_model import LinearRegression\n",
        "from sklearn.metrics import mean_squared_error\n",
        "\n",
        "\n",
        "X_train = metafeatures_df_train.drop('target', axis=1)\n",
        "y_train = metafeatures_df_train['target']\n",
        "X_test = metafeatures_df_test.drop('target', axis=1)\n",
        "y_test = metafeatures_df_test['target']\n",
        "\n",
        "# Creating the Linear Regression model\n",
        "model = LinearRegression()\n",
        "\n",
        "# Training the model\n",
        "model.fit(X_train, y_train)\n",
        "\n",
        "# Making predictions on the testing set\n",
        "predictions = model.predict(X_test)\n",
        "\n",
        "# Evaluating the model\n",
        "mse = mean_squared_error(y_test, predictions)\n",
        "print(f'Mean Squared Error: {mse}')\n",
        "\n",
        "# Optionally: Displaying the coefficients of the model\n",
        "print(f'Coefficients: {model.coef_}')\n"
      ]
    },
    {
      "cell_type": "code",
      "execution_count": 14,
      "metadata": {},
      "outputs": [
        {
          "data": {
            "text/plain": [
              "Index(['num_instances', 'num_features', 'num_missing_values',\n",
              "       'num_numeric_features', 'num_categorical_features', 'mean_skewness',\n",
              "       'mean_kurtosis', 'pca_components_95_var', 'min_categories',\n",
              "       'max_categories', 'mean_categories', 'mean_entropy', 'correlation',\n",
              "       'target'],\n",
              "      dtype='object')"
            ]
          },
          "execution_count": 14,
          "metadata": {},
          "output_type": "execute_result"
        }
      ],
      "source": [
        "metafeatures_df_train.columns"
      ]
    },
    {
      "cell_type": "code",
      "execution_count": 17,
      "metadata": {},
      "outputs": [
        {
          "name": "stdout",
          "output_type": "stream",
          "text": [
            "num_instances     0.0\n",
            "num_features     -3.686287386450715e-17\n",
            "num_missing_values     3.469446951953614e-17\n",
            "num_numeric_features     -3.469446951953614e-17\n",
            "num_categorical_features     4.85722573273506e-17\n",
            "mean_skewness     -0.015109342306808304\n",
            "mean_kurtosis     -0.007802372641153797\n",
            "pca_components_95_var     2.7755575615628914e-17\n",
            "min_categories     -0.012290919273073504\n",
            "max_categories     -0.014616662008461949\n",
            "mean_categories     0.4235505899633468\n",
            "mean_entropy     0.029539126514751088\n",
            "correlation     0.019779312112538392\n"
          ]
        }
      ],
      "source": [
        "for i in range(len(model.coef_)):\n",
        "    print(metafeatures_df_train.columns[i],\"   \",model.coef_[i])"
      ]
    },
    {
      "cell_type": "code",
      "execution_count": 20,
      "metadata": {},
      "outputs": [
        {
          "data": {
            "text/plain": [
              "0     0.346062\n",
              "1     0.242172\n",
              "2     0.242172\n",
              "3     0.242172\n",
              "4     0.242172\n",
              "5     0.242172\n",
              "6     0.242172\n",
              "7     0.242172\n",
              "8     0.795602\n",
              "9     0.072050\n",
              "10    0.004242\n",
              "11    0.117427\n",
              "12    0.242172\n",
              "13    0.527932\n",
              "14    0.024486\n",
              "15    0.242172\n",
              "16    0.242172\n",
              "17    0.242172\n",
              "18    0.049573\n",
              "Name: target, dtype: float64"
            ]
          },
          "execution_count": 20,
          "metadata": {},
          "output_type": "execute_result"
        }
      ],
      "source": [
        "y_test"
      ]
    },
    {
      "cell_type": "code",
      "execution_count": 19,
      "metadata": {},
      "outputs": [
        {
          "data": {
            "text/plain": [
              "array([0.3505632 , 0.21746798, 0.2092111 , 0.31672878, 0.27991084,\n",
              "       0.20265649, 0.21064039, 0.17678536, 0.26109597, 0.34449525,\n",
              "       0.32483655, 0.31136087, 0.35127237, 0.2936013 , 0.22299048,\n",
              "       0.3324366 , 0.24002277, 0.24018554, 0.28950199])"
            ]
          },
          "execution_count": 19,
          "metadata": {},
          "output_type": "execute_result"
        }
      ],
      "source": [
        "predictions"
      ]
    },
    {
      "cell_type": "code",
      "execution_count": 21,
      "metadata": {},
      "outputs": [
        {
          "data": {
            "text/plain": [
              "(19, 14)"
            ]
          },
          "execution_count": 21,
          "metadata": {},
          "output_type": "execute_result"
        }
      ],
      "source": [
        "metafeatures_df_test.shape"
      ]
    },
    {
      "cell_type": "markdown",
      "metadata": {
        "id": "31IdJIhvoR7D"
      },
      "source": [
        "<h1>Adult Dataset</h1>"
      ]
    },
    {
      "cell_type": "code",
      "execution_count": null,
      "metadata": {
        "colab": {
          "base_uri": "https://localhost:8080/"
        },
        "id": "g39ZUBQJ6-vT",
        "outputId": "ddb6b407-a740-4775-e9c3-d05e43390d00"
      },
      "outputs": [
        {
          "name": "stderr",
          "output_type": "stream",
          "text": [
            "/usr/local/lib/python3.10/dist-packages/ipykernel/ipkernel.py:283: DeprecationWarning: `should_run_async` will not call `transform_cell` automatically in the future. Please pass the result to `transformed_cell` argument and any exception that happen during thetransform in `preprocessing_exc_tuple` in IPython 7.17 and above.\n",
            "  and should_run_async(code)\n"
          ]
        },
        {
          "data": {
            "text/plain": [
              "Index(['Month', 'Credit-amount', 'Investment-as-income-percentage',\n",
              "       'Present-residence', 'Age', 'Number-of-credits', 'People-liable-for',\n",
              "       'Sex', 'Status', 'Housing', 'Skill-level', 'Telephone',\n",
              "       'Foreign-worker', 'Other-installment', 'Other-debtors',\n",
              "       'Credit-history', 'Purpose', 'Savings-account', 'Present-employment',\n",
              "       'Property', 'target'],\n",
              "      dtype='object')"
            ]
          },
          "execution_count": 136,
          "metadata": {},
          "output_type": "execute_result"
        }
      ],
      "source": [
        "sampled_df.columns"
      ]
    },
    {
      "cell_type": "code",
      "execution_count": null,
      "metadata": {
        "colab": {
          "base_uri": "https://localhost:8080/"
        },
        "id": "WepPS_Wd5d51",
        "outputId": "4c1110a4-b31e-455f-9700-40dad8b3b8e7"
      },
      "outputs": [
        {
          "name": "stderr",
          "output_type": "stream",
          "text": [
            "/usr/local/lib/python3.10/dist-packages/ipykernel/ipkernel.py:283: DeprecationWarning: `should_run_async` will not call `transform_cell` automatically in the future. Please pass the result to `transformed_cell` argument and any exception that happen during thetransform in `preprocessing_exc_tuple` in IPython 7.17 and above.\n",
            "  and should_run_async(code)\n"
          ]
        },
        {
          "data": {
            "text/plain": [
              "Index(['Chi-Square', 'Prop_Below_Thresh', 'Age_Percent', 'Confidence Value',\n",
              "       'Support Value', 'Parity'],\n",
              "      dtype='object')"
            ]
          },
          "execution_count": 68,
          "metadata": {},
          "output_type": "execute_result"
        }
      ],
      "source": [
        "df.columns"
      ]
    },
    {
      "cell_type": "code",
      "execution_count": null,
      "metadata": {
        "colab": {
          "base_uri": "https://localhost:8080/"
        },
        "id": "hoq9KesE36kl",
        "outputId": "84f653c4-fa5a-408e-c47f-8c4ee2f7adbb"
      },
      "outputs": [
        {
          "name": "stderr",
          "output_type": "stream",
          "text": [
            "/usr/local/lib/python3.10/dist-packages/ipykernel/ipkernel.py:283: DeprecationWarning: `should_run_async` will not call `transform_cell` automatically in the future. Please pass the result to `transformed_cell` argument and any exception that happen during thetransform in `preprocessing_exc_tuple` in IPython 7.17 and above.\n",
            "  and should_run_async(code)\n"
          ]
        }
      ],
      "source": []
    },
    {
      "cell_type": "code",
      "execution_count": null,
      "metadata": {
        "colab": {
          "base_uri": "https://localhost:8080/"
        },
        "id": "84Timyzv36yx",
        "outputId": "41371bed-b11a-4c86-870f-a6815044c639"
      },
      "outputs": [
        {
          "name": "stderr",
          "output_type": "stream",
          "text": [
            "/usr/local/lib/python3.10/dist-packages/ipykernel/ipkernel.py:283: DeprecationWarning: `should_run_async` will not call `transform_cell` automatically in the future. Please pass the result to `transformed_cell` argument and any exception that happen during thetransform in `preprocessing_exc_tuple` in IPython 7.17 and above.\n",
            "  and should_run_async(code)\n"
          ]
        }
      ],
      "source": []
    },
    {
      "cell_type": "code",
      "execution_count": null,
      "metadata": {
        "id": "uuOmu3uKITBh"
      },
      "outputs": [],
      "source": []
    },
    {
      "cell_type": "code",
      "execution_count": null,
      "metadata": {
        "colab": {
          "base_uri": "https://localhost:8080/",
          "height": 445
        },
        "id": "ct3gylkJoX9W",
        "outputId": "804b06a7-5355-4fa3-8336-f75d7f8f2cef"
      },
      "outputs": [
        {
          "name": "stderr",
          "output_type": "stream",
          "text": [
            "/usr/local/lib/python3.10/dist-packages/ipykernel/ipkernel.py:283: DeprecationWarning: `should_run_async` will not call `transform_cell` automatically in the future. Please pass the result to `transformed_cell` argument and any exception that happen during thetransform in `preprocessing_exc_tuple` in IPython 7.17 and above.\n",
            "  and should_run_async(code)\n"
          ]
        },
        {
          "ename": "FileNotFoundError",
          "evalue": "[Errno 2] No such file or directory: 'adult.data'",
          "output_type": "error",
          "traceback": [
            "\u001b[0;31m---------------------------------------------------------------------------\u001b[0m",
            "\u001b[0;31mFileNotFoundError\u001b[0m                         Traceback (most recent call last)",
            "\u001b[0;32m<ipython-input-37-91a86c53b09f>\u001b[0m in \u001b[0;36m<cell line: 5>\u001b[0;34m()\u001b[0m\n\u001b[1;32m      3\u001b[0m         \u001b[0;34m\"Occupation\"\u001b[0m\u001b[0;34m,\u001b[0m \u001b[0;34m\"Relationship\"\u001b[0m\u001b[0;34m,\u001b[0m \u001b[0;34m\"Race\"\u001b[0m\u001b[0;34m,\u001b[0m \u001b[0;34m\"Sex\"\u001b[0m\u001b[0;34m,\u001b[0m \u001b[0;34m\"Capital Gain\"\u001b[0m\u001b[0;34m,\u001b[0m \u001b[0;34m\"Capital Loss\"\u001b[0m\u001b[0;34m,\u001b[0m\u001b[0;34m\u001b[0m\u001b[0;34m\u001b[0m\u001b[0m\n\u001b[1;32m      4\u001b[0m         \"Hours per week\", \"Country\", \"Target\"]\n\u001b[0;32m----> 5\u001b[0;31m \u001b[0madult_df\u001b[0m \u001b[0;34m=\u001b[0m \u001b[0mpd\u001b[0m\u001b[0;34m.\u001b[0m\u001b[0mread_csv\u001b[0m\u001b[0;34m(\u001b[0m\u001b[0;34m'adult.data'\u001b[0m\u001b[0;34m,\u001b[0m \u001b[0msep\u001b[0m\u001b[0;34m=\u001b[0m\u001b[0;34m','\u001b[0m\u001b[0;34m,\u001b[0m \u001b[0mheader\u001b[0m\u001b[0;34m=\u001b[0m\u001b[0;32mNone\u001b[0m\u001b[0;34m,\u001b[0m\u001b[0mindex_col\u001b[0m\u001b[0;34m=\u001b[0m\u001b[0;36m0\u001b[0m\u001b[0;34m)\u001b[0m\u001b[0;34m\u001b[0m\u001b[0;34m\u001b[0m\u001b[0m\n\u001b[0m\u001b[1;32m      6\u001b[0m \u001b[0madult_df\u001b[0m\u001b[0;34m.\u001b[0m\u001b[0mto_csv\u001b[0m\u001b[0;34m(\u001b[0m\u001b[0;34m'my_file.csv'\u001b[0m\u001b[0;34m,\u001b[0m\u001b[0mheader\u001b[0m\u001b[0;34m=\u001b[0m\u001b[0;32mNone\u001b[0m\u001b[0;34m)\u001b[0m\u001b[0;34m\u001b[0m\u001b[0;34m\u001b[0m\u001b[0m\n\u001b[1;32m      7\u001b[0m \u001b[0madult_df\u001b[0m \u001b[0;34m=\u001b[0m \u001b[0mpd\u001b[0m\u001b[0;34m.\u001b[0m\u001b[0mread_csv\u001b[0m\u001b[0;34m(\u001b[0m\u001b[0;34m'my_file.csv'\u001b[0m\u001b[0;34m,\u001b[0m\u001b[0mnames\u001b[0m\u001b[0;34m=\u001b[0m\u001b[0mfeatures\u001b[0m\u001b[0;34m)\u001b[0m\u001b[0;34m\u001b[0m\u001b[0;34m\u001b[0m\u001b[0m\n",
            "\u001b[0;32m/usr/local/lib/python3.10/dist-packages/pandas/util/_decorators.py\u001b[0m in \u001b[0;36mwrapper\u001b[0;34m(*args, **kwargs)\u001b[0m\n\u001b[1;32m    209\u001b[0m                 \u001b[0;32melse\u001b[0m\u001b[0;34m:\u001b[0m\u001b[0;34m\u001b[0m\u001b[0;34m\u001b[0m\u001b[0m\n\u001b[1;32m    210\u001b[0m                     \u001b[0mkwargs\u001b[0m\u001b[0;34m[\u001b[0m\u001b[0mnew_arg_name\u001b[0m\u001b[0;34m]\u001b[0m \u001b[0;34m=\u001b[0m \u001b[0mnew_arg_value\u001b[0m\u001b[0;34m\u001b[0m\u001b[0;34m\u001b[0m\u001b[0m\n\u001b[0;32m--> 211\u001b[0;31m             \u001b[0;32mreturn\u001b[0m \u001b[0mfunc\u001b[0m\u001b[0;34m(\u001b[0m\u001b[0;34m*\u001b[0m\u001b[0margs\u001b[0m\u001b[0;34m,\u001b[0m \u001b[0;34m**\u001b[0m\u001b[0mkwargs\u001b[0m\u001b[0;34m)\u001b[0m\u001b[0;34m\u001b[0m\u001b[0;34m\u001b[0m\u001b[0m\n\u001b[0m\u001b[1;32m    212\u001b[0m \u001b[0;34m\u001b[0m\u001b[0m\n\u001b[1;32m    213\u001b[0m         \u001b[0;32mreturn\u001b[0m \u001b[0mcast\u001b[0m\u001b[0;34m(\u001b[0m\u001b[0mF\u001b[0m\u001b[0;34m,\u001b[0m \u001b[0mwrapper\u001b[0m\u001b[0;34m)\u001b[0m\u001b[0;34m\u001b[0m\u001b[0;34m\u001b[0m\u001b[0m\n",
            "\u001b[0;32m/usr/local/lib/python3.10/dist-packages/pandas/util/_decorators.py\u001b[0m in \u001b[0;36mwrapper\u001b[0;34m(*args, **kwargs)\u001b[0m\n\u001b[1;32m    329\u001b[0m                     \u001b[0mstacklevel\u001b[0m\u001b[0;34m=\u001b[0m\u001b[0mfind_stack_level\u001b[0m\u001b[0;34m(\u001b[0m\u001b[0;34m)\u001b[0m\u001b[0;34m,\u001b[0m\u001b[0;34m\u001b[0m\u001b[0;34m\u001b[0m\u001b[0m\n\u001b[1;32m    330\u001b[0m                 )\n\u001b[0;32m--> 331\u001b[0;31m             \u001b[0;32mreturn\u001b[0m \u001b[0mfunc\u001b[0m\u001b[0;34m(\u001b[0m\u001b[0;34m*\u001b[0m\u001b[0margs\u001b[0m\u001b[0;34m,\u001b[0m \u001b[0;34m**\u001b[0m\u001b[0mkwargs\u001b[0m\u001b[0;34m)\u001b[0m\u001b[0;34m\u001b[0m\u001b[0;34m\u001b[0m\u001b[0m\n\u001b[0m\u001b[1;32m    332\u001b[0m \u001b[0;34m\u001b[0m\u001b[0m\n\u001b[1;32m    333\u001b[0m         \u001b[0;31m# error: \"Callable[[VarArg(Any), KwArg(Any)], Any]\" has no\u001b[0m\u001b[0;34m\u001b[0m\u001b[0;34m\u001b[0m\u001b[0m\n",
            "\u001b[0;32m/usr/local/lib/python3.10/dist-packages/pandas/io/parsers/readers.py\u001b[0m in \u001b[0;36mread_csv\u001b[0;34m(filepath_or_buffer, sep, delimiter, header, names, index_col, usecols, squeeze, prefix, mangle_dupe_cols, dtype, engine, converters, true_values, false_values, skipinitialspace, skiprows, skipfooter, nrows, na_values, keep_default_na, na_filter, verbose, skip_blank_lines, parse_dates, infer_datetime_format, keep_date_col, date_parser, dayfirst, cache_dates, iterator, chunksize, compression, thousands, decimal, lineterminator, quotechar, quoting, doublequote, escapechar, comment, encoding, encoding_errors, dialect, error_bad_lines, warn_bad_lines, on_bad_lines, delim_whitespace, low_memory, memory_map, float_precision, storage_options)\u001b[0m\n\u001b[1;32m    948\u001b[0m     \u001b[0mkwds\u001b[0m\u001b[0;34m.\u001b[0m\u001b[0mupdate\u001b[0m\u001b[0;34m(\u001b[0m\u001b[0mkwds_defaults\u001b[0m\u001b[0;34m)\u001b[0m\u001b[0;34m\u001b[0m\u001b[0;34m\u001b[0m\u001b[0m\n\u001b[1;32m    949\u001b[0m \u001b[0;34m\u001b[0m\u001b[0m\n\u001b[0;32m--> 950\u001b[0;31m     \u001b[0;32mreturn\u001b[0m \u001b[0m_read\u001b[0m\u001b[0;34m(\u001b[0m\u001b[0mfilepath_or_buffer\u001b[0m\u001b[0;34m,\u001b[0m \u001b[0mkwds\u001b[0m\u001b[0;34m)\u001b[0m\u001b[0;34m\u001b[0m\u001b[0;34m\u001b[0m\u001b[0m\n\u001b[0m\u001b[1;32m    951\u001b[0m \u001b[0;34m\u001b[0m\u001b[0m\n\u001b[1;32m    952\u001b[0m \u001b[0;34m\u001b[0m\u001b[0m\n",
            "\u001b[0;32m/usr/local/lib/python3.10/dist-packages/pandas/io/parsers/readers.py\u001b[0m in \u001b[0;36m_read\u001b[0;34m(filepath_or_buffer, kwds)\u001b[0m\n\u001b[1;32m    603\u001b[0m \u001b[0;34m\u001b[0m\u001b[0m\n\u001b[1;32m    604\u001b[0m     \u001b[0;31m# Create the parser.\u001b[0m\u001b[0;34m\u001b[0m\u001b[0;34m\u001b[0m\u001b[0m\n\u001b[0;32m--> 605\u001b[0;31m     \u001b[0mparser\u001b[0m \u001b[0;34m=\u001b[0m \u001b[0mTextFileReader\u001b[0m\u001b[0;34m(\u001b[0m\u001b[0mfilepath_or_buffer\u001b[0m\u001b[0;34m,\u001b[0m \u001b[0;34m**\u001b[0m\u001b[0mkwds\u001b[0m\u001b[0;34m)\u001b[0m\u001b[0;34m\u001b[0m\u001b[0;34m\u001b[0m\u001b[0m\n\u001b[0m\u001b[1;32m    606\u001b[0m \u001b[0;34m\u001b[0m\u001b[0m\n\u001b[1;32m    607\u001b[0m     \u001b[0;32mif\u001b[0m \u001b[0mchunksize\u001b[0m \u001b[0;32mor\u001b[0m \u001b[0miterator\u001b[0m\u001b[0;34m:\u001b[0m\u001b[0;34m\u001b[0m\u001b[0;34m\u001b[0m\u001b[0m\n",
            "\u001b[0;32m/usr/local/lib/python3.10/dist-packages/pandas/io/parsers/readers.py\u001b[0m in \u001b[0;36m__init__\u001b[0;34m(self, f, engine, **kwds)\u001b[0m\n\u001b[1;32m   1440\u001b[0m \u001b[0;34m\u001b[0m\u001b[0m\n\u001b[1;32m   1441\u001b[0m         \u001b[0mself\u001b[0m\u001b[0;34m.\u001b[0m\u001b[0mhandles\u001b[0m\u001b[0;34m:\u001b[0m \u001b[0mIOHandles\u001b[0m \u001b[0;34m|\u001b[0m \u001b[0;32mNone\u001b[0m \u001b[0;34m=\u001b[0m \u001b[0;32mNone\u001b[0m\u001b[0;34m\u001b[0m\u001b[0;34m\u001b[0m\u001b[0m\n\u001b[0;32m-> 1442\u001b[0;31m         \u001b[0mself\u001b[0m\u001b[0;34m.\u001b[0m\u001b[0m_engine\u001b[0m \u001b[0;34m=\u001b[0m \u001b[0mself\u001b[0m\u001b[0;34m.\u001b[0m\u001b[0m_make_engine\u001b[0m\u001b[0;34m(\u001b[0m\u001b[0mf\u001b[0m\u001b[0;34m,\u001b[0m \u001b[0mself\u001b[0m\u001b[0;34m.\u001b[0m\u001b[0mengine\u001b[0m\u001b[0;34m)\u001b[0m\u001b[0;34m\u001b[0m\u001b[0;34m\u001b[0m\u001b[0m\n\u001b[0m\u001b[1;32m   1443\u001b[0m \u001b[0;34m\u001b[0m\u001b[0m\n\u001b[1;32m   1444\u001b[0m     \u001b[0;32mdef\u001b[0m \u001b[0mclose\u001b[0m\u001b[0;34m(\u001b[0m\u001b[0mself\u001b[0m\u001b[0;34m)\u001b[0m \u001b[0;34m->\u001b[0m \u001b[0;32mNone\u001b[0m\u001b[0;34m:\u001b[0m\u001b[0;34m\u001b[0m\u001b[0;34m\u001b[0m\u001b[0m\n",
            "\u001b[0;32m/usr/local/lib/python3.10/dist-packages/pandas/io/parsers/readers.py\u001b[0m in \u001b[0;36m_make_engine\u001b[0;34m(self, f, engine)\u001b[0m\n\u001b[1;32m   1733\u001b[0m                 \u001b[0;32mif\u001b[0m \u001b[0;34m\"b\"\u001b[0m \u001b[0;32mnot\u001b[0m \u001b[0;32min\u001b[0m \u001b[0mmode\u001b[0m\u001b[0;34m:\u001b[0m\u001b[0;34m\u001b[0m\u001b[0;34m\u001b[0m\u001b[0m\n\u001b[1;32m   1734\u001b[0m                     \u001b[0mmode\u001b[0m \u001b[0;34m+=\u001b[0m \u001b[0;34m\"b\"\u001b[0m\u001b[0;34m\u001b[0m\u001b[0;34m\u001b[0m\u001b[0m\n\u001b[0;32m-> 1735\u001b[0;31m             self.handles = get_handle(\n\u001b[0m\u001b[1;32m   1736\u001b[0m                 \u001b[0mf\u001b[0m\u001b[0;34m,\u001b[0m\u001b[0;34m\u001b[0m\u001b[0;34m\u001b[0m\u001b[0m\n\u001b[1;32m   1737\u001b[0m                 \u001b[0mmode\u001b[0m\u001b[0;34m,\u001b[0m\u001b[0;34m\u001b[0m\u001b[0;34m\u001b[0m\u001b[0m\n",
            "\u001b[0;32m/usr/local/lib/python3.10/dist-packages/pandas/io/common.py\u001b[0m in \u001b[0;36mget_handle\u001b[0;34m(path_or_buf, mode, encoding, compression, memory_map, is_text, errors, storage_options)\u001b[0m\n\u001b[1;32m    854\u001b[0m         \u001b[0;32mif\u001b[0m \u001b[0mioargs\u001b[0m\u001b[0;34m.\u001b[0m\u001b[0mencoding\u001b[0m \u001b[0;32mand\u001b[0m \u001b[0;34m\"b\"\u001b[0m \u001b[0;32mnot\u001b[0m \u001b[0;32min\u001b[0m \u001b[0mioargs\u001b[0m\u001b[0;34m.\u001b[0m\u001b[0mmode\u001b[0m\u001b[0;34m:\u001b[0m\u001b[0;34m\u001b[0m\u001b[0;34m\u001b[0m\u001b[0m\n\u001b[1;32m    855\u001b[0m             \u001b[0;31m# Encoding\u001b[0m\u001b[0;34m\u001b[0m\u001b[0;34m\u001b[0m\u001b[0m\n\u001b[0;32m--> 856\u001b[0;31m             handle = open(\n\u001b[0m\u001b[1;32m    857\u001b[0m                 \u001b[0mhandle\u001b[0m\u001b[0;34m,\u001b[0m\u001b[0;34m\u001b[0m\u001b[0;34m\u001b[0m\u001b[0m\n\u001b[1;32m    858\u001b[0m                 \u001b[0mioargs\u001b[0m\u001b[0;34m.\u001b[0m\u001b[0mmode\u001b[0m\u001b[0;34m,\u001b[0m\u001b[0;34m\u001b[0m\u001b[0;34m\u001b[0m\u001b[0m\n",
            "\u001b[0;31mFileNotFoundError\u001b[0m: [Errno 2] No such file or directory: 'adult.data'"
          ]
        }
      ],
      "source": [
        "import pandas as pd\n",
        "features = [\"Age\", \"Workclass\", \"fnlwgt\", \"Education\", \"Education-Num\", \"Martial Status\",\n",
        "        \"Occupation\", \"Relationship\", \"Race\", \"Sex\", \"Capital Gain\", \"Capital Loss\",\n",
        "        \"Hours per week\", \"Country\", \"Target\"]\n",
        "adult_df = pd.read_csv('adult.data', sep=',', header=None,index_col=0)\n",
        "adult_df.to_csv('my_file.csv',header=None)\n",
        "adult_df = pd.read_csv('my_file.csv',names=features)\n",
        "adult_df"
      ]
    },
    {
      "cell_type": "code",
      "execution_count": null,
      "metadata": {
        "colab": {
          "base_uri": "https://localhost:8080/",
          "height": 230
        },
        "id": "3mLn_LTop5iC",
        "outputId": "67b318e4-6b1e-457b-b997-e7c5edbf2e29"
      },
      "outputs": [
        {
          "name": "stderr",
          "output_type": "stream",
          "text": [
            "/usr/local/lib/python3.10/dist-packages/ipykernel/ipkernel.py:283: DeprecationWarning: `should_run_async` will not call `transform_cell` automatically in the future. Please pass the result to `transformed_cell` argument and any exception that happen during thetransform in `preprocessing_exc_tuple` in IPython 7.17 and above.\n",
            "  and should_run_async(code)\n"
          ]
        },
        {
          "ename": "NameError",
          "evalue": "name 'adult_df' is not defined",
          "output_type": "error",
          "traceback": [
            "\u001b[0;31m---------------------------------------------------------------------------\u001b[0m",
            "\u001b[0;31mNameError\u001b[0m                                 Traceback (most recent call last)",
            "\u001b[0;32m<ipython-input-38-d9a81089631c>\u001b[0m in \u001b[0;36m<cell line: 1>\u001b[0;34m()\u001b[0m\n\u001b[0;32m----> 1\u001b[0;31m \u001b[0madult_df\u001b[0m\u001b[0;34m.\u001b[0m\u001b[0mcolumns\u001b[0m\u001b[0;34m\u001b[0m\u001b[0;34m\u001b[0m\u001b[0m\n\u001b[0m",
            "\u001b[0;31mNameError\u001b[0m: name 'adult_df' is not defined"
          ]
        }
      ],
      "source": [
        "adult_df.columns"
      ]
    },
    {
      "cell_type": "code",
      "execution_count": null,
      "metadata": {
        "id": "Y4_MGATCqtBH"
      },
      "outputs": [],
      "source": [
        "from sklearn.preprocessing import LabelEncoder\n",
        "\n",
        "# Create an instance of LabelEncoder\n",
        "label_encoder = LabelEncoder()\n",
        "\n",
        "categorical_cols = [\"Workclass\", \"Education\", \"Martial Status\", \"Occupation\",\n",
        "                    \"Relationship\", \"Race\", \"Sex\", \"Country\"]\n",
        "for col in categorical_cols:\n",
        "    adult_df[col] = label_encoder.fit_transform(adult_df[col])\n",
        "\n",
        "from sklearn.preprocessing import StandardScaler\n",
        "scaler = StandardScaler()\n",
        "\n",
        "numerical_cols = [\"Age\", \"fnlwgt\", \"Education-Num\", \"Capital Gain\", \"Capital Loss\", \"Hours per week\"]\n",
        "\n",
        "# Apply standard scaling to numerical columns\n",
        "adult_df[numerical_cols] = scaler.fit_transform(adult_df[numerical_cols])\n"
      ]
    },
    {
      "cell_type": "code",
      "execution_count": null,
      "metadata": {
        "id": "iet8DYBrrk74"
      },
      "outputs": [],
      "source": [
        "adult_df['Target'] = np.where(adult_df['Target'] ==' <=50K', 1, 2)\n"
      ]
    },
    {
      "cell_type": "code",
      "execution_count": null,
      "metadata": {
        "id": "WL2QFY4crwYP"
      },
      "outputs": [],
      "source": [
        "for i in range(1,7):\n",
        "  X = df.drop('Target', axis=1)\n",
        "  y = df['Target']\n",
        "\n",
        "  X_train, X_test, y_train, y_test = train_test_split(X, y, test_size=0.2, random_state=0)\n",
        "  knn = KNeighborsClassifier(n_neighbors=i)\n",
        "  knn.fit(X_train, y_train)\n",
        "  y_pred = knn.predict(X_test)\n",
        "  y_pred_prob = knn.predict_proba(X_test)\n",
        "\n",
        "  first_values = [row[0] for row in y_pred_prob]\n",
        "  second_values = [row[1] for row in y_pred_prob]\n",
        "  X_test['prob_1'] = first_values\n",
        "  X_test['prob_2'] = second_values\n",
        "  # Male\n",
        "  age_below_thes= X_test.loc[X_test['Sex'] == 1 , 'prob_1'].mean()\n",
        "\n",
        "  print(age_below_thes)\n",
        "\n",
        "  age_above_thres= X_test.loc[X_test['Sex'] == 0, 'prob_1'].mean()\n",
        "\n",
        "  print(age_above_thres)\n",
        "  print(\"----------------------------------------\")"
      ]
    },
    {
      "cell_type": "code",
      "execution_count": null,
      "metadata": {
        "id": "-tP8xMbA0kO0"
      },
      "outputs": [],
      "source": [
        "  X = df.drop('Target', axis=1)\n",
        "  y = df['Target']\n",
        "\n",
        "  X_train, X_test, y_train, y_test = train_test_split(X, y, test_size=0.2, random_state=0)\n",
        "  logreg = LogisticRegression(max_iter=1000)\n",
        "  logreg.fit(X_train, y_train)\n",
        "  y_pred = logreg.predict(X_test)\n",
        "  y_pred_prob = logreg.predict_proba(X_test)\n",
        "\n",
        "  first_values = [row[0] for row in y_pred_prob]\n",
        "  second_values = [row[1] for row in y_pred_prob]\n",
        "  X_test['prob_1'] = first_values\n",
        "  X_test['prob_2'] = second_values\n",
        "  # Male\n",
        "  age_below_thes= X_test.loc[X_test['Sex'] == 1 , 'prob_1'].mean()\n",
        "\n",
        "  print(age_below_thes)\n",
        "\n",
        "  age_above_thres= X_test.loc[X_test['Sex'] == 0, 'prob_1'].mean()\n",
        "\n",
        "  print(age_above_thres)\n",
        "  print(\"----------------------------------------\")"
      ]
    },
    {
      "cell_type": "markdown",
      "metadata": {
        "id": "ZlSL_Seodi0n"
      },
      "source": [
        "EQUALIZED ODDS GERMAN"
      ]
    },
    {
      "cell_type": "code",
      "execution_count": null,
      "metadata": {
        "id": "aIt7HUNodlcC"
      },
      "outputs": [],
      "source": [
        "X = df.drop('target', axis=1)\n",
        "y = df['target']\n",
        "X_train, X_test, y_train, y_test = train_test_split(X, y, test_size=0.2, random_state=42)\n",
        "knn = KNeighborsClassifier(n_neighbors=5)\n",
        "knn.fit(X_train, y_train)\n",
        "y_pred = knn.predict(X_test)\n",
        "y_pred_prob = knn.predict_proba(X_test)"
      ]
    },
    {
      "cell_type": "code",
      "execution_count": null,
      "metadata": {
        "id": "z_yksEf2do91"
      },
      "outputs": [],
      "source": [
        "from sklearn.metrics import confusion_matrix\n",
        "CM = confusion_matrix(y_test, y_pred)"
      ]
    },
    {
      "cell_type": "code",
      "execution_count": null,
      "metadata": {
        "id": "UeShMji-l9bG"
      },
      "outputs": [],
      "source": [
        "df['Age'] = np.where(df['Age'] < 45, 1, 2)"
      ]
    },
    {
      "cell_type": "code",
      "execution_count": null,
      "metadata": {
        "colab": {
          "base_uri": "https://localhost:8080/",
          "height": 162
        },
        "id": "QiaDGQL1nLfa",
        "outputId": "34fef959-060c-40d0-be98-95c9527dcc3d"
      },
      "outputs": [
        {
          "data": {
            "text/html": [
              "\n",
              "\n",
              "  <div id=\"df-af63174f-94dc-4319-96c6-88f24ea47f60\">\n",
              "    <div class=\"colab-df-container\">\n",
              "      <div>\n",
              "<style scoped>\n",
              "    .dataframe tbody tr th:only-of-type {\n",
              "        vertical-align: middle;\n",
              "    }\n",
              "\n",
              "    .dataframe tbody tr th {\n",
              "        vertical-align: top;\n",
              "    }\n",
              "\n",
              "    .dataframe thead th {\n",
              "        text-align: right;\n",
              "    }\n",
              "</style>\n",
              "<table border=\"1\" class=\"dataframe\">\n",
              "  <thead>\n",
              "    <tr style=\"text-align: right;\">\n",
              "      <th></th>\n",
              "      <th>Checking-Account</th>\n",
              "      <th>Duration</th>\n",
              "      <th>Credit-history</th>\n",
              "      <th>Purpose</th>\n",
              "      <th>Credit-amount</th>\n",
              "      <th>Savings-account</th>\n",
              "      <th>Present-employment</th>\n",
              "      <th>Installment-rate</th>\n",
              "      <th>Status/sex</th>\n",
              "      <th>Other-debtors</th>\n",
              "      <th>Present-residence</th>\n",
              "      <th>Property</th>\n",
              "      <th>Age</th>\n",
              "      <th>Other-installment</th>\n",
              "      <th>Housing</th>\n",
              "      <th>Existing-credits</th>\n",
              "      <th>Job</th>\n",
              "      <th>liable</th>\n",
              "      <th>Telephone</th>\n",
              "      <th>Foreign-worker</th>\n",
              "      <th>target</th>\n",
              "    </tr>\n",
              "  </thead>\n",
              "  <tbody>\n",
              "    <tr>\n",
              "      <th>0</th>\n",
              "      <td>1</td>\n",
              "      <td>6</td>\n",
              "      <td>5</td>\n",
              "      <td>4</td>\n",
              "      <td>1169</td>\n",
              "      <td>5</td>\n",
              "      <td>5</td>\n",
              "      <td>4</td>\n",
              "      <td>3</td>\n",
              "      <td>1</td>\n",
              "      <td>4</td>\n",
              "      <td>1</td>\n",
              "      <td>2</td>\n",
              "      <td>3</td>\n",
              "      <td>2</td>\n",
              "      <td>2</td>\n",
              "      <td>3</td>\n",
              "      <td>1</td>\n",
              "      <td>2</td>\n",
              "      <td>1</td>\n",
              "      <td>1</td>\n",
              "    </tr>\n",
              "  </tbody>\n",
              "</table>\n",
              "</div>\n",
              "      <button class=\"colab-df-convert\" onclick=\"convertToInteractive('df-af63174f-94dc-4319-96c6-88f24ea47f60')\"\n",
              "              title=\"Convert this dataframe to an interactive table.\"\n",
              "              style=\"display:none;\">\n",
              "\n",
              "  <svg xmlns=\"http://www.w3.org/2000/svg\" height=\"24px\"viewBox=\"0 0 24 24\"\n",
              "       width=\"24px\">\n",
              "    <path d=\"M0 0h24v24H0V0z\" fill=\"none\"/>\n",
              "    <path d=\"M18.56 5.44l.94 2.06.94-2.06 2.06-.94-2.06-.94-.94-2.06-.94 2.06-2.06.94zm-11 1L8.5 8.5l.94-2.06 2.06-.94-2.06-.94L8.5 2.5l-.94 2.06-2.06.94zm10 10l.94 2.06.94-2.06 2.06-.94-2.06-.94-.94-2.06-.94 2.06-2.06.94z\"/><path d=\"M17.41 7.96l-1.37-1.37c-.4-.4-.92-.59-1.43-.59-.52 0-1.04.2-1.43.59L10.3 9.45l-7.72 7.72c-.78.78-.78 2.05 0 2.83L4 21.41c.39.39.9.59 1.41.59.51 0 1.02-.2 1.41-.59l7.78-7.78 2.81-2.81c.8-.78.8-2.07 0-2.86zM5.41 20L4 18.59l7.72-7.72 1.47 1.35L5.41 20z\"/>\n",
              "  </svg>\n",
              "      </button>\n",
              "\n",
              "\n",
              "\n",
              "    <div id=\"df-0dc0d065-c4de-4bab-84cb-30ced7f87f39\">\n",
              "      <button class=\"colab-df-quickchart\" onclick=\"quickchart('df-0dc0d065-c4de-4bab-84cb-30ced7f87f39')\"\n",
              "              title=\"Suggest charts.\"\n",
              "              style=\"display:none;\">\n",
              "\n",
              "<svg xmlns=\"http://www.w3.org/2000/svg\" height=\"24px\"viewBox=\"0 0 24 24\"\n",
              "     width=\"24px\">\n",
              "    <g>\n",
              "        <path d=\"M19 3H5c-1.1 0-2 .9-2 2v14c0 1.1.9 2 2 2h14c1.1 0 2-.9 2-2V5c0-1.1-.9-2-2-2zM9 17H7v-7h2v7zm4 0h-2V7h2v10zm4 0h-2v-4h2v4z\"/>\n",
              "    </g>\n",
              "</svg>\n",
              "      </button>\n",
              "    </div>\n",
              "\n",
              "<style>\n",
              "  .colab-df-quickchart {\n",
              "    background-color: #E8F0FE;\n",
              "    border: none;\n",
              "    border-radius: 50%;\n",
              "    cursor: pointer;\n",
              "    display: none;\n",
              "    fill: #1967D2;\n",
              "    height: 32px;\n",
              "    padding: 0 0 0 0;\n",
              "    width: 32px;\n",
              "  }\n",
              "\n",
              "  .colab-df-quickchart:hover {\n",
              "    background-color: #E2EBFA;\n",
              "    box-shadow: 0px 1px 2px rgba(60, 64, 67, 0.3), 0px 1px 3px 1px rgba(60, 64, 67, 0.15);\n",
              "    fill: #174EA6;\n",
              "  }\n",
              "\n",
              "  [theme=dark] .colab-df-quickchart {\n",
              "    background-color: #3B4455;\n",
              "    fill: #D2E3FC;\n",
              "  }\n",
              "\n",
              "  [theme=dark] .colab-df-quickchart:hover {\n",
              "    background-color: #434B5C;\n",
              "    box-shadow: 0px 1px 3px 1px rgba(0, 0, 0, 0.15);\n",
              "    filter: drop-shadow(0px 1px 2px rgba(0, 0, 0, 0.3));\n",
              "    fill: #FFFFFF;\n",
              "  }\n",
              "</style>\n",
              "\n",
              "    <script>\n",
              "      async function quickchart(key) {\n",
              "        const containerElement = document.querySelector('#' + key);\n",
              "        const charts = await google.colab.kernel.invokeFunction(\n",
              "            'suggestCharts', [key], {});\n",
              "      }\n",
              "    </script>\n",
              "\n",
              "      <script>\n",
              "\n",
              "function displayQuickchartButton(domScope) {\n",
              "  let quickchartButtonEl =\n",
              "    domScope.querySelector('#df-0dc0d065-c4de-4bab-84cb-30ced7f87f39 button.colab-df-quickchart');\n",
              "  quickchartButtonEl.style.display =\n",
              "    google.colab.kernel.accessAllowed ? 'block' : 'none';\n",
              "}\n",
              "\n",
              "        displayQuickchartButton(document);\n",
              "      </script>\n",
              "      <style>\n",
              "    .colab-df-container {\n",
              "      display:flex;\n",
              "      flex-wrap:wrap;\n",
              "      gap: 12px;\n",
              "    }\n",
              "\n",
              "    .colab-df-convert {\n",
              "      background-color: #E8F0FE;\n",
              "      border: none;\n",
              "      border-radius: 50%;\n",
              "      cursor: pointer;\n",
              "      display: none;\n",
              "      fill: #1967D2;\n",
              "      height: 32px;\n",
              "      padding: 0 0 0 0;\n",
              "      width: 32px;\n",
              "    }\n",
              "\n",
              "    .colab-df-convert:hover {\n",
              "      background-color: #E2EBFA;\n",
              "      box-shadow: 0px 1px 2px rgba(60, 64, 67, 0.3), 0px 1px 3px 1px rgba(60, 64, 67, 0.15);\n",
              "      fill: #174EA6;\n",
              "    }\n",
              "\n",
              "    [theme=dark] .colab-df-convert {\n",
              "      background-color: #3B4455;\n",
              "      fill: #D2E3FC;\n",
              "    }\n",
              "\n",
              "    [theme=dark] .colab-df-convert:hover {\n",
              "      background-color: #434B5C;\n",
              "      box-shadow: 0px 1px 3px 1px rgba(0, 0, 0, 0.15);\n",
              "      filter: drop-shadow(0px 1px 2px rgba(0, 0, 0, 0.3));\n",
              "      fill: #FFFFFF;\n",
              "    }\n",
              "  </style>\n",
              "\n",
              "      <script>\n",
              "        const buttonEl =\n",
              "          document.querySelector('#df-af63174f-94dc-4319-96c6-88f24ea47f60 button.colab-df-convert');\n",
              "        buttonEl.style.display =\n",
              "          google.colab.kernel.accessAllowed ? 'block' : 'none';\n",
              "\n",
              "        async function convertToInteractive(key) {\n",
              "          const element = document.querySelector('#df-af63174f-94dc-4319-96c6-88f24ea47f60');\n",
              "          const dataTable =\n",
              "            await google.colab.kernel.invokeFunction('convertToInteractive',\n",
              "                                                     [key], {});\n",
              "          if (!dataTable) return;\n",
              "\n",
              "          const docLinkHtml = 'Like what you see? Visit the ' +\n",
              "            '<a target=\"_blank\" href=https://colab.research.google.com/notebooks/data_table.ipynb>data table notebook</a>'\n",
              "            + ' to learn more about interactive tables.';\n",
              "          element.innerHTML = '';\n",
              "          dataTable['output_type'] = 'display_data';\n",
              "          await google.colab.output.renderOutput(dataTable, element);\n",
              "          const docLink = document.createElement('div');\n",
              "          docLink.innerHTML = docLinkHtml;\n",
              "          element.appendChild(docLink);\n",
              "        }\n",
              "      </script>\n",
              "    </div>\n",
              "  </div>\n"
            ],
            "text/plain": [
              "   Checking-Account  Duration  Credit-history  Purpose  Credit-amount  \\\n",
              "0                 1         6               5        4           1169   \n",
              "\n",
              "   Savings-account  Present-employment  Installment-rate  Status/sex  \\\n",
              "0                5                   5                 4           3   \n",
              "\n",
              "   Other-debtors  Present-residence  Property  Age  Other-installment  \\\n",
              "0              1                  4         1    2                  3   \n",
              "\n",
              "   Housing  Existing-credits  Job  liable  Telephone  Foreign-worker  target  \n",
              "0        2                 2    3       1          2               1       1  "
            ]
          },
          "execution_count": 27,
          "metadata": {},
          "output_type": "execute_result"
        }
      ],
      "source": [
        "df.head(1)"
      ]
    },
    {
      "cell_type": "code",
      "execution_count": null,
      "metadata": {
        "id": "W7lOA70XopIw"
      },
      "outputs": [],
      "source": [
        "# Assuming 'Age' is the sensitive attribute column in the DataFrame 'df'\n",
        "X = df.drop('target', axis=1)\n",
        "y = df['target']\n",
        "sensitive_attribute = df['Age']  # Replace 'Age' with the actual column name of the sensitive attribute\n",
        "\n",
        "# Split the dataset into training and testing sets\n",
        "X_train, X_test, y_train, y_test, sensitive_train, sensitive_test = train_test_split(\n",
        "    X, y, sensitive_attribute, test_size=0.2, random_state=42\n",
        ")\n",
        "\n",
        "# Train the classifier\n",
        "knn = KNeighborsClassifier(n_neighbors=5)\n",
        "knn.fit(X_train, y_train)\n",
        "\n",
        "# Predict on the test set\n",
        "y_pred = knn.predict(X_test)\n",
        "y_pred_prob = knn.predict_proba(X_test)\n",
        "\n",
        "# Calculate Equalized Odds\n",
        "y_test_0 = y_test[X_test['Age'] == 1]\n",
        "y_pred_0 = y_pred[X_test['Age'] == 1]\n",
        "confusion_matrix_0 = confusion_matrix(y_test_0, y_pred_0)\n",
        "\n",
        "y_test_1 = y_test[X_test['Age'] == 2]\n",
        "y_pred_1 = y_pred[X_test['Age'] == 2]\n",
        "confusion_matrix_1 = confusion_matrix(y_test_1, y_pred_1)\n",
        "\n",
        "fpr_0 = confusion_matrix_0[0, 1] / (confusion_matrix_0[0, 1] + confusion_matrix_0[0, 0])   # FP / FP+TN\n",
        "fnr_0 = confusion_matrix_0[1, 0] / (confusion_matrix_0[1, 1] + confusion_matrix_0[1, 0])   # FN / TP+FP\n",
        "\n",
        "fpr_1 = confusion_matrix_1[0, 1] / (confusion_matrix_1[0, 1] + confusion_matrix_1[0, 0])\n",
        "fnr_1 = confusion_matrix_1[1, 0] / (confusion_matrix_1[1, 1] + confusion_matrix_1[1, 0])\n",
        "\n",
        "fpr_diff = abs(fpr_0 - fpr_1)\n",
        "fnr_diff = abs(fnr_0 - fnr_1)\n",
        "\n",
        "equalized_odds = (fpr_diff + fnr_diff) / 2\n"
      ]
    },
    {
      "cell_type": "code",
      "execution_count": null,
      "metadata": {
        "colab": {
          "base_uri": "https://localhost:8080/"
        },
        "id": "S_MxO4GhuPfb",
        "outputId": "60fb769c-8145-4700-c374-e9857bcf1ce0"
      },
      "outputs": [
        {
          "data": {
            "text/plain": [
              "(0.06964285714285717, 0.125, 0.014285714285714346)"
            ]
          },
          "execution_count": 50,
          "metadata": {},
          "output_type": "execute_result"
        }
      ],
      "source": [
        "equalized_odds,fpr_diff,fnr_diff"
      ]
    },
    {
      "cell_type": "code",
      "execution_count": null,
      "metadata": {
        "id": "IYcW_aM6uoOX"
      },
      "outputs": [],
      "source": [
        "X = df.drop('Target', axis=1)\n",
        "y = df['Target']\n",
        "X_train, X_test, y_train, y_test = train_test_split(X, y, test_size=0.2, random_state=42)\n",
        "knn = KNeighborsClassifier(n_neighbors=5)\n",
        "knn.fit(X_train, y_train)\n",
        "y_pred = knn.predict(X_test)\n",
        "y_pred_prob = knn.predict_proba(X_test)"
      ]
    },
    {
      "cell_type": "code",
      "execution_count": null,
      "metadata": {
        "id": "VZQcIMC95Q7d"
      },
      "outputs": [],
      "source": [
        "y_test_0 = y_test[X_test['Sex'] == 0]\n",
        "y_pred_0 = y_pred[X_test['Sex'] == 0]\n",
        "confusion_matrix_0 = confusion_matrix(y_test_0, y_pred_0)\n",
        "\n",
        "y_test_1 = y_test[X_test['Sex'] == 1]\n",
        "y_pred_1 = y_pred[X_test['Sex'] == 1]\n",
        "confusion_matrix_1 = confusion_matrix(y_test_1, y_pred_1)\n",
        "\n",
        "fpr_0 = confusion_matrix_0[0, 1] / (confusion_matrix_0[0, 1] + confusion_matrix_0[0, 0])   # FP / FP+TN\n",
        "fnr_0 = confusion_matrix_0[1, 0] / (confusion_matrix_0[1, 1] + confusion_matrix_0[1, 0])   # FN / TP+FP\n",
        "\n",
        "fpr_1 = confusion_matrix_1[0, 1] / (confusion_matrix_1[0, 1] + confusion_matrix_1[0, 0])\n",
        "fnr_1 = confusion_matrix_1[1, 0] / (confusion_matrix_1[1, 1] + confusion_matrix_1[1, 0])\n",
        "\n",
        "fpr_diff = abs(fpr_0 - fpr_1)\n",
        "fnr_diff = abs(fnr_0 - fnr_1)\n",
        "\n",
        "equalized_odds = (fpr_diff + fnr_diff) / 2"
      ]
    },
    {
      "cell_type": "code",
      "execution_count": null,
      "metadata": {
        "colab": {
          "base_uri": "https://localhost:8080/"
        },
        "id": "8wgFWiUy5bcD",
        "outputId": "5e3f284f-ae09-4e51-ccac-5a40d38d55c6"
      },
      "outputs": [
        {
          "data": {
            "text/plain": [
              "(0.11345988286081944, 0.10000559621619551, 0.12691416950544337)"
            ]
          },
          "execution_count": 15,
          "metadata": {},
          "output_type": "execute_result"
        }
      ],
      "source": [
        "equalized_odds,fpr_diff,fnr_diff"
      ]
    },
    {
      "cell_type": "code",
      "execution_count": null,
      "metadata": {
        "id": "5pct5pYC5z1X"
      },
      "outputs": [],
      "source": [
        "from scipy.stats import wasserstein_distance"
      ]
    },
    {
      "cell_type": "code",
      "execution_count": null,
      "metadata": {
        "colab": {
          "base_uri": "https://localhost:8080/"
        },
        "id": "OWcLewVjba94",
        "outputId": "0d311750-be7d-4481-aad1-0967f4734e75"
      },
      "outputs": [
        {
          "name": "stdout",
          "output_type": "stream",
          "text": [
            "Wasserstein distance between Adult and German datasets: 155.3401997491259\n"
          ]
        }
      ],
      "source": [
        "distance = wasserstein_distance(df.values.ravel(), adult_df.values.ravel())\n",
        "\n",
        "print(\"Wasserstein distance between Adult and German datasets:\", distance)"
      ]
    },
    {
      "cell_type": "code",
      "execution_count": null,
      "metadata": {
        "colab": {
          "base_uri": "https://localhost:8080/"
        },
        "id": "chznbI7OblH-",
        "outputId": "993eaebc-7473-4ac2-93d0-94e8f280f18c"
      },
      "outputs": [
        {
          "data": {
            "text/plain": [
              "(Index(['Checking-Account', 'Duration', 'Credit-history', 'Purpose',\n",
              "        'Credit-amount', 'Savings-account', 'Present-employment',\n",
              "        'Installment-rate', 'Status/sex', 'Other-debtors', 'Present-residence',\n",
              "        'Property', 'Age', 'Other-installment', 'Housing', 'Existing-credits',\n",
              "        'Job', 'liable', 'Telephone', 'Foreign-worker', 'target'],\n",
              "       dtype='object'),\n",
              " Index(['Age', 'Workclass', 'fnlwgt', 'Education', 'Education-Num',\n",
              "        'Martial Status', 'Occupation', 'Relationship', 'Race', 'Sex',\n",
              "        'Capital Gain', 'Capital Loss', 'Hours per week', 'Country', 'Target'],\n",
              "       dtype='object'))"
            ]
          },
          "execution_count": 14,
          "metadata": {},
          "output_type": "execute_result"
        }
      ],
      "source": [
        "df.columns,adult_df.columns"
      ]
    },
    {
      "cell_type": "code",
      "execution_count": null,
      "metadata": {
        "id": "LORdEnwbQ_ar"
      },
      "outputs": [],
      "source": [
        "import pandas as pd\n",
        "import seaborn as sns\n",
        "import matplotlib.pyplot as plt\n",
        "\n",
        "# Assuming you have two DataFrames: df1 and df2\n",
        "\n",
        "# Calculate the correlation matrix between df1 and df2\n",
        "correlation_matrix = pd.concat([df, adult_df], axis=1).corr()\n",
        "\n",
        "# Create a heatmap of the correlation matrix\n",
        "sns.heatmap(correlation_matrix, annot=True)\n",
        "\n",
        "# Set the title of the heatmap\n",
        "plt.title('Correlation Heatmap')\n",
        "\n",
        "# Display the heatmap\n",
        "plt.show()"
      ]
    },
    {
      "cell_type": "code",
      "execution_count": null,
      "metadata": {
        "id": "CYzqmG9Vr64m"
      },
      "outputs": [],
      "source": [
        "correlation_matrix = pd.concat([df, adult_df], axis=1).corr()\n",
        "correlation_matrix"
      ]
    },
    {
      "cell_type": "code",
      "execution_count": null,
      "metadata": {
        "id": "zHMcU0vts2IL"
      },
      "outputs": [],
      "source": [
        "pd.set_option('display.max_columns', None)\n",
        "pd.set_option('display.max_rows', None)\n",
        "\n",
        "# Set the maximum column width to display full content\n",
        "pd.set_option('display.max_colwidth', None)"
      ]
    },
    {
      "cell_type": "code",
      "execution_count": null,
      "metadata": {
        "colab": {
          "base_uri": "https://localhost:8080/"
        },
        "id": "Zvr5e0AOtaGA",
        "outputId": "1b1b75c3-d8bf-4f06-87de-7ad486c03713"
      },
      "outputs": [
        {
          "name": "stdout",
          "output_type": "stream",
          "text": [
            "Second largest value in column 'Checking-Account': 0.22286685996768088\n",
            "Second largest value in column 'Duration': 0.6249841983009851\n",
            "Second largest value in column 'Credit-history': 0.43706576967471\n",
            "Second largest value in column 'Purpose': 0.14749187118904739\n",
            "Second largest value in column 'Credit-amount': 0.6249841983009851\n",
            "Second largest value in column 'Savings-account': 0.22286685996768088\n",
            "Second largest value in column 'Present-employment': 0.24508074505937855\n",
            "Second largest value in column 'Installment-rate': 0.12616130675235002\n",
            "Second largest value in column 'Status/sex': 0.12216484500751058\n",
            "Second largest value in column 'Other-debtors': 0.11799942103780697\n",
            "Second largest value in column 'Present-residence': 0.24508074505937855\n",
            "Second largest value in column 'Property': 0.34521863937624375\n",
            "Second largest value in column 'Age': 0.23559598041304805\n",
            "Second largest value in column 'Other-installment': 0.12197340167211282\n",
            "Second largest value in column 'Housing': 0.34521863937624375\n",
            "Second largest value in column 'Existing-credits': 0.43706576967471\n",
            "Second largest value in column 'Job': 0.3830221593449533\n",
            "Second largest value in column 'liable': 0.12216484500751058\n",
            "Second largest value in column 'Telephone': 0.3830221593449533\n",
            "Second largest value in column 'Foreign-worker': 0.11799942103780697\n",
            "Second largest value in column 'target': 0.2149266654418903\n",
            "Second largest value in column 'Workclass': 0.25489181954881973\n",
            "Second largest value in column 'fnlwgt': 0.05216594285618394\n",
            "Second largest value in column 'Education': 0.35915294241096835\n",
            "Second largest value in column 'Education-Num': 0.35915294241096835\n",
            "Second largest value in column 'Martial Status': 0.18545097006023753\n",
            "Second largest value in column 'Occupation': 0.25489181954881973\n",
            "Second largest value in column 'Relationship': 0.18545097006023753\n",
            "Second largest value in column 'Race': 0.13785189364823341\n",
            "Second largest value in column 'Sex': 0.22930914902631136\n",
            "Second largest value in column 'Capital Gain': 0.22332881819538225\n",
            "Second largest value in column 'Capital Loss': 0.15052631177035317\n",
            "Second largest value in column 'Hours per week': 0.2296890656708076\n",
            "Second largest value in column 'Country': 0.13785189364823341\n",
            "Second largest value in column 'Target': 0.3351539526909416\n"
          ]
        }
      ],
      "source": [
        "duplicate_columns = correlation_matrix.columns[correlation_matrix.columns.duplicated()]\n",
        "correlation_matrix = correlation_matrix.loc[:, ~correlation_matrix.columns.duplicated()]\n",
        "\n",
        "for column in correlation_matrix.columns:\n",
        "    sorted_column = correlation_matrix[column].sort_values(ascending=False)\n",
        "\n",
        "    # Retrieve the second-largest value\n",
        "    second_largest = sorted_column.iloc[1]\n",
        "    print(f\"Second largest value in column '{column}': {second_largest}\")"
      ]
    },
    {
      "cell_type": "code",
      "execution_count": null,
      "metadata": {
        "id": "eqC5-84pt0s5"
      },
      "outputs": [],
      "source": [
        "import pandas as pd\n",
        "features = [\"A1\",\"A2\",\"A3\",\"A4\",\"A5\",\"A6\",\"A7\",\n",
        "            \"A8\",\"A9\",\"A10\",\"A11\",\"A12\",\"A13\",\"A14\",\"A15\",\"A16\"]\n",
        "credit_df = pd.read_csv('crx.data', sep=',', header=None,names=features)\n"
      ]
    },
    {
      "cell_type": "code",
      "execution_count": null,
      "metadata": {
        "colab": {
          "base_uri": "https://localhost:8080/"
        },
        "id": "JwqbwTX6wfZG",
        "outputId": "0062bf9b-5657-48c6-8a1d-a5ccc5a7dcb2"
      },
      "outputs": [
        {
          "data": {
            "text/plain": [
              "Index(['A1', 'A2', 'A3', 'A4', 'A5', 'A6', 'A7', 'A8', 'A9', 'A10', 'A11',\n",
              "       'A12', 'A13', 'A14', 'A15', 'A16'],\n",
              "      dtype='object')"
            ]
          },
          "execution_count": 61,
          "metadata": {},
          "output_type": "execute_result"
        }
      ],
      "source": [
        "credit_df.columns"
      ]
    },
    {
      "cell_type": "code",
      "execution_count": null,
      "metadata": {
        "id": "hf5vFQK7_Oi1"
      },
      "outputs": [],
      "source": [
        "from sklearn.preprocessing import LabelEncoder\n",
        "\n",
        "# Create an instance of LabelEncoder\n",
        "label_encoder = LabelEncoder()\n",
        "\n",
        "categorical_cols = [\"A1\", \"A4\", \"A5\",\"A6\",\"A7\",\"A9\",\"A10\",\"A12\",\"A13\",\"A16\"]\n",
        "for col in categorical_cols:\n",
        "    credit_df[col] = label_encoder.fit_transform(credit_df[col])\n",
        "\n",
        "from sklearn.preprocessing import StandardScaler\n",
        "scaler = StandardScaler()\n",
        "\n",
        "numerical_cols = [\"A2\",\"A3\",\"A8\",\"A11\",\"A14\",\"A15\"]\n",
        "credit_df.replace('?', np.nan, inplace=True)\n",
        "\n",
        "# Convert numerical columns to float\n",
        "credit_df[numerical_cols] = credit_df[numerical_cols].astype(float)\n",
        "# Apply standard scaling to numerical columns\n",
        "credit_df[numerical_cols] = scaler.fit_transform(credit_df[numerical_cols])"
      ]
    },
    {
      "cell_type": "code",
      "execution_count": null,
      "metadata": {
        "colab": {
          "base_uri": "https://localhost:8080/"
        },
        "id": "pMt0NuDcC3c4",
        "outputId": "c42afc7b-652f-4c59-cd62-0294caa0cb40"
      },
      "outputs": [
        {
          "name": "stdout",
          "output_type": "stream",
          "text": [
            "Wasserstein distance between Credit and German datasets: 157.52199349727832\n"
          ]
        }
      ],
      "source": [
        "distance = wasserstein_distance(credit_df.values.ravel(), df.values.ravel())\n",
        "\n",
        "print(\"Wasserstein distance between Credit and German datasets:\", distance)\n"
      ]
    },
    {
      "cell_type": "code",
      "execution_count": null,
      "metadata": {
        "id": "IxZKG4fWT1eh"
      },
      "outputs": [],
      "source": [
        "  X = df.drop('target', axis=1)\n",
        "  y = df['target']\n",
        "\n",
        "  X_train, X_test, y_train, y_test = train_test_split(X, y, test_size=0.3, random_state=0)"
      ]
    },
    {
      "cell_type": "code",
      "execution_count": null,
      "metadata": {
        "colab": {
          "base_uri": "https://localhost:8080/"
        },
        "id": "LmlH9nw4UCT2",
        "outputId": "38ea80b2-873d-4de0-88ad-df3c48d5cd6c"
      },
      "outputs": [
        {
          "name": "stdout",
          "output_type": "stream",
          "text": [
            "Wasserstein distance between Train and Test of German datasets: 6.4883095238097495\n"
          ]
        }
      ],
      "source": [
        "distance = wasserstein_distance(X_train.values.ravel(), X_test.values.ravel())\n",
        "\n",
        "print(\"Wasserstein distance between Train and Test of German datasets:\", distance)"
      ]
    },
    {
      "cell_type": "code",
      "execution_count": null,
      "metadata": {
        "id": "f5FCd863UYHd"
      },
      "outputs": [],
      "source": [
        "  X = adult_df.drop('Target', axis=1)\n",
        "  y = adult_df['Target']\n",
        "\n",
        "  X_train, X_test, y_train, y_test = train_test_split(X, y, test_size=0.3, random_state=0)"
      ]
    },
    {
      "cell_type": "code",
      "execution_count": null,
      "metadata": {
        "colab": {
          "base_uri": "https://localhost:8080/"
        },
        "id": "C45AHqdGUbJw",
        "outputId": "fd238164-6de5-4320-f9de-64d8ed008895"
      },
      "outputs": [
        {
          "name": "stdout",
          "output_type": "stream",
          "text": [
            "Wasserstein distance between Train and Test of Adult datasets: 0.01193523696506496\n"
          ]
        }
      ],
      "source": [
        "distance = wasserstein_distance(X_train.values.ravel(), X_test.values.ravel())\n",
        "\n",
        "print(\"Wasserstein distance between Train and Test of Adult datasets:\", distance)"
      ]
    },
    {
      "cell_type": "code",
      "execution_count": null,
      "metadata": {
        "colab": {
          "base_uri": "https://localhost:8080/"
        },
        "id": "z24O7vVHVzN4",
        "outputId": "ad4d181c-fb0f-406e-e2cf-92affd38982e"
      },
      "outputs": [
        {
          "name": "stdout",
          "output_type": "stream",
          "text": [
            "Wasserstein distance between Train and Test of Adult datasets: inf\n"
          ]
        }
      ],
      "source": [
        "from scipy.spatial import distance\n",
        "\n",
        "distance = distance.jensenshannon(X_train.head(1000).values.ravel(), X_test.head(1000).values.ravel())\n",
        "\n",
        "print(\"Jensen distance between Train and Test of Adult datasets:\", distance)"
      ]
    },
    {
      "cell_type": "code",
      "execution_count": null,
      "metadata": {
        "colab": {
          "base_uri": "https://localhost:8080/"
        },
        "id": "sflfINUVXQ8P",
        "outputId": "9e475799-fc6c-4a3a-d9e9-1ea03e209ced"
      },
      "outputs": [
        {
          "name": "stdout",
          "output_type": "stream",
          "text": [
            "Jensen-Shannon Divergence between the two datasets: 1.6137764472413293e-06\n"
          ]
        }
      ],
      "source": [
        "import numpy as np\n",
        "import pandas as pd\n",
        "from scipy.stats import gaussian_kde\n",
        "\n",
        "def jensen_shannon_divergence(p, q):\n",
        "    p = np.asarray(p, dtype=float)\n",
        "    q = np.asarray(q, dtype=float)\n",
        "    epsilon = 1e-8\n",
        "    p = np.maximum(p, epsilon)\n",
        "    q = np.maximum(q, epsilon)\n",
        "    p /= np.sum(p)\n",
        "    q /= np.sum(q)\n",
        "\n",
        "    avg_distribution = 0.5 * (p + q)\n",
        "    jsd = 0.5 * (kl_divergence(p, avg_distribution) + kl_divergence(q, avg_distribution))\n",
        "\n",
        "    return jsd\n",
        "\n",
        "def kl_divergence(p, q):\n",
        "    p = np.asarray(p, dtype=float)\n",
        "    q = np.asarray(q, dtype=float)\n",
        "\n",
        "    if not np.all(p >= 0) or not np.isclose(np.sum(p), 1.0):\n",
        "        raise ValueError(\"Invalid input: 'p' must be a valid probability distribution.\")\n",
        "    if not np.all(q >= 0) or not np.isclose(np.sum(q), 1.0):\n",
        "        raise ValueError(\"Invalid input: 'q' must be a valid probability distribution.\")\n",
        "\n",
        "    if p.shape != q.shape:\n",
        "        raise ValueError(\"Both probability distributions must have the same shape.\")\n",
        "\n",
        "    kl_div = np.sum(np.where(p != 0, p * np.log(p / q), 0))\n",
        "\n",
        "    return kl_div\n",
        "\n",
        "dataset1_values = X_train.values\n",
        "dataset2_values = X_test.values\n",
        "\n",
        "kde_dataset1 = gaussian_kde(dataset1_values.T)\n",
        "kde_dataset2 = gaussian_kde(dataset2_values.T)\n",
        "\n",
        "num_samples = 10000\n",
        "samples_dataset1 = kde_dataset1.resample(num_samples)\n",
        "samples_dataset2 = kde_dataset2.resample(num_samples)\n",
        "\n",
        "p_distribution = np.mean(samples_dataset1, axis=1)\n",
        "q_distribution = np.mean(samples_dataset2, axis=1)\n",
        "\n",
        "js_divergence_value = jensen_shannon_divergence(p_distribution, q_distribution)\n",
        "\n",
        "print(\"Jensen-Shannon Divergence between the two datasets:\", js_divergence_value)"
      ]
    },
    {
      "cell_type": "code",
      "execution_count": null,
      "metadata": {
        "colab": {
          "base_uri": "https://localhost:8080/"
        },
        "id": "9nNaR5otBZCn",
        "outputId": "c2327937-60ad-43ed-d362-9ecab4e848bf"
      },
      "outputs": [
        {
          "name": "stdout",
          "output_type": "stream",
          "text": [
            "Jensen-Shannon Divergence between the two datasets: 1.2640880286392417e-06\n"
          ]
        }
      ],
      "source": [
        "X = df.drop('target', axis=1)\n",
        "y = df['target']\n",
        "\n",
        "X_train, X_test, y_train, y_test = train_test_split(X, y, test_size=0.3, random_state=0)\n",
        "\n",
        "dataset1_values = X_train.values\n",
        "dataset2_values = X_test.values\n",
        "\n",
        "kde_dataset1 = gaussian_kde(dataset1_values.T)\n",
        "kde_dataset2 = gaussian_kde(dataset2_values.T)\n",
        "\n",
        "num_samples = 10000\n",
        "samples_dataset1 = kde_dataset1.resample(num_samples)\n",
        "samples_dataset2 = kde_dataset2.resample(1000)\n",
        "\n",
        "p_distribution = np.mean(samples_dataset1, axis=1)\n",
        "q_distribution = np.mean(samples_dataset2, axis=1)\n",
        "\n",
        "js_divergence_value = jensen_shannon_divergence(p_distribution, q_distribution)\n",
        "\n",
        "print(\"Jensen-Shannon Divergence between the two datasets:\", js_divergence_value)"
      ]
    },
    {
      "cell_type": "code",
      "execution_count": null,
      "metadata": {
        "colab": {
          "base_uri": "https://localhost:8080/"
        },
        "id": "95-7P74xbhmd",
        "outputId": "4c0ddbfd-2de0-42ac-85b5-23d3efea2aba"
      },
      "outputs": [
        {
          "name": "stdout",
          "output_type": "stream",
          "text": [
            "                    Checking-Account  Duration  Credit-history   Purpose  \\\n",
            "Checking-Account            1.000000 -0.072013        0.192191  0.028783   \n",
            "Duration                   -0.072013  1.000000       -0.077186  0.147492   \n",
            "Credit-history              0.192191 -0.077186        1.000000 -0.090336   \n",
            "Purpose                     0.028783  0.147492       -0.090336  1.000000   \n",
            "Credit-amount              -0.042705  0.624984       -0.059905  0.068474   \n",
            "Savings-account             0.222867  0.047661        0.039058 -0.018684   \n",
            "Present-employment          0.106339  0.057381        0.138225  0.016013   \n",
            "Installment-rate           -0.005280  0.074749        0.044375  0.048369   \n",
            "Status/sex                  0.043261  0.014789        0.042171  0.000157   \n",
            "Other-debtors              -0.127737 -0.024490       -0.040676 -0.017607   \n",
            "Present-residence          -0.042234  0.034067        0.063198 -0.038221   \n",
            "Property                   -0.032260  0.303971       -0.053777  0.010966   \n",
            "Age                         0.031808 -0.036128        0.079418 -0.020402   \n",
            "Other-installment           0.046841 -0.054884        0.121973 -0.096612   \n",
            "Housing                     0.022424  0.157049        0.062095  0.018391   \n",
            "Existing-credits            0.076005 -0.011284        0.437066  0.054935   \n",
            "Job                         0.040663  0.210910        0.010350  0.008085   \n",
            "liable                     -0.014145 -0.023834        0.011550 -0.032577   \n",
            "Telephone                   0.066296  0.164718        0.052370  0.078371   \n",
            "Foreign-worker             -0.026758 -0.138196        0.013873 -0.099725   \n",
            "target                     -0.350847  0.214927       -0.228785  0.017979   \n",
            "\n",
            "                    Credit-amount  Savings-account  Present-employment  \\\n",
            "Checking-Account        -0.042705         0.222867            0.106339   \n",
            "Duration                 0.624984         0.047661            0.057381   \n",
            "Credit-history          -0.059905         0.039058            0.138225   \n",
            "Purpose                  0.068474        -0.018684            0.016013   \n",
            "Credit-amount            1.000000         0.064630           -0.008367   \n",
            "Savings-account          0.064630         1.000000            0.120950   \n",
            "Present-employment      -0.008367         0.120950            1.000000   \n",
            "Installment-rate        -0.271316         0.021993            0.126161   \n",
            "Status/sex              -0.016091         0.017349            0.111278   \n",
            "Other-debtors           -0.027832        -0.105069           -0.008116   \n",
            "Present-residence        0.028926         0.091424            0.245081   \n",
            "Property                 0.311599         0.018948            0.087187   \n",
            "Age                     -0.000638         0.056717            0.206238   \n",
            "Other-installment       -0.046008         0.001908           -0.040154   \n",
            "Housing                  0.135632         0.006505            0.111126   \n",
            "Existing-credits         0.020795        -0.021644            0.125791   \n",
            "Job                      0.285385         0.011709            0.101225   \n",
            "liable                   0.017142         0.027514            0.097192   \n",
            "Telephone                0.276995         0.087208            0.060518   \n",
            "Foreign-worker          -0.050050         0.007095           -0.027232   \n",
            "target                   0.154739        -0.178943           -0.116002   \n",
            "\n",
            "                    Installment-rate  Status/sex  Other-debtors  ...  \\\n",
            "Checking-Account           -0.005280    0.043261      -0.127737  ...   \n",
            "Duration                    0.074749    0.014789      -0.024490  ...   \n",
            "Credit-history              0.044375    0.042171      -0.040676  ...   \n",
            "Purpose                     0.048369    0.000157      -0.017607  ...   \n",
            "Credit-amount              -0.271316   -0.016091      -0.027832  ...   \n",
            "Savings-account             0.021993    0.017349      -0.105069  ...   \n",
            "Present-employment          0.126161    0.111278      -0.008116  ...   \n",
            "Installment-rate            1.000000    0.119308      -0.011398  ...   \n",
            "Status/sex                  0.119308    1.000000       0.050634  ...   \n",
            "Other-debtors              -0.011398    0.050634       1.000000  ...   \n",
            "Present-residence           0.049302   -0.027269      -0.025678  ...   \n",
            "Property                    0.053391   -0.006940      -0.155450  ...   \n",
            "Age                         0.038891   -0.014393      -0.005984  ...   \n",
            "Other-installment          -0.000983   -0.036765      -0.059023  ...   \n",
            "Housing                     0.089405    0.099579      -0.065889  ...   \n",
            "Existing-credits            0.021669    0.064672      -0.025447  ...   \n",
            "Job                         0.097755   -0.011956      -0.057963  ...   \n",
            "liable                     -0.071207    0.122165       0.020400  ...   \n",
            "Telephone                   0.014413    0.027275      -0.075035  ...   \n",
            "Foreign-worker             -0.090024    0.065618       0.117999  ...   \n",
            "target                      0.072404   -0.088184      -0.025137  ...   \n",
            "\n",
            "                    Property       Age  Other-installment   Housing  \\\n",
            "Checking-Account   -0.032260  0.031808           0.046841  0.022424   \n",
            "Duration            0.303971 -0.036128          -0.054884  0.157049   \n",
            "Credit-history     -0.053777  0.079418           0.121973  0.062095   \n",
            "Purpose             0.010966 -0.020402          -0.096612  0.018391   \n",
            "Credit-amount       0.311599 -0.000638          -0.046008  0.135632   \n",
            "Savings-account     0.018948  0.056717           0.001908  0.006505   \n",
            "Present-employment  0.087187  0.206238          -0.040154  0.111126   \n",
            "Installment-rate    0.053391  0.038891          -0.000983  0.089405   \n",
            "Status/sex         -0.006940 -0.014393          -0.036765  0.099579   \n",
            "Other-debtors      -0.155450 -0.005984          -0.059023 -0.065889   \n",
            "Present-residence   0.147231  0.235596           0.002089  0.011941   \n",
            "Property            1.000000  0.040513          -0.090033  0.345219   \n",
            "Age                 0.040513  1.000000          -0.030694  0.212743   \n",
            "Other-installment  -0.090033 -0.030694           1.000000 -0.072299   \n",
            "Housing             0.345219  0.212743          -0.072299  1.000000   \n",
            "Existing-credits   -0.007765  0.091595          -0.048442  0.048591   \n",
            "Job                 0.276149 -0.025607          -0.004775  0.107191   \n",
            "liable              0.011872  0.012721          -0.076891  0.114508   \n",
            "Telephone           0.196802  0.059986          -0.019361  0.102410   \n",
            "Foreign-worker     -0.132462 -0.005777           0.015211 -0.063582   \n",
            "target              0.142612 -0.056086          -0.109844 -0.019315   \n",
            "\n",
            "                    Existing-credits       Job    liable  Telephone  \\\n",
            "Checking-Account            0.076005  0.040663 -0.014145   0.066296   \n",
            "Duration                   -0.011284  0.210910 -0.023834   0.164718   \n",
            "Credit-history              0.437066  0.010350  0.011550   0.052370   \n",
            "Purpose                     0.054935  0.008085 -0.032577   0.078371   \n",
            "Credit-amount               0.020795  0.285385  0.017142   0.276995   \n",
            "Savings-account            -0.021644  0.011709  0.027514   0.087208   \n",
            "Present-employment          0.125791  0.101225  0.097192   0.060518   \n",
            "Installment-rate            0.021669  0.097755 -0.071207   0.014413   \n",
            "Status/sex                  0.064672 -0.011956  0.122165   0.027275   \n",
            "Other-debtors              -0.025447 -0.057963  0.020400  -0.075035   \n",
            "Present-residence           0.089625  0.012655  0.042643   0.095359   \n",
            "Property                   -0.007765  0.276149  0.011872   0.196802   \n",
            "Age                         0.091595 -0.025607  0.012721   0.059986   \n",
            "Other-installment          -0.048442 -0.004775 -0.076891  -0.019361   \n",
            "Housing                     0.048591  0.107191  0.114508   0.102410   \n",
            "Existing-credits            1.000000 -0.026321  0.109667   0.065553   \n",
            "Job                        -0.026321  1.000000 -0.093559   0.383022   \n",
            "liable                      0.109667 -0.093559  1.000000  -0.014753   \n",
            "Telephone                   0.065553  0.383022 -0.014753   1.000000   \n",
            "Foreign-worker             -0.009717 -0.100944  0.077071  -0.107401   \n",
            "target                     -0.045732  0.032735 -0.003015  -0.036466   \n",
            "\n",
            "                    Foreign-worker    target  \n",
            "Checking-Account         -0.026758 -0.350847  \n",
            "Duration                 -0.138196  0.214927  \n",
            "Credit-history            0.013873 -0.228785  \n",
            "Purpose                  -0.099725  0.017979  \n",
            "Credit-amount            -0.050050  0.154739  \n",
            "Savings-account           0.007095 -0.178943  \n",
            "Present-employment       -0.027232 -0.116002  \n",
            "Installment-rate         -0.090024  0.072404  \n",
            "Status/sex                0.065618 -0.088184  \n",
            "Other-debtors             0.117999 -0.025137  \n",
            "Present-residence        -0.054097  0.002967  \n",
            "Property                 -0.132462  0.142612  \n",
            "Age                      -0.005777 -0.056086  \n",
            "Other-installment         0.015211 -0.109844  \n",
            "Housing                  -0.063582 -0.019315  \n",
            "Existing-credits         -0.009717 -0.045732  \n",
            "Job                      -0.100944  0.032735  \n",
            "liable                    0.077071 -0.003015  \n",
            "Telephone                -0.107401 -0.036466  \n",
            "Foreign-worker            1.000000 -0.082079  \n",
            "target                   -0.082079  1.000000  \n",
            "\n",
            "[21 rows x 21 columns]\n"
          ]
        }
      ],
      "source": [
        "correlation_matrix = df.corr()\n",
        "\n",
        "# Print the correlation matrix\n",
        "print(correlation_matrix)"
      ]
    },
    {
      "cell_type": "code",
      "execution_count": null,
      "metadata": {
        "colab": {
          "base_uri": "https://localhost:8080/",
          "height": 1000
        },
        "id": "FuUyFg65k8EE",
        "outputId": "8afdfb85-f8d0-4130-b2b6-defe32e3109d"
      },
      "outputs": [
        {
          "data": {
            "image/png": "[encoded data removed]",
            "text/plain": [
              "<Figure size 1800x1600 with 2 Axes>"
            ]
          },
          "metadata": {},
          "output_type": "display_data"
        }
      ],
      "source": [
        "import seaborn as sns\n",
        "import matplotlib.pyplot as plt\n",
        "\n",
        "plt.figure(figsize=(18, 16))\n",
        "sns.heatmap(correlation_matrix, annot=True, cmap='coolwarm', vmin=-1, vmax=1)\n",
        "plt.title('Correlation Heatmap')\n",
        "plt.show()"
      ]
    },
    {
      "cell_type": "code",
      "execution_count": null,
      "metadata": {
        "id": "HsYu2bdAlRLr"
      },
      "outputs": [],
      "source": []
    }
  ],
  "metadata": {
    "colab": {
      "provenance": []
    },
    "kernelspec": {
      "display_name": "Python 3",
      "name": "python3"
    },
    "language_info": {
      "codemirror_mode": {
        "name": "ipython",
        "version": 3
      },
      "file_extension": ".py",
      "mimetype": "text/x-python",
      "name": "python",
      "nbconvert_exporter": "python",
      "pygments_lexer": "ipython3",
      "version": "3.10.12"
    }
  },
  "nbformat": 4,
  "nbformat_minor": 0
}
